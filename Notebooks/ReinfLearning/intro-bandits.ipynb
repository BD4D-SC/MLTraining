{
 "cells": [
  {
   "cell_type": "markdown",
   "metadata": {
    "slideshow": {
     "slide_type": "slide"
    }
   },
   "source": [
    "#### Machine Learning for Data Science, CERFACS, May 2019\n",
    "\n",
    "## Introduction to bandit problems and algorithms"
   ]
  },
  {
   "cell_type": "code",
   "execution_count": 1,
   "metadata": {
    "collapsed": true,
    "scrolled": false
   },
   "outputs": [],
   "source": [
    "%matplotlib inline\n",
    "from matplotlib.pyplot import *\n",
    "from math import *\n",
    "from numpy import *\n",
    "from numpy.random import *\n",
    "from scipy.misc import *\n",
    "from scipy.stats import *"
   ]
  },
  {
   "cell_type": "markdown",
   "metadata": {},
   "source": [
    "In the sequel we consider the stochastic bandit problem with only two actions $0$ and $1$. We assume that their rewards are Bernoulli random variables with parameters $\\mu_0 = 0.6$ and $\\mu_1 = 0.4$ (so that action $0$ is optimal, but we have to learn it from experience!).\n",
    "\n",
    "### Simulation of Bernoulli random variables:"
   ]
  },
  {
   "cell_type": "code",
   "execution_count": 2,
   "metadata": {},
   "outputs": [
    {
     "data": {
      "text/plain": [
       "array([6, 4, 4, 8, 6, 5, 4, 4, 5, 3, 3, 8, 7, 3, 5, 7, 7, 5, 7, 3, 7, 3, 5,\n",
       "       4, 2, 6, 2, 7, 5, 4, 4, 6, 5, 9, 3, 6, 3, 6, 6, 6, 5, 4, 6, 4, 5, 5])"
      ]
     },
     "execution_count": 2,
     "metadata": {},
     "output_type": "execute_result"
    }
   ],
   "source": [
    "binomial(n=10,p=0.5,size=46)"
   ]
  },
  {
   "cell_type": "code",
   "execution_count": 3,
   "metadata": {},
   "outputs": [
    {
     "data": {
      "text/plain": [
       "array([0, 1, 0, 1, 0])"
      ]
     },
     "execution_count": 3,
     "metadata": {},
     "output_type": "execute_result"
    }
   ],
   "source": [
    "binomial(n=1,p=0.5,size=5)"
   ]
  },
  {
   "cell_type": "markdown",
   "metadata": {},
   "source": [
    "### Notation:\n",
    "- The arm played by the algorithm at time $t$ is denoted by $I_t$.\n",
    "- The reward of arm $a$ at time $t$ is $g_t(a)$.\n",
    "- We write $\\hat{\\mu}_t(a)$ for the average of all the rewards obtained when playing arm $a \\in \\{0,1\\}$ from iteration $0$ up to iteration $t$.\n",
    "- We also write $T_a(t)$ for the number of times arm $a$ was played up to iteration $t$.\n",
    "- In particular, we have\n",
    "$$\\hat{\\mu}_t(a) = \\frac{1}{T_a(t)} \\sum_{k=1}^t g_k(a) \\mathbb{1}_{I_k = a}$$"
   ]
  },
  {
   "cell_type": "markdown",
   "metadata": {},
   "source": [
    "## Why stopping exploring is a bad idea if we do not know the time horizon.\n",
    "\n",
    "The \"Explore-Then-Commit\" algorithm proceeds as follows:\n",
    "- alternatively play actions $0$ and $1$ from iteration $t=0$ up to iteration $t=\\tau$\n",
    "- determine the empirical best arm\n",
    "$$A \\in \\rm{argmin}_{a \\in \\{0,1\\}} \\hat{\\mu}_{\\tau}(a)$$\n",
    "- play arm A forever.\n",
    "\n",
    "Questions:\n",
    "1. Show that, if $\\tau$ is fixed, then the (expected) regret after $T$ rounds grows linearly with $T$ when $T \\to +\\infty$ (which is very bad). Explain the title of this section.\n",
    "2. Compare the above conclusion with the theoretical result stating that the regret is only logarithmic in $T$ provided $m$ is chosen roughly like $m \\approx \\log(T \\Delta^2)/\\Delta^2$, where $\\Delta = |\\mu_0 - \\mu_1|$.\n",
    "3. Try different values for the parameters $m$, $\\mu_0$, and $\\mu_1$. Interpret the results in terms of exploration/exploitation."
   ]
  },
  {
   "cell_type": "code",
   "execution_count": 4,
   "metadata": {},
   "outputs": [
    {
     "data": {
      "text/plain": [
       "[<matplotlib.lines.Line2D at 0x190e6bf9f28>]"
      ]
     },
     "execution_count": 4,
     "metadata": {},
     "output_type": "execute_result"
    },
    {
     "data": {
      "image/png": "[encoded data removed]",
      "text/plain": [
       "<matplotlib.figure.Figure at 0x190e5152080>"
      ]
     },
     "metadata": {},
     "output_type": "display_data"
    }
   ],
   "source": [
    "m = 50\n",
    "tau = 2*m # size of exploration phase\n",
    "T = 10**4  # total number of rounds\n",
    "MC = 200    # number of Monte-Carlo experiments\n",
    "mu = [0.6,0.4]\n",
    "# Try also:\n",
    "#mu = [0.8,0.2]\n",
    "#mu = [0.51,0.49]\n",
    "mustar = max(mu)\n",
    "\n",
    "avregret = zeros(T)  # will contain an estimate of the (expected) regret R_t for all t<=T\n",
    "\n",
    "for experiment in range(MC):\n",
    "    regret = 0\n",
    "    muhat = [0,0] # after exploration phase, will contain estimates of expected rewards of arms 0 and 1\n",
    "    # exploration phase\n",
    "    for t in range(tau):\n",
    "        A = t % 2 # we choose 0 or 1 alternatively\n",
    "        r = binomial(1,mu[A]) # observed reward\n",
    "        muhat[A] += r/m\n",
    "        regret += mustar - r\n",
    "        avregret[t] += regret/MC # updates the estimate of the expected regret at time t\n",
    "    # exploitation phase: play best arm forever\n",
    "    A = argmax(muhat)\n",
    "    for t in range(tau,T):\n",
    "        r = binomial(1,mu[A]) # observed reward\n",
    "        regret += mustar - r\n",
    "        avregret[t] += regret/MC # update the estimate of the (expected) regret at time t \n",
    "    \n",
    "plot(avregret)"
   ]
  },
  {
   "cell_type": "markdown",
   "metadata": {},
   "source": [
    "## The $\\epsilon$-greedy algorithm.\n",
    "\n",
    "The \"$\\epsilon$-greedy algorithm\" proceeds as follows:\n",
    "- For the first two iterations: play actions $0$ and $1$ once\n",
    "- At each iteration $t=2,3,4,\\ldots$,\n",
    "    - with probability $1-\\epsilon_t$, play the empirical best arm\n",
    "    - with probability $\\epsilon_t$, play action $0$ or $1$ uniformly at random\n",
    "\n",
    "Questions:\n",
    "1. Show that, if $\\epsilon_t = \\min \\left\\{\\frac{c}{t},1\\right\\}$ with a large enough constant $c>0$, then the (expected) regret after $T$ rounds only grows logarithmically when $T \\to +\\infty$.\n",
    "2. What happens if we choose $\\epsilon_t=\\epsilon$ constant over time? or too small a value for $c$? (interpret the results in terms of exploration/exploitation)\n",
    "3. What is the main advantage of $\\epsilon$-greedy compared to Explore-Then-Commit? Which drawback remains?"
   ]
  },
  {
   "cell_type": "code",
   "execution_count": 5,
   "metadata": {},
   "outputs": [
    {
     "data": {
      "text/plain": [
       "[<matplotlib.lines.Line2D at 0x190e6ce1240>]"
      ]
     },
     "execution_count": 5,
     "metadata": {},
     "output_type": "execute_result"
    },
    {
     "data": {
      "image/png": "[encoded data removed]",
      "text/plain": [
       "<matplotlib.figure.Figure at 0x190e6c92860>"
      ]
     },
     "metadata": {},
     "output_type": "display_data"
    }
   ],
   "source": [
    "T = 5*10**3  # total number of rounds\n",
    "MC = 500    # number of Monte-Carlo experiments\n",
    "mu = [0.6,0.4]\n",
    "# Try also:\n",
    "#mu = [0.8,0.2]\n",
    "#mu = [0.51,0.49]\n",
    "mustar = max(mu)\n",
    "\n",
    "c = 2/0.2**2 # parameter of the algorithm (this choice is guaranteed by the theory to yield logarithmic regret)\n",
    "\n",
    "avregret = zeros(T)  # will contain an estimate of the (expected) regret R_t for all t<=T\n",
    "\n",
    "for experiment in range(MC):\n",
    "    regret = 0\n",
    "    muhat = [0,0] # after exploration phase, will contain estimates of expected rewards of arms 0 and 1\n",
    "    armcounts = [0,0] # number of draws for each arm\n",
    "    # initialization\n",
    "    for t in range(2):\n",
    "        A = t % 2 # we choose 0 or 1 alternatively\n",
    "        armcounts[A] += 1\n",
    "        r = binomial(1,mu[A]) # observed reward\n",
    "        muhat[A] += r\n",
    "        regret += mustar - r\n",
    "        avregret[t] += regret/MC # updates the estimate of the expected regret at time t\n",
    "    # exploration-exploitation phase: play epsilon-greedy\n",
    "    for t in range(2,T):\n",
    "        epsilon = min(c/t,1)\n",
    "        z = binomial(1,epsilon) # flip a biased coin (a result of 1 means we explore)\n",
    "        if z==1:\n",
    "            A = binomial(1,0.5) # A = 0 or 1 with probability 0.5\n",
    "        else:\n",
    "            A = argmax(muhat) # choose the empirically best arm (given the past observations)\n",
    "        armcounts[A] += 1\n",
    "        r = binomial(1,mu[A]) # observed reward\n",
    "        muhat[A] = (1-1/armcounts[A])*muhat[A] + r/armcounts[A]\n",
    "        regret += mustar - r\n",
    "        avregret[t] += regret/MC # update the estimate of the (expected) regret at time t \n",
    "    \n",
    "plot(avregret)"
   ]
  },
  {
   "cell_type": "markdown",
   "metadata": {},
   "source": [
    "## The UCB algorithm.\n",
    "\n",
    "The UCB-algorithm proceeds as follows:\n",
    "- For the first two iterations: play actions $0$ and $1$ once.\n",
    "- At each iteration $t=2,3,4,\\ldots$, play the arm that maximizes the Upper Confidence Bound:\n",
    "$$I_t \\in \\rm{argmax}_{a \\in \\{0,1\\}} \\left\\{\\hat{\\mu}_{t-1}(a) + \\sqrt{\\frac{2 \\log(t)}{T_a(t-1)}} \\;\\right\\}$$\n",
    "   \n",
    "Questions:\n",
    "1. Show that the (expected) regret after $T$ rounds also grows logarithmically when $T \\to +\\infty$.\n",
    "2. Compare UCB with the first two algorithms in terms of performances and of required prior knowledge."
   ]
  },
  {
   "cell_type": "code",
   "execution_count": 6,
   "metadata": {},
   "outputs": [
    {
     "data": {
      "text/plain": [
       "[<matplotlib.lines.Line2D at 0x190e6f8b198>]"
      ]
     },
     "execution_count": 6,
     "metadata": {},
     "output_type": "execute_result"
    },
    {
     "data": {
      "image/png": "[encoded data removed]",
      "text/plain": [
       "<matplotlib.figure.Figure at 0x190e6b573c8>"
      ]
     },
     "metadata": {},
     "output_type": "display_data"
    }
   ],
   "source": [
    "T = 5*10**3  # total number of rounds\n",
    "MC = 500    # number of Monte-Carlo experiments\n",
    "mu = [0.6,0.4]\n",
    "# Try also:\n",
    "#mu = [0.8,0.2]\n",
    "#mu = [0.51,0.49]\n",
    "mustar = max(mu)\n",
    "\n",
    "## NO PROBLEM-DEPENDENT PARAMETER HERE !\n",
    "# (NB: we could optimize the sqrt(2) constant, but at least sqrt(2) is universal.)\n",
    "\n",
    "avregret = zeros(T)  # will contain an estimate of the (expected) regret R_t for all t<=T\n",
    "\n",
    "for experiment in range(MC):\n",
    "    regret = 0\n",
    "    muhat = [0,0] # after exploration phase, will contain estimates of expected rewards of arms 0 and 1\n",
    "    armcounts = [0,0] # number of draws for each arm\n",
    "    # initialization\n",
    "    for t in range(2):\n",
    "        A = t % 2 # we choose 0 or 1 alternatively\n",
    "        armcounts[A] += 1\n",
    "        r = binomial(1,mu[A]) # observed reward\n",
    "        muhat[A] += r\n",
    "        regret += mustar - r\n",
    "        avregret[t] += regret/MC # updates the estimate of the expected regret at time t\n",
    "    # exploration-exploitation phase: play UCB\n",
    "    for t in range(2,T):\n",
    "        explorationbonus = sqrt(2*log(t)/armcounts)\n",
    "        A = argmax(muhat + explorationbonus) # choose arm with highest Upper Confidence Bound\n",
    "        armcounts[A] += 1\n",
    "        r = binomial(1,mu[A]) # observed reward\n",
    "        muhat[A] = (1-1/armcounts[A])*muhat[A] + r/armcounts[A]\n",
    "        regret += mustar - r\n",
    "        avregret[t] += regret/MC # update the estimate of the (expected) regret at time t \n",
    "    \n",
    "plot(avregret)"
   ]
  }
 ],
 "metadata": {
  "anaconda-cloud": {},
  "celltoolbar": "Raw Cell Format",
  "kernelspec": {
   "display_name": "Python 3",
   "language": "python",
   "name": "python3"
  },
  "language_info": {
   "codemirror_mode": {
    "name": "ipython",
    "version": 3
   },
   "file_extension": ".py",
   "mimetype": "text/x-python",
   "name": "python",
   "nbconvert_exporter": "python",
   "pygments_lexer": "ipython3",
   "version": "3.6.3"
  }
 },
 "nbformat": 4,
 "nbformat_minor": 2
}
