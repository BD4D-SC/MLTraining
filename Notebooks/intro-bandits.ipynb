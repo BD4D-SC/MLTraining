{
 "cells": [
  {
   "cell_type": "markdown",
   "metadata": {
    "slideshow": {
     "slide_type": "slide"
    }
   },
   "source": [
    "#### Machine Learning for Data Science, CERFACS, May 2019\n",
    "\n",
    "## Introduction to bandit problems and algorithms"
   ]
  },
  {
   "cell_type": "code",
   "execution_count": 2,
   "metadata": {
    "scrolled": false
   },
   "outputs": [],
   "source": [
    "%matplotlib inline\n",
    "from matplotlib.pyplot import *\n",
    "from math import *\n",
    "from numpy import *\n",
    "from numpy.random import *\n",
    "from scipy.misc import *\n",
    "from scipy.stats import *"
   ]
  },
  {
   "cell_type": "markdown",
   "metadata": {},
   "source": [
    "In the sequel we consider the stochastic bandit problem with only two actions $0$ and $1$. We assume that their rewards are Bernoulli random variables with parameters $\\mu_0 = 0.6$ and $\\mu_1 = 0.4$ (so that action $0$ is optimal, but we have to learn it from experience!).\n",
    "\n",
    "### Simulation of Bernoulli random variables:"
   ]
  },
  {
   "cell_type": "code",
   "execution_count": 3,
   "metadata": {},
   "outputs": [
    {
     "data": {
      "text/plain": [
       "array([5, 4, 8, 5, 8, 5, 4, 5, 5, 6, 8, 4, 3, 6, 4, 2, 4, 5, 2, 4, 4, 8, 3,\n",
       "       5, 7, 6, 7, 5, 7, 6, 6, 2, 5, 6, 7, 2, 7, 6, 5, 7, 8, 4, 3, 5, 4, 5])"
      ]
     },
     "execution_count": 3,
     "metadata": {},
     "output_type": "execute_result"
    }
   ],
   "source": [
    "binomial(n=10,p=0.5,size=46)"
   ]
  },
  {
   "cell_type": "code",
   "execution_count": 4,
   "metadata": {},
   "outputs": [
    {
     "data": {
      "text/plain": [
       "array([1, 1, 0, 1, 1])"
      ]
     },
     "execution_count": 4,
     "metadata": {},
     "output_type": "execute_result"
    }
   ],
   "source": [
    "binomial(n=1,p=0.5,size=5)"
   ]
  },
  {
   "cell_type": "markdown",
   "metadata": {},
   "source": [
    "### Notation:\n",
    "- The arm played by the algorithm at time $t$ is denoted by $I_t$.\n",
    "- The reward of arm $a$ at time $t$ is $g_t(a)$.\n",
    "- We write $\\hat{\\mu}_t(a)$ for the average of all the rewards obtained when playing arm $a \\in \\{0,1\\}$ from iteration $0$ up to iteration $t$.\n",
    "- We also write $T_a(t)$ for the number of times arm $a$ was played up to iteration $t$.\n",
    "- In particular, we have\n",
    "$$\\hat{\\mu}_t(a) = \\frac{1}{T_a(t)} \\sum_{k=1}^t g_k(a) \\mathbb{1}_{I_k = a}$$"
   ]
  },
  {
   "cell_type": "markdown",
   "metadata": {},
   "source": [
    "## Why \"Follow the best arm\" is a bad idea.\n",
    "\n",
    "The \"Follow the best arm\" algorithm proceeds as follows:\n",
    "- alternatively play actions $0$ and $1$ from iteration $t=0$ up to iteration $t=\\tau$\n",
    "- determine the empirical best arm\n",
    "$$A \\in \\rm{argmin}_{a \\in \\{0,1\\}} \\hat{\\mu}_{\\tau}(a)$$\n",
    "- play arm A forever.\n",
    "\n",
    "Show that, if $\\tau$ is fixed, then the expected regret after $T$ rounds grows linearly with $T$ when $T \\to +\\infty$."
   ]
  },
  {
   "cell_type": "code",
   "execution_count": 19,
   "metadata": {},
   "outputs": [
    {
     "data": {
      "text/plain": [
       "[<matplotlib.lines.Line2D at 0x1b8538c0da0>]"
      ]
     },
     "execution_count": 19,
     "metadata": {},
     "output_type": "execute_result"
    },
    {
     "data": {
      "image/png": "[encoded data removed]",
      "text/plain": [
       "<matplotlib.figure.Figure at 0x1b853879080>"
      ]
     },
     "metadata": {},
     "output_type": "display_data"
    }
   ],
   "source": [
    "m = 50\n",
    "tau = 2*m # size of exploration phase\n",
    "T = 10**4  # total number of rounds\n",
    "MC = 200    # number of Monte-Carlo experiments\n",
    "mu = [0.6,0.4]\n",
    "# Try also:\n",
    "#mu = [0.8,0.2]\n",
    "#mu = [0.51,0.49]\n",
    "mustar = max(mu)\n",
    "\n",
    "avregret = zeros(T)  # will contain an estimate of R_t for all t<=T\n",
    "\n",
    "for experiment in range(MC):\n",
    "    regret = 0\n",
    "    muhat = [0,0] # after exploration phase, will contain estimates of expected rewards of arms 0 and 1\n",
    "    # exploration phase\n",
    "    for t in range(tau):\n",
    "        A = t % 2 # we choose 0 or 1 alternatively\n",
    "        r = binomial(1,mu[A]) # observed reward\n",
    "        muhat[A] += r/m\n",
    "        regret += mustar - r\n",
    "        avregret[t] += regret/MC # updates the estimate of the expected regret at time t\n",
    "    # exploitation phase: play best arm forever\n",
    "    A = argmax(muhat)\n",
    "    for t in range(tau,T):\n",
    "        r = binomial(1,mu[A]) # observed reward\n",
    "        regret += mustar - r\n",
    "        avregret[t] += regret/MC # updates the estimate of the expected regret at time t \n",
    "    \n",
    "plot(avregret)"
   ]
  },
  {
   "cell_type": "markdown",
   "metadata": {},
   "source": [
    "## The $\\epsilon$-greedy algorithm.\n",
    "\n",
    "The \"$\\epsilon$-greedy algorithm\" proceeds as follows:\n",
    "- For the first two iterations: play actions $0$ and $1$ once\n",
    "- At each iteration $t=2,3,4,\\ldots$,\n",
    "    - with probability $1-\\epsilon_t$, play the empirical best arm\n",
    "    - with probability $\\epsilon_t$, play action $0$ or $1$ uniformly at random\n",
    "   \n",
    "Show that, if $\\epsilon_t = \\min \\left\\{\\frac{c}{t},1\\right\\}$ with a large enough constant $c$, then the expected regret after $T$ rounds only grows logarithmically when $T \\to +\\infty$."
   ]
  },
  {
   "cell_type": "code",
   "execution_count": 27,
   "metadata": {},
   "outputs": [
    {
     "data": {
      "text/plain": [
       "[<matplotlib.lines.Line2D at 0x1b853b854a8>]"
      ]
     },
     "execution_count": 27,
     "metadata": {},
     "output_type": "execute_result"
    },
    {
     "data": {
      "image/png": "[encoded data removed]",
      "text/plain": [
       "<matplotlib.figure.Figure at 0x1b8522539b0>"
      ]
     },
     "metadata": {},
     "output_type": "display_data"
    }
   ],
   "source": [
    "T = 5*10**3  # total number of rounds\n",
    "MC = 500    # number of Monte-Carlo experiments\n",
    "mu = [0.6,0.4]\n",
    "# Try also:\n",
    "#mu = [0.8,0.2]\n",
    "#mu = [0.51,0.49]\n",
    "mustar = max(mu)\n",
    "\n",
    "c = 2/0.2**2 # parameter of the algorithm\n",
    "\n",
    "avregret = zeros(T)  # will contain an estimate of R_t for all t<=T\n",
    "\n",
    "for experiment in range(MC):\n",
    "    regret = 0\n",
    "    muhat = [0,0] # after exploration phase, will contain estimates of expected rewards of arms 0 and 1\n",
    "    armcounts = [0,0] # number of draws for each arm\n",
    "    # initialization\n",
    "    for t in range(2):\n",
    "        A = t % 2 # we choose 0 or 1 alternatively\n",
    "        armcounts[A] += 1\n",
    "        r = binomial(1,mu[A]) # observed reward\n",
    "        muhat[A] += r\n",
    "        regret += mustar - r\n",
    "        avregret[t] += regret/MC # updates the estimate of the expected regret at time t\n",
    "    # exploration-exploitation phase: play epsilon-greedy\n",
    "    for t in range(2,T):\n",
    "        epsilon = min(c/t,1)\n",
    "        z = binomial(1,epsilon) # flip a biased coin (a result of 1 means we explore)\n",
    "        if z==1:\n",
    "            A = binomial(1,0.5) # A = 0 or 1 with probability 0.5\n",
    "        else:\n",
    "            A = argmax(muhat) # choose the empirical best arm (given the past observations)\n",
    "        armcounts[A] += 1\n",
    "        r = binomial(1,mu[A]) # observed reward\n",
    "        muhat[A] = (1-1/armcounts[A])*muhat[A] + r/armcounts[A]\n",
    "        regret += mustar - r\n",
    "        avregret[t] += regret/MC # updates the estimate of the expected regret at time t \n",
    "    \n",
    "plot(avregret)"
   ]
  },
  {
   "cell_type": "markdown",
   "metadata": {},
   "source": [
    "## The UCB algorithm.\n",
    "\n",
    "The UCB-algorithm proceeds as follows:\n",
    "- For the first two iterations: play actions $0$ and $1$ once\n",
    "- At each iteration $t=2,3,4,\\ldots$, play the arm that maximizes the Upper Confidence Bound:\n",
    "$$I_t \\in \\rm{argmax}_{a \\in \\{0,1\\}} \\left\\{\\hat{\\mu}_{t-1}(a) + \\sqrt{\\frac{2 \\log(t)}{T_a(t-1)}} \\;\\right\\}$$\n",
    "   \n",
    "Show that the expected regret after $T$ rounds also grows logarithmically when $T \\to +\\infty$. Compare with the first two algorithms."
   ]
  },
  {
   "cell_type": "code",
   "execution_count": 28,
   "metadata": {},
   "outputs": [
    {
     "data": {
      "text/plain": [
       "[<matplotlib.lines.Line2D at 0x1b853be3898>]"
      ]
     },
     "execution_count": 28,
     "metadata": {},
     "output_type": "execute_result"
    },
    {
     "data": {
      "image/png": "[encoded data removed]",
      "text/plain": [
       "<matplotlib.figure.Figure at 0x1b8539e74a8>"
      ]
     },
     "metadata": {},
     "output_type": "display_data"
    }
   ],
   "source": [
    "T = 5*10**3  # total number of rounds\n",
    "MC = 500    # number of Monte-Carlo experiments\n",
    "mu = [0.6,0.4]\n",
    "# Try also:\n",
    "#mu = [0.8,0.2]\n",
    "#mu = [0.51,0.49]\n",
    "mustar = max(mu)\n",
    "\n",
    "## NO PAREMETER HERE !!! ## (actually, we could introduce a parameter before the square root)\n",
    "\n",
    "avregret = zeros(T)  # will contain an estimate of R_t for all t<=T\n",
    "\n",
    "for experiment in range(MC):\n",
    "    regret = 0\n",
    "    muhat = [0,0] # after exploration phase, will contain estimates of expected rewards of arms 0 and 1\n",
    "    armcounts = [0,0] # number of draws for each arm\n",
    "    # initialization\n",
    "    for t in range(2):\n",
    "        A = t % 2 # we choose 0 or 1 alternatively\n",
    "        armcounts[A] += 1\n",
    "        r = binomial(1,mu[A]) # observed reward\n",
    "        muhat[A] += r\n",
    "        regret += mustar - r\n",
    "        avregret[t] += regret/MC # updates the estimate of the expected regret at time t\n",
    "    # exploration-exploitation phase: play UCB\n",
    "    for t in range(2,T):\n",
    "        explorationbonus = sqrt(2*log(t)/armcounts)\n",
    "        A = argmax(muhat + explorationbonus) # choose arm with highest Upper Confidence Bound\n",
    "        armcounts[A] += 1\n",
    "        r = binomial(1,mu[A]) # observed reward\n",
    "        muhat[A] = (1-1/armcounts[A])*muhat[A] + r/armcounts[A]\n",
    "        regret += mustar - r\n",
    "        avregret[t] += regret/MC # updates the estimate of the expected regret at time t \n",
    "    \n",
    "plot(avregret)"
   ]
  }
 ],
 "metadata": {
  "anaconda-cloud": {},
  "celltoolbar": "Raw Cell Format",
  "kernelspec": {
   "display_name": "Python 3",
   "language": "python",
   "name": "python3"
  },
  "language_info": {
   "codemirror_mode": {
    "name": "ipython",
    "version": 3
   },
   "file_extension": ".py",
   "mimetype": "text/x-python",
   "name": "python",
   "nbconvert_exporter": "python",
   "pygments_lexer": "ipython3",
   "version": "3.6.3"
  }
 },
 "nbformat": 4,
 "nbformat_minor": 2
}
