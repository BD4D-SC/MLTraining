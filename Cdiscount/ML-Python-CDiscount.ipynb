{
 "cells": [
  {
   "cell_type": "markdown",
   "metadata": {},
   "source": [
    "<center>\n",
    "<a href=\"http://www.insa-toulouse.fr/\" ><img src=\"http://www.math.univ-toulouse.fr/~besse/Wikistat/Images/logo-insa.jpg\" style=\"float:left; max-width: 120px; display: inline\" alt=\"INSA\"/></a> \n",
    "\n",
    "<a href=\"http://wikistat.fr/\" ><img src=\"http://www.math.univ-toulouse.fr/~besse/Wikistat/Images/wikistat.jpg\" style=\"max-width: 250px; display: inline\"  alt=\"Wikistat\"/></a>\n",
    "\n",
    "<a href=\"http://www.math.univ-toulouse.fr/\" ><img src=\"http://www.math.univ-toulouse.fr/~besse/Wikistat/Images/logo_imt.jpg\" style=\"float:right; max-width: 250px; display: inline\" alt=\"IMT\"/> </a>\n",
    "</center>\n",
    "\n",
    "# [Tutoriel d'apprentissage automatique](https://github.com/wikistat/MLTraining)"
   ]
  },
  {
   "cell_type": "markdown",
   "metadata": {},
   "source": [
    "# *NLP* et Catégorisation de Produits en <a href=\"https://www.python.org/\"><img src=\"https://upload.wikimedia.org/wikipedia/commons/thumb/f/f8/Python_logo_and_wordmark.svg/390px-Python_logo_and_wordmark.svg.png\" style=\"max-width: 120px; display: inline\" alt=\"R\"/></a> avec <a href=\"http://scikit-learn.org/stable/#\"><img src=\"http://scikit-learn.org/stable/_static/scikit-learn-logo-small.png\" style=\"max-width: 100px; display: inline\" alt=\"scikit-learn\"/></a> et <a href=\"https://radimrehurek.com/gensim/index.html\" ><img src=\"https://radimrehurek.com/gensim/_static/images/gensim.png\" style=\"max-width: 100px; display: inline\" alt=\"gensim\"/></a> \n",
    "\n",
    "#### Résumé\n",
    "Le principal objectif est d'illuster sur des vraies données les processus d'analyse de données textuelles ou de langage naturel (NLP). Plusieurs étapes sont considérées et exécutées dans l'environnement Pyhton avec le slibrairies spécialisées. Nesttoyage des textes, éliminaiton des mots inutiles, racinisation ainsi que la comparaison de différentes stratgies de vectorisation (comptage, TF-IDF, word2vect). A la suite de quoi l'onjectif de classificaiton en catégorie est atteint en comparant deux méthodes: régresison logistique et forêts aléatoires.\n",
    "\n",
    "\n",
    "## 1 Introduction\n",
    "\n",
    "Il s'agit d'une version simplifiée du concours proposé par CDiscount et paru sur le site [datascience.net](https://www.datascience.net/fr/challenge) puis Kaggle. Les données d'apprentissage sont accessibles sur demande auprès de CDiscount. Les solutions de l'échantillon test du concours ne sont pas et ne seront pas rendues publiques. Un échantillon test est donc construit pour l'usage de ce tutoriel.  L'objectif est de prévoir la catégorie d'un produit à partir de son descriptif. Seule la catégorie principale (1er niveau) est prédite au lieu des trois niveaux demandés dans le concours. L'objectif est d'illustrer sur un exemple complexe le prétraitement de données textuelles ou de langave naturel (*Natural Language Process - NLP*). La stratégie de sous ou sur échantillonnage des catégories qui permet d'améliorer la prévision n'a pas été mise en oeuvre.\n",
    "* L'exemple est présenté sur un échantillon réduit d'un million de produits au lieu des 15M initiaux\n",
    "* L'échantillon réduit peut encore l'être puis séparé en 2 parties: apprentissage et validation. \n",
    "* Les données textuelles sont  nettoyées, racinisées, vectorisées avant modélisation.\n",
    "* Deux modélisations sont estimées: logistique, forêts aléatoires.\n",
    "\n",
    "## 2 Prise en charge des données\n",
    "### 2.1 Environnement"
   ]
  },
  {
   "cell_type": "code",
   "execution_count": 1,
   "metadata": {
    "code_folding": []
   },
   "outputs": [],
   "source": [
    "#Importation des librairies utilisées\n",
    "import unicodedata \n",
    "import time\n",
    "import pandas as pd\n",
    "import numpy as np\n",
    "import random\n",
    "import nltk\n",
    "import collections\n",
    "import itertools\n",
    "import warnings\n",
    "\n",
    "import matplotlib.pyplot as plt\n",
    "import seaborn as sb\n",
    "sb.set_style(\"whitegrid\")\n",
    "\n",
    "import sklearn.model_selection as scv"
   ]
  },
  {
   "cell_type": "markdown",
   "metadata": {},
   "source": [
    "**Attetnion** Si vous utilisez la librairie `nltk` pour la première fois dans votre environnement, il est nécessaire d'exécuter la commande suivante. Cette commande permet de télécharger de nombreux corpus de texte, mais également des informations grammaticales sur différentes langues; information notamment nécessaire à l'étape de racinisation."
   ]
  },
  {
   "cell_type": "code",
   "execution_count": 2,
   "metadata": {
    "code_folding": []
   },
   "outputs": [],
   "source": [
    "# nltk.download()"
   ]
  },
  {
   "cell_type": "markdown",
   "metadata": {},
   "source": [
    "### 2.2 Lecture des données\n",
    "\n",
    "* `cdiscount_train`: 1.000.000 de lignes\n",
    "* `cdisount_test`: 50.000 lignes"
   ]
  },
  {
   "cell_type": "markdown",
   "metadata": {},
   "source": [
    "Définition d'une fonction permettant de lire le fichier d'apprentissage et de créer aléatoirement deux *data frames  `Pandas`, un pour l'apprentissage, l'autre pour le test. "
   ]
  },
  {
   "cell_type": "code",
   "execution_count": 3,
   "metadata": {
    "code_folding": []
   },
   "outputs": [],
   "source": [
    "def split_dataset(input_path, nb_line, tauxTest):\n",
    "    data_all = pd.read_csv(input_path,sep=\",\", nrows=nb_line)\n",
    "    data_all = data_all.fillna(\"\")\n",
    "    data_train, data_test = scv.train_test_split(data_all, test_size = tauxTest)\n",
    "    time_end = time.time()\n",
    "    return data_train, data_test"
   ]
  },
  {
   "cell_type": "markdown",
   "metadata": {},
   "source": [
    "La taille du fichier est limité à `nb_line=10 000` pour réduire les temps de calcul à venir. Ce nombre peut être augmenté afin de tester une amélioraiton des performances mais au prix du temps de calcul. Cette analyse systématique de l'impact de la taille de l'échantillon est développé par [Besse et al. (2017)](https://hal.archives-ouvertes.fr/hal-01350099v3) qui opèrent de plus une comparaison des performances entre R, Python et Spark. "
   ]
  },
  {
   "cell_type": "code",
   "execution_count": 4,
   "metadata": {},
   "outputs": [
    {
     "name": "stdout",
     "output_type": "stream",
     "text": [
      "Train set : 95000 elements, Test set : 5000 elements\n"
     ]
    },
    {
     "data": {
      "text/html": [
       "<div>\n",
       "<style scoped>\n",
       "    .dataframe tbody tr th:only-of-type {\n",
       "        vertical-align: middle;\n",
       "    }\n",
       "\n",
       "    .dataframe tbody tr th {\n",
       "        vertical-align: top;\n",
       "    }\n",
       "\n",
       "    .dataframe thead th {\n",
       "        text-align: right;\n",
       "    }\n",
       "</style>\n",
       "<table border=\"1\" class=\"dataframe\">\n",
       "  <thead>\n",
       "    <tr style=\"text-align: right;\">\n",
       "      <th></th>\n",
       "      <th>Categorie1</th>\n",
       "      <th>Categorie2</th>\n",
       "      <th>Categorie3</th>\n",
       "      <th>Description</th>\n",
       "      <th>Libelle</th>\n",
       "      <th>Marque</th>\n",
       "    </tr>\n",
       "  </thead>\n",
       "  <tbody>\n",
       "    <tr>\n",
       "      <th>93386</th>\n",
       "      <td>SPORT (NEW)</td>\n",
       "      <td>PECHE</td>\n",
       "      <td>CANNE A PECHE</td>\n",
       "      <td>CANNE PENN SQUADRON 215 TRAVEL BOAT Modèle: 20...</td>\n",
       "      <td>CANNE PENN SQUADRON 215 TRAVEL BOAT Modèle: 20lbs</td>\n",
       "      <td>PENN</td>\n",
       "    </tr>\n",
       "    <tr>\n",
       "      <th>94799</th>\n",
       "      <td>TELEPHONIE - GPS</td>\n",
       "      <td>ACCESSOIRE TELEPHONE</td>\n",
       "      <td>CABLE - CONNECTIQUE TELEPHONE</td>\n",
       "      <td>Cable de data compatible HTC, WIKO, NOKIA, SON...</td>\n",
       "      <td>Cable micro USB data pour LG Vu 3 F300L</td>\n",
       "      <td>AUCUNE</td>\n",
       "    </tr>\n",
       "    <tr>\n",
       "      <th>97039</th>\n",
       "      <td>BRICOLAGE - OUTILLAGE - QUINCAILLERIE</td>\n",
       "      <td>ELECTRICITE  DOMOTIQUE</td>\n",
       "      <td>BATTERIE</td>\n",
       "      <td>Specifications:Tension:14,4VCapacite:3000mAh/4...</td>\n",
       "      <td>Batterie pour Bosch type BAT041  NiMH O-Pack 1...</td>\n",
       "      <td>POWERY</td>\n",
       "    </tr>\n",
       "    <tr>\n",
       "      <th>58247</th>\n",
       "      <td>TELEPHONIE - GPS</td>\n",
       "      <td>ACCESSOIRE TELEPHONE</td>\n",
       "      <td>COQUE - BUMPER - FACADE TELEPHONE</td>\n",
       "      <td>Coque Samsung Galaxy Core i8260-i8262 – Billar...</td>\n",
       "      <td>Coque Samsung Galaxy Core i8260-i8262 – Billard…</td>\n",
       "      <td>SUTEO</td>\n",
       "    </tr>\n",
       "    <tr>\n",
       "      <th>39289</th>\n",
       "      <td>PHOTO - OPTIQUE</td>\n",
       "      <td>ACCESSOIRES PHOTO - OPTIQUE</td>\n",
       "      <td>BATTERIE PHOTO - OPTIQUE</td>\n",
       "      <td>Specifications:Tension:7,4VCapacite:10400mAh/7...</td>\n",
       "      <td>Batterie pour Sony vidéo DCR-VX2100 7,4V 10400...</td>\n",
       "      <td>POWERY</td>\n",
       "    </tr>\n",
       "  </tbody>\n",
       "</table>\n",
       "</div>"
      ],
      "text/plain": [
       "                                  Categorie1                   Categorie2  \\\n",
       "93386                            SPORT (NEW)                        PECHE   \n",
       "94799                       TELEPHONIE - GPS         ACCESSOIRE TELEPHONE   \n",
       "97039  BRICOLAGE - OUTILLAGE - QUINCAILLERIE      ELECTRICITE  DOMOTIQUE   \n",
       "58247                       TELEPHONIE - GPS         ACCESSOIRE TELEPHONE   \n",
       "39289                        PHOTO - OPTIQUE  ACCESSOIRES PHOTO - OPTIQUE   \n",
       "\n",
       "                              Categorie3  \\\n",
       "93386                      CANNE A PECHE   \n",
       "94799      CABLE - CONNECTIQUE TELEPHONE   \n",
       "97039                           BATTERIE   \n",
       "58247  COQUE - BUMPER - FACADE TELEPHONE   \n",
       "39289           BATTERIE PHOTO - OPTIQUE   \n",
       "\n",
       "                                             Description  \\\n",
       "93386  CANNE PENN SQUADRON 215 TRAVEL BOAT Modèle: 20...   \n",
       "94799  Cable de data compatible HTC, WIKO, NOKIA, SON...   \n",
       "97039  Specifications:Tension:14,4VCapacite:3000mAh/4...   \n",
       "58247  Coque Samsung Galaxy Core i8260-i8262 – Billar...   \n",
       "39289  Specifications:Tension:7,4VCapacite:10400mAh/7...   \n",
       "\n",
       "                                                 Libelle  Marque  \n",
       "93386  CANNE PENN SQUADRON 215 TRAVEL BOAT Modèle: 20lbs    PENN  \n",
       "94799            Cable micro USB data pour LG Vu 3 F300L  AUCUNE  \n",
       "97039  Batterie pour Bosch type BAT041  NiMH O-Pack 1...  POWERY  \n",
       "58247   Coque Samsung Galaxy Core i8260-i8262 – Billard…   SUTEO  \n",
       "39289  Batterie pour Sony vidéo DCR-VX2100 7,4V 10400...  POWERY  "
      ]
     },
     "execution_count": 4,
     "metadata": {},
     "output_type": "execute_result"
    }
   ],
   "source": [
    "input_path = \"data/cdiscount_train.csv.zip\"\n",
    "nb_line=100000  # part totale extraite du fichier initial ici déjà réduit\n",
    "tauxTest = 0.05 # proportion de l'échantillon test\n",
    "data_train, data_test = split_dataset(input_path, nb_line, tauxTest)\n",
    "# Cette ligne permet de visualiser les 5 premières lignes du DataFrame \n",
    "N_train = data_train.shape[0]\n",
    "N_test = data_test.shape[0]\n",
    "print(\"Train set : %d elements, Test set : %d elements\" %(N_train, N_test))\n",
    "data_train.head(5)"
   ]
  },
  {
   "cell_type": "markdown",
   "metadata": {},
   "source": [
    "### 2.3 Exploration élémentaire"
   ]
  },
  {
   "cell_type": "code",
   "execution_count": 5,
   "metadata": {},
   "outputs": [
    {
     "data": {
      "text/html": [
       "<div>\n",
       "<style scoped>\n",
       "    .dataframe tbody tr th:only-of-type {\n",
       "        vertical-align: middle;\n",
       "    }\n",
       "\n",
       "    .dataframe tbody tr th {\n",
       "        vertical-align: top;\n",
       "    }\n",
       "\n",
       "    .dataframe thead th {\n",
       "        text-align: right;\n",
       "    }\n",
       "</style>\n",
       "<table border=\"1\" class=\"dataframe\">\n",
       "  <thead>\n",
       "    <tr style=\"text-align: right;\">\n",
       "      <th></th>\n",
       "      <th>Description</th>\n",
       "      <th>Marque</th>\n",
       "    </tr>\n",
       "    <tr>\n",
       "      <th>Categorie1</th>\n",
       "      <th></th>\n",
       "      <th></th>\n",
       "    </tr>\n",
       "  </thead>\n",
       "  <tbody>\n",
       "    <tr>\n",
       "      <th>ADULTE - EROTIQUE</th>\n",
       "      <td>SECRET PLAY - Mini Plumeau avec Franges \"PROVO...</td>\n",
       "      <td>SECRET PLAY</td>\n",
       "    </tr>\n",
       "    <tr>\n",
       "      <th>ANIMALERIE - NEW</th>\n",
       "      <td>Collier en cuir d'agneau evasion pour chien ma...</td>\n",
       "      <td>BOBBY</td>\n",
       "    </tr>\n",
       "    <tr>\n",
       "      <th>ARME DE COMBAT - ARME DE SPORT</th>\n",
       "      <td>M3000 Shotgun sawed off pump action full metal...</td>\n",
       "      <td>AUCUNE</td>\n",
       "    </tr>\n",
       "    <tr>\n",
       "      <th>ART DE LA TABLE - ARTICLES CULINAIRES</th>\n",
       "      <td>Tasse Akita-Inu-Fauve M-Jaune-Orange - TASSE d...</td>\n",
       "      <td>AUCUNE</td>\n",
       "    </tr>\n",
       "    <tr>\n",
       "      <th>ARTICLES POUR FUMEUR</th>\n",
       "      <td>Citron (10ml) - E liquide eFlavor conçu et fab...</td>\n",
       "      <td>AUCUNE</td>\n",
       "    </tr>\n",
       "    <tr>\n",
       "      <th>AUTO - MOTO (NEW)</th>\n",
       "      <td>Rétroviseur origine Bihr droit Piaggio SKIPPER...</td>\n",
       "      <td>BIHR</td>\n",
       "    </tr>\n",
       "    <tr>\n",
       "      <th>BAGAGERIE</th>\n",
       "      <td>Coach Light kaki et rouge Signature Stripe Con...</td>\n",
       "      <td>COACH</td>\n",
       "    </tr>\n",
       "    <tr>\n",
       "      <th>BATEAU MOTEUR - VOILIER</th>\n",
       "      <td>Aérateurs circulaires - Moustiquaire: non, Ø m...</td>\n",
       "      <td>AUCUNE</td>\n",
       "    </tr>\n",
       "    <tr>\n",
       "      <th>BIJOUX -  LUNETTES - MONTRES</th>\n",
       "      <td>Montre Homme Accutron Amerigo 63B023 - Montre ...</td>\n",
       "      <td>AUCUNE</td>\n",
       "    </tr>\n",
       "    <tr>\n",
       "      <th>BRICOLAGE - OUTILLAGE - QUINCAILLERIE</th>\n",
       "      <td>Specifications:Tension:14,4VCapacite:3000mAh/4...</td>\n",
       "      <td>POWERY</td>\n",
       "    </tr>\n",
       "    <tr>\n",
       "      <th>CHAUSSURES - ACCESSOIRES</th>\n",
       "      <td>Chaussures bateau Dubarry Clipper - Dubarry es...</td>\n",
       "      <td>AUCUNE</td>\n",
       "    </tr>\n",
       "    <tr>\n",
       "      <th>CONDITIONNEMENT</th>\n",
       "      <td>Boite de 250 pochettes à soufflets en kraft 12...</td>\n",
       "      <td>VISIODIRECT</td>\n",
       "    </tr>\n",
       "    <tr>\n",
       "      <th>CULTURE / JEUX</th>\n",
       "      <td>Case Dismissed!: The Introduction Of G-Unit So...</td>\n",
       "      <td>AUCUNE</td>\n",
       "    </tr>\n",
       "    <tr>\n",
       "      <th>DECO - LINGE - LUMINAIRE</th>\n",
       "      <td>Stickers muraux déco : girafe Dimensions - 110...</td>\n",
       "      <td>AUCUNE</td>\n",
       "    </tr>\n",
       "    <tr>\n",
       "      <th>DROGUERIE (NEW)</th>\n",
       "      <td>Description du produitTampon abrasif Briconet ...</td>\n",
       "      <td>BRICONET</td>\n",
       "    </tr>\n",
       "    <tr>\n",
       "      <th>ELECTROMENAGER</th>\n",
       "      <td>44X0170. JOINT MAGNETIQUE REFRIGERATEUR - Merc...</td>\n",
       "      <td>DE DIETRICH</td>\n",
       "    </tr>\n",
       "    <tr>\n",
       "      <th>ELECTRONIQUE</th>\n",
       "      <td>Roulement à billes à contact obliqueØ ext 32 m...</td>\n",
       "      <td>FAG</td>\n",
       "    </tr>\n",
       "    <tr>\n",
       "      <th>EPICERIE</th>\n",
       "      <td>LES ARTISTES PARIS AROME NATUREL 60G STYLODECO...</td>\n",
       "      <td>LES ARTISTES PARIS</td>\n",
       "    </tr>\n",
       "    <tr>\n",
       "      <th>HYGIENE - BEAUTE - PARFUM</th>\n",
       "      <td>BARRY M - Crayons Nail Art - NAIL ART PEN - Co...</td>\n",
       "      <td>BARRY M</td>\n",
       "    </tr>\n",
       "    <tr>\n",
       "      <th>INFORMATIQUE</th>\n",
       "      <td>Dalle Écran LED 15.6\" | ASUS K55VJ-SX069D - Da...</td>\n",
       "      <td>AUCUNE</td>\n",
       "    </tr>\n",
       "    <tr>\n",
       "      <th>INSTRUMENTS DE MUSIQUE</th>\n",
       "      <td>DEAN MARKLEY 2505B - Cordes &gt; Guitare électriq...</td>\n",
       "      <td>DEANMARKLEY</td>\n",
       "    </tr>\n",
       "    <tr>\n",
       "      <th>JARDIN - PISCINE</th>\n",
       "      <td>PIQUET GOUTEUR 2LTR/H - piquet goutteur 2L/H… ...</td>\n",
       "      <td>CULTURE INDOOR</td>\n",
       "    </tr>\n",
       "    <tr>\n",
       "      <th>JOUET (NEW)</th>\n",
       "      <td>COST. PRINCESSE MÉDIÉVALE MALTIDA 36-38 - Cost...</td>\n",
       "      <td>AUCUNE</td>\n",
       "    </tr>\n",
       "    <tr>\n",
       "      <th>LIBRAIRIE</th>\n",
       "      <td>Handbook of Molecular Microbial Ecology I - Fr...</td>\n",
       "      <td>AUCUNE</td>\n",
       "    </tr>\n",
       "    <tr>\n",
       "      <th>LITERIE</th>\n",
       "      <td>Sommier tapissier déclive 160 x 200 :   - Le s...</td>\n",
       "      <td>PROMO MATELAS</td>\n",
       "    </tr>\n",
       "    <tr>\n",
       "      <th>LOISIRS CREATIFS - BEAUX ARTS - PAPETERIE</th>\n",
       "      <td>PITT Artiste Pen Big Brush Chrome vert opaque ...</td>\n",
       "      <td>AUCUNE</td>\n",
       "    </tr>\n",
       "    <tr>\n",
       "      <th>MANUTENTION</th>\n",
       "      <td>CHARIOT PLATE-FORME 910 x 610mm - MAX. 300kg -...</td>\n",
       "      <td>AUCUNE</td>\n",
       "    </tr>\n",
       "    <tr>\n",
       "      <th>MATERIEL DE BUREAU</th>\n",
       "      <td>REGISTRE T.NOIRE JOURNAL FOLIOTE 31X21 300 P. ...</td>\n",
       "      <td>ELVE</td>\n",
       "    </tr>\n",
       "    <tr>\n",
       "      <th>MATERIEL MEDICAL</th>\n",
       "      <td>Le Mini Vélo Electrique est une option pratiqu...</td>\n",
       "      <td>AUCUNE</td>\n",
       "    </tr>\n",
       "    <tr>\n",
       "      <th>MERCERIE</th>\n",
       "      <td>Laine - Composition : 60% Polyester, 40% Polya...</td>\n",
       "      <td>AUCUNE</td>\n",
       "    </tr>\n",
       "    <tr>\n",
       "      <th>MEUBLE</th>\n",
       "      <td>Canapé relaxation en cuir Blanc 2 places FOSTE...</td>\n",
       "      <td>SOFACTORY</td>\n",
       "    </tr>\n",
       "    <tr>\n",
       "      <th>PARAPHARMACIE</th>\n",
       "      <td>Complexe Equilibre émotionnel - 50 ml - Équili...</td>\n",
       "      <td>A.VOGEL</td>\n",
       "    </tr>\n",
       "    <tr>\n",
       "      <th>PHOTO - OPTIQUE</th>\n",
       "      <td>Specifications:Tension:7,4VCapacite:10400mAh/7...</td>\n",
       "      <td>POWERY</td>\n",
       "    </tr>\n",
       "    <tr>\n",
       "      <th>POINT DE VENTE - COMMERCE - ADMINISTRATION</th>\n",
       "      <td>Vikuiti MySunshadeDisplay Film de protection é...</td>\n",
       "      <td>VIKUITI</td>\n",
       "    </tr>\n",
       "    <tr>\n",
       "      <th>PRODUITS FRAIS</th>\n",
       "      <td>Pain au chocolat - PASQUIER - Pain au chocolat...</td>\n",
       "      <td>PASQUIER</td>\n",
       "    </tr>\n",
       "    <tr>\n",
       "      <th>PUERICULTURE</th>\n",
       "      <td>Doudou Sigikid Lion orange criniere 25cms ss l...</td>\n",
       "      <td>AUCUNE</td>\n",
       "    </tr>\n",
       "    <tr>\n",
       "      <th>SONO - DJ</th>\n",
       "      <td>Amplificateur Sky-1500MKII 1500W bridgeable - ...</td>\n",
       "      <td>SKYTEC</td>\n",
       "    </tr>\n",
       "    <tr>\n",
       "      <th>SPORT (NEW)</th>\n",
       "      <td>CANNE PENN SQUADRON 215 TRAVEL BOAT Modèle: 20...</td>\n",
       "      <td>PENN</td>\n",
       "    </tr>\n",
       "    <tr>\n",
       "      <th>TATOUAGE - PIERCING</th>\n",
       "      <td>Piercing en acier chirurgical 316L. Motif : 30...</td>\n",
       "      <td>LES TRESORS DE LILY</td>\n",
       "    </tr>\n",
       "    <tr>\n",
       "      <th>TELEPHONIE - GPS</th>\n",
       "      <td>Cable de data compatible HTC, WIKO, NOKIA, SON...</td>\n",
       "      <td>AUCUNE</td>\n",
       "    </tr>\n",
       "    <tr>\n",
       "      <th>TENUE PROFESSIONNELLE</th>\n",
       "      <td>GASTON MILLE-Chaussure spéciale Enrobés TARMIL...</td>\n",
       "      <td>GASTON MILLE</td>\n",
       "    </tr>\n",
       "    <tr>\n",
       "      <th>TV - VIDEO - SON</th>\n",
       "      <td>Téleviseur LED - Smart TV 60cm-Ecran 60cm LED ...</td>\n",
       "      <td>BAÜNZ</td>\n",
       "    </tr>\n",
       "    <tr>\n",
       "      <th>VETEMENTS - LINGERIE</th>\n",
       "      <td>Etole-Modal-Usha - Etole 100% Modal - Usha - 2...</td>\n",
       "      <td>SHIR S FOLIES</td>\n",
       "    </tr>\n",
       "    <tr>\n",
       "      <th>VIN - ALCOOL - LIQUIDES</th>\n",
       "      <td>Carton de 6 bouteilles - Château Du Bernat 201...</td>\n",
       "      <td>AUCUNE</td>\n",
       "    </tr>\n",
       "  </tbody>\n",
       "</table>\n",
       "</div>"
      ],
      "text/plain": [
       "                                                                                  Description  \\\n",
       "Categorie1                                                                                      \n",
       "ADULTE - EROTIQUE                           SECRET PLAY - Mini Plumeau avec Franges \"PROVO...   \n",
       "ANIMALERIE - NEW                            Collier en cuir d'agneau evasion pour chien ma...   \n",
       "ARME DE COMBAT - ARME DE SPORT              M3000 Shotgun sawed off pump action full metal...   \n",
       "ART DE LA TABLE - ARTICLES CULINAIRES       Tasse Akita-Inu-Fauve M-Jaune-Orange - TASSE d...   \n",
       "ARTICLES POUR FUMEUR                        Citron (10ml) - E liquide eFlavor conçu et fab...   \n",
       "AUTO - MOTO (NEW)                           Rétroviseur origine Bihr droit Piaggio SKIPPER...   \n",
       "BAGAGERIE                                   Coach Light kaki et rouge Signature Stripe Con...   \n",
       "BATEAU MOTEUR - VOILIER                     Aérateurs circulaires - Moustiquaire: non, Ø m...   \n",
       "BIJOUX -  LUNETTES - MONTRES                Montre Homme Accutron Amerigo 63B023 - Montre ...   \n",
       "BRICOLAGE - OUTILLAGE - QUINCAILLERIE       Specifications:Tension:14,4VCapacite:3000mAh/4...   \n",
       "CHAUSSURES - ACCESSOIRES                    Chaussures bateau Dubarry Clipper - Dubarry es...   \n",
       "CONDITIONNEMENT                             Boite de 250 pochettes à soufflets en kraft 12...   \n",
       "CULTURE / JEUX                              Case Dismissed!: The Introduction Of G-Unit So...   \n",
       "DECO - LINGE - LUMINAIRE                    Stickers muraux déco : girafe Dimensions - 110...   \n",
       "DROGUERIE (NEW)                             Description du produitTampon abrasif Briconet ...   \n",
       "ELECTROMENAGER                              44X0170. JOINT MAGNETIQUE REFRIGERATEUR - Merc...   \n",
       "ELECTRONIQUE                                Roulement à billes à contact obliqueØ ext 32 m...   \n",
       "EPICERIE                                    LES ARTISTES PARIS AROME NATUREL 60G STYLODECO...   \n",
       "HYGIENE - BEAUTE - PARFUM                   BARRY M - Crayons Nail Art - NAIL ART PEN - Co...   \n",
       "INFORMATIQUE                                Dalle Écran LED 15.6\" | ASUS K55VJ-SX069D - Da...   \n",
       "INSTRUMENTS DE MUSIQUE                      DEAN MARKLEY 2505B - Cordes > Guitare électriq...   \n",
       "JARDIN - PISCINE                            PIQUET GOUTEUR 2LTR/H - piquet goutteur 2L/H… ...   \n",
       "JOUET (NEW)                                 COST. PRINCESSE MÉDIÉVALE MALTIDA 36-38 - Cost...   \n",
       "LIBRAIRIE                                   Handbook of Molecular Microbial Ecology I - Fr...   \n",
       "LITERIE                                     Sommier tapissier déclive 160 x 200 :   - Le s...   \n",
       "LOISIRS CREATIFS - BEAUX ARTS - PAPETERIE   PITT Artiste Pen Big Brush Chrome vert opaque ...   \n",
       "MANUTENTION                                 CHARIOT PLATE-FORME 910 x 610mm - MAX. 300kg -...   \n",
       "MATERIEL DE BUREAU                          REGISTRE T.NOIRE JOURNAL FOLIOTE 31X21 300 P. ...   \n",
       "MATERIEL MEDICAL                            Le Mini Vélo Electrique est une option pratiqu...   \n",
       "MERCERIE                                    Laine - Composition : 60% Polyester, 40% Polya...   \n",
       "MEUBLE                                      Canapé relaxation en cuir Blanc 2 places FOSTE...   \n",
       "PARAPHARMACIE                               Complexe Equilibre émotionnel - 50 ml - Équili...   \n",
       "PHOTO - OPTIQUE                             Specifications:Tension:7,4VCapacite:10400mAh/7...   \n",
       "POINT DE VENTE - COMMERCE - ADMINISTRATION  Vikuiti MySunshadeDisplay Film de protection é...   \n",
       "PRODUITS FRAIS                              Pain au chocolat - PASQUIER - Pain au chocolat...   \n",
       "PUERICULTURE                                Doudou Sigikid Lion orange criniere 25cms ss l...   \n",
       "SONO - DJ                                   Amplificateur Sky-1500MKII 1500W bridgeable - ...   \n",
       "SPORT (NEW)                                 CANNE PENN SQUADRON 215 TRAVEL BOAT Modèle: 20...   \n",
       "TATOUAGE - PIERCING                         Piercing en acier chirurgical 316L. Motif : 30...   \n",
       "TELEPHONIE - GPS                            Cable de data compatible HTC, WIKO, NOKIA, SON...   \n",
       "TENUE PROFESSIONNELLE                       GASTON MILLE-Chaussure spéciale Enrobés TARMIL...   \n",
       "TV - VIDEO - SON                            Téleviseur LED - Smart TV 60cm-Ecran 60cm LED ...   \n",
       "VETEMENTS - LINGERIE                        Etole-Modal-Usha - Etole 100% Modal - Usha - 2...   \n",
       "VIN - ALCOOL - LIQUIDES                     Carton de 6 bouteilles - Château Du Bernat 201...   \n",
       "\n",
       "                                                         Marque  \n",
       "Categorie1                                                       \n",
       "ADULTE - EROTIQUE                                   SECRET PLAY  \n",
       "ANIMALERIE - NEW                                          BOBBY  \n",
       "ARME DE COMBAT - ARME DE SPORT                           AUCUNE  \n",
       "ART DE LA TABLE - ARTICLES CULINAIRES                    AUCUNE  \n",
       "ARTICLES POUR FUMEUR                                     AUCUNE  \n",
       "AUTO - MOTO (NEW)                                          BIHR  \n",
       "BAGAGERIE                                                 COACH  \n",
       "BATEAU MOTEUR - VOILIER                                  AUCUNE  \n",
       "BIJOUX -  LUNETTES - MONTRES                             AUCUNE  \n",
       "BRICOLAGE - OUTILLAGE - QUINCAILLERIE                    POWERY  \n",
       "CHAUSSURES - ACCESSOIRES                                 AUCUNE  \n",
       "CONDITIONNEMENT                                     VISIODIRECT  \n",
       "CULTURE / JEUX                                           AUCUNE  \n",
       "DECO - LINGE - LUMINAIRE                                 AUCUNE  \n",
       "DROGUERIE (NEW)                                        BRICONET  \n",
       "ELECTROMENAGER                                      DE DIETRICH  \n",
       "ELECTRONIQUE                                                FAG  \n",
       "EPICERIE                                     LES ARTISTES PARIS  \n",
       "HYGIENE - BEAUTE - PARFUM                               BARRY M  \n",
       "INFORMATIQUE                                             AUCUNE  \n",
       "INSTRUMENTS DE MUSIQUE                              DEANMARKLEY  \n",
       "JARDIN - PISCINE                                 CULTURE INDOOR  \n",
       "JOUET (NEW)                                              AUCUNE  \n",
       "LIBRAIRIE                                                AUCUNE  \n",
       "LITERIE                                           PROMO MATELAS  \n",
       "LOISIRS CREATIFS - BEAUX ARTS - PAPETERIE                AUCUNE  \n",
       "MANUTENTION                                              AUCUNE  \n",
       "MATERIEL DE BUREAU                                         ELVE  \n",
       "MATERIEL MEDICAL                                         AUCUNE  \n",
       "MERCERIE                                                 AUCUNE  \n",
       "MEUBLE                                                SOFACTORY  \n",
       "PARAPHARMACIE                                           A.VOGEL  \n",
       "PHOTO - OPTIQUE                                          POWERY  \n",
       "POINT DE VENTE - COMMERCE - ADMINISTRATION              VIKUITI  \n",
       "PRODUITS FRAIS                                         PASQUIER  \n",
       "PUERICULTURE                                             AUCUNE  \n",
       "SONO - DJ                                                SKYTEC  \n",
       "SPORT (NEW)                                                PENN  \n",
       "TATOUAGE - PIERCING                         LES TRESORS DE LILY  \n",
       "TELEPHONIE - GPS                                         AUCUNE  \n",
       "TENUE PROFESSIONNELLE                              GASTON MILLE  \n",
       "TV - VIDEO - SON                                          BAÜNZ  \n",
       "VETEMENTS - LINGERIE                              SHIR S FOLIES  \n",
       "VIN - ALCOOL - LIQUIDES                                  AUCUNE  "
      ]
     },
     "execution_count": 5,
     "metadata": {},
     "output_type": "execute_result"
    }
   ],
   "source": [
    "# Liste des catégories du premier niveau\n",
    "data_train.groupby(\"Categorie1\").first()[[\"Description\",\"Marque\"]]"
   ]
  },
  {
   "cell_type": "markdown",
   "metadata": {},
   "source": [
    "Dénombrement des catégories du premier niveau."
   ]
  },
  {
   "cell_type": "code",
   "execution_count": 6,
   "metadata": {},
   "outputs": [
    {
     "data": {
      "image/png": "[encoded data removed]",
      "text/plain": [
       "<matplotlib.figure.Figure at 0x7ff62ae2beb8>"
      ]
     },
     "metadata": {},
     "output_type": "display_data"
    }
   ],
   "source": [
    "#Count occurence of each Categorie\n",
    "data_count = data_train[\"Categorie1\"].value_counts()\n",
    "#Rename index to add percentage\n",
    "new_index = [k+ \": %.2f%%\" %(v*100/N_train) for k,v in data_count.iteritems()]\n",
    "data_count.index= new_index\n",
    "\n",
    "fig=plt.figure(figsize= (10,10))\n",
    "ax = fig.add_subplot(1,1,1)\n",
    "data_count.plot.barh(logx = False)\n",
    "plt.show()"
   ]
  },
  {
   "cell_type": "markdown",
   "metadata": {},
   "source": [
    "Que peut-on dire sur la distribution des ce classes?"
   ]
  },
  {
   "cell_type": "markdown",
   "metadata": {},
   "source": [
    "Les données sont enregistrées dans les fichiers `train` et `test` de type `csv` pour des réutilisations ultérieures."
   ]
  },
  {
   "cell_type": "code",
   "execution_count": 7,
   "metadata": {},
   "outputs": [],
   "source": [
    "data_test.to_csv(\"data/cdiscount_test.csv\", index=False)\n",
    "data_train.to_csv(\"data/cdiscount_train_subset.csv\", index=False)"
   ]
  },
  {
   "cell_type": "markdown",
   "metadata": {},
   "source": [
    "##  3. Nettoyage des données\n",
    "Afin de limiter la dimension de l'espace des variables ou *features*, tout en conservant les informations essentielles, il est nécessaire de nettoyer les données en appliquant plusieurs étapes:\n",
    "* Chaque mot est écrit en minuscule.\n",
    "* Les termes numériques, de ponctuation et autres symboles sont supprimés.\n",
    "* 155 mots-courants, et donc non informatifs, de la langue française sont supprimés (STOPWORDS). Ex: le, la, du, alors, etc...\n",
    "* Chaque mot est \"racinisé\", via la fonction `STEMMER.stem` de la librairie nltk. La racinisation transforme un mot en son radical ou sa racine. Par exemple, les mots: cheval, chevaux, chevalier, chevalerie, chevaucher sont tous remplacés par \"cheva\"."
   ]
  },
  {
   "cell_type": "markdown",
   "metadata": {},
   "source": [
    "### 3.1 Importation des librairies et fichier pour le nettoyage des données."
   ]
  },
  {
   "cell_type": "code",
   "execution_count": 8,
   "metadata": {},
   "outputs": [],
   "source": [
    "# Librairies \n",
    "from bs4 import BeautifulSoup #Nettoyage d'HTML\n",
    "import re # Regex\n",
    "import nltk # bibliothèque de fonctions NLP\n",
    "\n",
    "## listes de mots à supprimer dans la description des produits\n",
    "## Depuis NLTK\n",
    "nltk_stopwords = nltk.corpus.stopwords.words('french') \n",
    "## Depuis Un fichier externe.\n",
    "lucene_stopwords =open(\"data/lucene_stopwords.txt\",\"r\").read().split(\",\") #En local\n",
    "## Union des deux fichiers de stopwords \n",
    "stopwords = list(set(nltk_stopwords).union(set(lucene_stopwords)))\n",
    "\n",
    "## Fonction de stemming ou de racinisation\n",
    "stemmer=nltk.stem.SnowballStemmer('french')"
   ]
  },
  {
   "cell_type": "markdown",
   "metadata": {},
   "source": [
    "### 3.2 Illustration sur un descriptif \n",
    "\n",
    "**Ligne Originale**"
   ]
  },
  {
   "cell_type": "code",
   "execution_count": 9,
   "metadata": {},
   "outputs": [
    {
     "name": "stdout",
     "output_type": "stream",
     "text": [
      "Original Description : CANNE PENN SQUADRON 215 TRAVEL BOAT Modèle: 20lbs - CANNE PENN SQUADRON 215 TRAVEL BOAT Modèle: 20lbs… Voir la présentation\n"
     ]
    }
   ],
   "source": [
    "i = 0\n",
    "description = data_train.Description.values[i]\n",
    "print(\"Original Description : \" + description)"
   ]
  },
  {
   "cell_type": "markdown",
   "metadata": {},
   "source": [
    "** Supprimer les posibles balises HTML dans la description **"
   ]
  },
  {
   "cell_type": "code",
   "execution_count": 10,
   "metadata": {},
   "outputs": [
    {
     "name": "stdout",
     "output_type": "stream",
     "text": [
      "CANNE PENN SQUADRON 215 TRAVEL BOAT Modèle: 20lbs - CANNE PENN SQUADRON 215 TRAVEL BOAT Modèle: 20lbs… Voir la présentation\n"
     ]
    }
   ],
   "source": [
    "# txt = BeautifulSoup(description,\"html.parser\",from_encoding='utf-8').get_text()\n",
    "txt = BeautifulSoup(description,\"html.parser\").get_text()\n",
    "print(txt)"
   ]
  },
  {
   "cell_type": "markdown",
   "metadata": {},
   "source": [
    "** Convertir le texte en minuscule **"
   ]
  },
  {
   "cell_type": "code",
   "execution_count": 11,
   "metadata": {},
   "outputs": [
    {
     "name": "stdout",
     "output_type": "stream",
     "text": [
      "canne penn squadron 215 travel boat modèle: 20lbs - canne penn squadron 215 travel boat modèle: 20lbs… voir la présentation\n"
     ]
    }
   ],
   "source": [
    "txt = txt.lower()\n",
    "print(txt)"
   ]
  },
  {
   "cell_type": "markdown",
   "metadata": {},
   "source": [
    "** Remplacer quelques caractères spéciaux **\n",
    "\n",
    "* `\\u2026`: `…`\n",
    "* `\\u00a0`: `NO-BREAK SPACE`\n",
    "\n",
    "Cette liste peut être compléter en fonction du jeu de donées étudiés"
   ]
  },
  {
   "cell_type": "code",
   "execution_count": 12,
   "metadata": {},
   "outputs": [
    {
     "name": "stdout",
     "output_type": "stream",
     "text": [
      "canne penn squadron 215 travel boat modèle: 20lbs - canne penn squadron 215 travel boat modèle: 20lbs. voir la présentation\n"
     ]
    }
   ],
   "source": [
    "txt = txt.replace(u'\\u2026','.')    \n",
    "txt = txt.replace(u'\\u00a0',' ')\n",
    "print(txt)"
   ]
  },
  {
   "cell_type": "markdown",
   "metadata": {},
   "source": [
    "** Supprimer les accents **"
   ]
  },
  {
   "cell_type": "code",
   "execution_count": 13,
   "metadata": {},
   "outputs": [
    {
     "name": "stdout",
     "output_type": "stream",
     "text": [
      "canne penn squadron 215 travel boat modele: 20lbs - canne penn squadron 215 travel boat modele: 20lbs. voir la presentation\n"
     ]
    }
   ],
   "source": [
    "txt = unicodedata.normalize('NFD', txt).encode('ascii', 'ignore').decode(\"utf-8\")\n",
    "print(txt)"
   ]
  },
  {
   "cell_type": "markdown",
   "metadata": {},
   "source": [
    "** Supprimer les caractères qui ne sont ne sont pas des lettres minuscules **"
   ]
  },
  {
   "cell_type": "code",
   "execution_count": 14,
   "metadata": {},
   "outputs": [
    {
     "name": "stdout",
     "output_type": "stream",
     "text": [
      "canne penn squadron     travel boat modele    lbs   canne penn squadron     travel boat modele    lbs  voir la presentation\n"
     ]
    }
   ],
   "source": [
    "txt = re.sub('[^a-z_]', ' ', txt)\n",
    "print(txt)"
   ]
  },
  {
   "cell_type": "markdown",
   "metadata": {},
   "source": [
    "** Remplacer la description par une liste de mots (tokens), supprimer les mots de moins de 2 lettres ainsi que les stopwords **\n"
   ]
  },
  {
   "cell_type": "code",
   "execution_count": 15,
   "metadata": {},
   "outputs": [
    {
     "name": "stdout",
     "output_type": "stream",
     "text": [
      "['canne', 'penn', 'squadron', 'travel', 'boat', 'modele', 'lbs', 'canne', 'penn', 'squadron', 'travel', 'boat', 'modele', 'lbs', 'voir', 'presentation']\n"
     ]
    }
   ],
   "source": [
    "tokens = [w for w in txt.split() if (len(w)>2) and (w not in stopwords)]\n",
    "print(tokens)"
   ]
  },
  {
   "cell_type": "markdown",
   "metadata": {},
   "source": [
    "** Raciniser (stem) chaque tokens **"
   ]
  },
  {
   "cell_type": "code",
   "execution_count": 16,
   "metadata": {},
   "outputs": [
    {
     "name": "stdout",
     "output_type": "stream",
     "text": [
      "['cann', 'pen', 'squadron', 'travel', 'boat', 'model', 'lb', 'cann', 'pen', 'squadron', 'travel', 'boat', 'model', 'lb', 'voir', 'present']\n"
     ]
    }
   ],
   "source": [
    "tokens_stem = [stemmer.stem(token) for token in tokens]\n",
    "print(tokens_stem)"
   ]
  },
  {
   "cell_type": "markdown",
   "metadata": {},
   "source": [
    "### 3.3 Fonctions de nettoyage de texte\n",
    "Cette fonction qui prend en entrée un texte et retourne le texte nettoyé en appliquant successivement les étapes précédentes. "
   ]
  },
  {
   "cell_type": "code",
   "execution_count": 17,
   "metadata": {
    "code_folding": []
   },
   "outputs": [],
   "source": [
    "# Fonction clean générale\n",
    "def clean_txt(txt):\n",
    "    ### remove html stuff\n",
    "    txt = BeautifulSoup(txt,\"html.parser\",from_encoding='utf-8').get_text()\n",
    "    ### lower case\n",
    "    txt = txt.lower()\n",
    "    ### special escaping character '...'\n",
    "    txt = txt.replace(u'\\u2026','.')\n",
    "    txt = txt.replace(u'\\u00a0',' ')\n",
    "    ### remove accent btw\n",
    "    txt = unicodedata.normalize('NFD', txt).encode('ascii', 'ignore').decode(\"utf-8\")\n",
    "    ###txt = unidecode(txt)\n",
    "    ### remove non alphanumeric char\n",
    "    txt = re.sub('[^a-z_]', ' ', txt)\n",
    "    ### remove french stop words\n",
    "    tokens = [w for w in txt.split() if (len(w)>2) and (w not in stopwords)]\n",
    "    ### french stemming\n",
    "    tokens_stem = [stemmer.stem(token) for token in tokens]\n",
    "    ### tokens = stemmer.stemWords(tokens)\n",
    "    return ' '.join(tokens), \" \".join(tokens_stem)\n",
    "\n",
    "def clean_marque(txt):\n",
    "    txt = re.sub('[^a-zA-Z0-9]', '_', txt).lower()\n",
    "    return txt"
   ]
  },
  {
   "cell_type": "code",
   "execution_count": 18,
   "metadata": {
    "code_folding": []
   },
   "outputs": [
    {
     "name": "stderr",
     "output_type": "stream",
     "text": [
      "/home-local/pbesse/anaconda3/lib/python3.6/site-packages/bs4/__init__.py:146: UserWarning: You provided Unicode markup but also provided a value for from_encoding. Your from_encoding will be ignored.\n",
      "  warnings.warn(\"You provided Unicode markup but also provided a value for from_encoding. Your from_encoding will be ignored.\")\n",
      "/home-local/pbesse/anaconda3/lib/python3.6/site-packages/bs4/__init__.py:146: UserWarning: You provided Unicode markup but also provided a value for from_encoding. Your from_encoding will be ignored.\n",
      "  warnings.warn(\"You provided Unicode markup but also provided a value for from_encoding. Your from_encoding will be ignored.\")\n",
      "/home-local/pbesse/anaconda3/lib/python3.6/site-packages/bs4/__init__.py:146: UserWarning: You provided Unicode markup but also provided a value for from_encoding. Your from_encoding will be ignored.\n",
      "  warnings.warn(\"You provided Unicode markup but also provided a value for from_encoding. Your from_encoding will be ignored.\")\n",
      "/home-local/pbesse/anaconda3/lib/python3.6/site-packages/bs4/__init__.py:146: UserWarning: You provided Unicode markup but also provided a value for from_encoding. Your from_encoding will be ignored.\n",
      "  warnings.warn(\"You provided Unicode markup but also provided a value for from_encoding. Your from_encoding will be ignored.\")\n",
      "/home-local/pbesse/anaconda3/lib/python3.6/site-packages/bs4/__init__.py:219: UserWarning: \"b'.'\" looks like a filename, not markup. You should probably open this file and pass the filehandle into Beautiful Soup.\n",
      "  ' Beautiful Soup.' % markup)\n",
      "/home-local/pbesse/anaconda3/lib/python3.6/site-packages/bs4/__init__.py:219: UserWarning: \"b'.'\" looks like a filename, not markup. You should probably open this file and pass the filehandle into Beautiful Soup.\n",
      "  ' Beautiful Soup.' % markup)\n",
      "/home-local/pbesse/anaconda3/lib/python3.6/site-packages/bs4/__init__.py:219: UserWarning: \"b'.'\" looks like a filename, not markup. You should probably open this file and pass the filehandle into Beautiful Soup.\n",
      "  ' Beautiful Soup.' % markup)\n",
      "/home-local/pbesse/anaconda3/lib/python3.6/site-packages/bs4/__init__.py:219: UserWarning: \"b'.'\" looks like a filename, not markup. You should probably open this file and pass the filehandle into Beautiful Soup.\n",
      "  ' Beautiful Soup.' % markup)\n"
     ]
    }
   ],
   "source": [
    "from multiprocessing import Pool\n",
    "p = Pool(4)\n",
    "    \n",
    "# fonction de nettoyage du fichier(stemming et liste de mots à supprimer)\n",
    "def clean_df(input_data, column_names= ['Description', 'Libelle', 'Marque']):\n",
    "    nb_line = input_data.shape[0]\n",
    "    print(\"Start Clean %d lines\" %nb_line)\n",
    "    # Cleaning start for each columns\n",
    "    time_start = time.time()\n",
    "    clean_list=[]\n",
    "    clean_stem_list=[]\n",
    "    for column_name in column_names:\n",
    "        column = input_data[column_name].values\n",
    "        if column_name == \"Marque\":\n",
    "            array_clean = np.array(list(p.map(clean_marque,column)))\n",
    "            clean_list.append(array_clean)\n",
    "            clean_stem_list.append(array_clean)\n",
    "        else:\n",
    "            A = np.array(list(p.map(clean_txt,column)))\n",
    "            array_clean = A[:,0]\n",
    "            array_clean_stem = A[:,1]\n",
    "            clean_list.append(array_clean)\n",
    "            clean_stem_list.append(array_clean_stem)\n",
    "    time_end = time.time()\n",
    "    print(\"Cleaning time: %d secondes\"%(time_end-time_start))\n",
    "    \n",
    "    #Convert list to DataFrame\n",
    "    array_clean = np.array(clean_list).T\n",
    "    data_clean = pd.DataFrame(array_clean, columns = column_names)\n",
    "    \n",
    "    array_clean_stem = np.array(clean_stem_list).T\n",
    "    data_clean_stem = pd.DataFrame(array_clean_stem, columns = column_names)\n",
    "    return data_clean, data_clean_stem"
   ]
  },
  {
   "cell_type": "markdown",
   "metadata": {},
   "source": [
    "### 3.4 Nettoyage des *data frames*\n",
    "Applique le nettoyage sur toutes les lignes du *data frame* et créé deux nouveaux *data frames*: avec et sans l'étape de racinisation)"
   ]
  },
  {
   "cell_type": "code",
   "execution_count": 19,
   "metadata": {},
   "outputs": [
    {
     "name": "stdout",
     "output_type": "stream",
     "text": [
      "Start Clean 5000 lines\n",
      "Cleaning time: 1 secondes\n"
     ]
    }
   ],
   "source": [
    "# Take approximately 2 minutes fors 100.000 rows\n",
    "data_test_clean, data_test_clean_stem = clean_df(data_test)"
   ]
  },
  {
   "cell_type": "code",
   "execution_count": 20,
   "metadata": {},
   "outputs": [
    {
     "name": "stdout",
     "output_type": "stream",
     "text": [
      "Start Clean 95000 lines\n",
      "Cleaning time: 27 secondes\n"
     ]
    }
   ],
   "source": [
    "data_train_clean, data_train_clean_stem = clean_df(data_train)"
   ]
  },
  {
   "cell_type": "markdown",
   "metadata": {},
   "source": [
    "Affiche les 5 premières lignes du DataFrame d'apprentissage après nettoyage."
   ]
  },
  {
   "cell_type": "code",
   "execution_count": 21,
   "metadata": {},
   "outputs": [
    {
     "data": {
      "text/html": [
       "<div>\n",
       "<style scoped>\n",
       "    .dataframe tbody tr th:only-of-type {\n",
       "        vertical-align: middle;\n",
       "    }\n",
       "\n",
       "    .dataframe tbody tr th {\n",
       "        vertical-align: top;\n",
       "    }\n",
       "\n",
       "    .dataframe thead th {\n",
       "        text-align: right;\n",
       "    }\n",
       "</style>\n",
       "<table border=\"1\" class=\"dataframe\">\n",
       "  <thead>\n",
       "    <tr style=\"text-align: right;\">\n",
       "      <th></th>\n",
       "      <th>Description</th>\n",
       "      <th>Libelle</th>\n",
       "      <th>Marque</th>\n",
       "    </tr>\n",
       "  </thead>\n",
       "  <tbody>\n",
       "    <tr>\n",
       "      <th>0</th>\n",
       "      <td>canne penn squadron travel boat modele lbs can...</td>\n",
       "      <td>canne penn squadron travel boat modele lbs</td>\n",
       "      <td>penn</td>\n",
       "    </tr>\n",
       "    <tr>\n",
       "      <th>1</th>\n",
       "      <td>cable data compatible htc wiko nokia sony sams...</td>\n",
       "      <td>cable micro usb data</td>\n",
       "      <td>aucune</td>\n",
       "    </tr>\n",
       "    <tr>\n",
       "      <th>2</th>\n",
       "      <td>specifications tension vcapacite mah whtype ba...</td>\n",
       "      <td>batterie bosch type bat nimh pack</td>\n",
       "      <td>powery</td>\n",
       "    </tr>\n",
       "    <tr>\n",
       "      <th>3</th>\n",
       "      <td>coque samsung galaxy core billard ref coque su...</td>\n",
       "      <td>coque samsung galaxy core billard</td>\n",
       "      <td>suteo</td>\n",
       "    </tr>\n",
       "    <tr>\n",
       "      <th>4</th>\n",
       "      <td>specifications tension vcapacite mah whtype ba...</td>\n",
       "      <td>batterie sony video dcr</td>\n",
       "      <td>powery</td>\n",
       "    </tr>\n",
       "  </tbody>\n",
       "</table>\n",
       "</div>"
      ],
      "text/plain": [
       "                                         Description  \\\n",
       "0  canne penn squadron travel boat modele lbs can...   \n",
       "1  cable data compatible htc wiko nokia sony sams...   \n",
       "2  specifications tension vcapacite mah whtype ba...   \n",
       "3  coque samsung galaxy core billard ref coque su...   \n",
       "4  specifications tension vcapacite mah whtype ba...   \n",
       "\n",
       "                                      Libelle  Marque  \n",
       "0  canne penn squadron travel boat modele lbs    penn  \n",
       "1                        cable micro usb data  aucune  \n",
       "2           batterie bosch type bat nimh pack  powery  \n",
       "3           coque samsung galaxy core billard   suteo  \n",
       "4                     batterie sony video dcr  powery  "
      ]
     },
     "execution_count": 21,
     "metadata": {},
     "output_type": "execute_result"
    }
   ],
   "source": [
    "data_train_clean.head(5)"
   ]
  },
  {
   "cell_type": "code",
   "execution_count": 22,
   "metadata": {},
   "outputs": [
    {
     "data": {
      "text/html": [
       "<div>\n",
       "<style scoped>\n",
       "    .dataframe tbody tr th:only-of-type {\n",
       "        vertical-align: middle;\n",
       "    }\n",
       "\n",
       "    .dataframe tbody tr th {\n",
       "        vertical-align: top;\n",
       "    }\n",
       "\n",
       "    .dataframe thead th {\n",
       "        text-align: right;\n",
       "    }\n",
       "</style>\n",
       "<table border=\"1\" class=\"dataframe\">\n",
       "  <thead>\n",
       "    <tr style=\"text-align: right;\">\n",
       "      <th></th>\n",
       "      <th>Description</th>\n",
       "      <th>Libelle</th>\n",
       "      <th>Marque</th>\n",
       "    </tr>\n",
       "  </thead>\n",
       "  <tbody>\n",
       "    <tr>\n",
       "      <th>0</th>\n",
       "      <td>cann pen squadron travel boat model lb cann pe...</td>\n",
       "      <td>cann pen squadron travel boat model lb</td>\n",
       "      <td>penn</td>\n",
       "    </tr>\n",
       "    <tr>\n",
       "      <th>1</th>\n",
       "      <td>cabl dat compatibl htc wiko noki sony samsung ...</td>\n",
       "      <td>cabl micro usb dat</td>\n",
       "      <td>aucune</td>\n",
       "    </tr>\n",
       "    <tr>\n",
       "      <th>2</th>\n",
       "      <td>specif tension vcapacit mah whtyp batter nimhc...</td>\n",
       "      <td>batter bosch typ bat nimh pack</td>\n",
       "      <td>powery</td>\n",
       "    </tr>\n",
       "    <tr>\n",
       "      <th>3</th>\n",
       "      <td>coqu samsung galaxy cor billard ref coqu suteo...</td>\n",
       "      <td>coqu samsung galaxy cor billard</td>\n",
       "      <td>suteo</td>\n",
       "    </tr>\n",
       "    <tr>\n",
       "      <th>4</th>\n",
       "      <td>specif tension vcapacit mah whtyp batter ionco...</td>\n",
       "      <td>batter sony video dcr</td>\n",
       "      <td>powery</td>\n",
       "    </tr>\n",
       "  </tbody>\n",
       "</table>\n",
       "</div>"
      ],
      "text/plain": [
       "                                         Description  \\\n",
       "0  cann pen squadron travel boat model lb cann pe...   \n",
       "1  cabl dat compatibl htc wiko noki sony samsung ...   \n",
       "2  specif tension vcapacit mah whtyp batter nimhc...   \n",
       "3  coqu samsung galaxy cor billard ref coqu suteo...   \n",
       "4  specif tension vcapacit mah whtyp batter ionco...   \n",
       "\n",
       "                                  Libelle  Marque  \n",
       "0  cann pen squadron travel boat model lb    penn  \n",
       "1                      cabl micro usb dat  aucune  \n",
       "2          batter bosch typ bat nimh pack  powery  \n",
       "3         coqu samsung galaxy cor billard   suteo  \n",
       "4                   batter sony video dcr  powery  "
      ]
     },
     "execution_count": 22,
     "metadata": {},
     "output_type": "execute_result"
    }
   ],
   "source": [
    "data_train_clean_stem.head(5)"
   ]
  },
  {
   "cell_type": "markdown",
   "metadata": {},
   "source": [
    "Taille du dictionnaire de mots pour le dataset avant et après la racinisation."
   ]
  },
  {
   "cell_type": "code",
   "execution_count": 23,
   "metadata": {},
   "outputs": [
    {
     "name": "stdout",
     "output_type": "stream",
     "text": [
      "72899\n"
     ]
    }
   ],
   "source": [
    "concatenate_text = \" \".join(data_train_clean[\"Description\"].values)\n",
    "list_of_word = concatenate_text.split(\" \")\n",
    "N = len(set(list_of_word))\n",
    "print(N)"
   ]
  },
  {
   "cell_type": "code",
   "execution_count": 24,
   "metadata": {},
   "outputs": [
    {
     "name": "stdout",
     "output_type": "stream",
     "text": [
      "56687\n"
     ]
    }
   ],
   "source": [
    "concatenate_text = \" \".join(data_train_clean_stem[\"Description\"].values)\n",
    "list_of_word_stem = concatenate_text.split(\" \")\n",
    "N = len(set(list_of_word_stem))\n",
    "print(N)"
   ]
  },
  {
   "cell_type": "markdown",
   "metadata": {},
   "source": [
    "### 3.4 Représentations par *wordcloud*"
   ]
  },
  {
   "cell_type": "code",
   "execution_count": 25,
   "metadata": {},
   "outputs": [],
   "source": [
    "from wordcloud import WordCloud"
   ]
  },
  {
   "cell_type": "code",
   "execution_count": 26,
   "metadata": {},
   "outputs": [
    {
     "data": {
      "image/png": "[encoded data removed]",
      "text/plain": [
       "<matplotlib.figure.Figure at 0x7ff5fd8e1f60>"
      ]
     },
     "metadata": {},
     "output_type": "display_data"
    }
   ],
   "source": [
    "all_descr = \" \".join(data_test.Description.values)\n",
    "wordcloud_word = WordCloud(background_color=\"black\").generate_from_text(all_descr)\n",
    "\n",
    "plt.figure()\n",
    "plt.imshow(wordcloud_word,cmap=plt.cm.Paired)\n",
    "plt.axis(\"off\")\n",
    "plt.show()"
   ]
  },
  {
   "cell_type": "code",
   "execution_count": 27,
   "metadata": {},
   "outputs": [
    {
     "data": {
      "image/png": "[encoded data removed]",
      "text/plain": [
       "<matplotlib.figure.Figure at 0x7ff5fd8e1eb8>"
      ]
     },
     "metadata": {},
     "output_type": "display_data"
    }
   ],
   "source": [
    "all_descr_clean_stem = \" \".join(data_test_clean_stem.Description.values)\n",
    "wordcloud_word = WordCloud(background_color=\"black\").generate_from_text(all_descr_clean_stem)\n",
    "\n",
    "plt.figure()\n",
    "plt.imshow(wordcloud_word,cmap=plt.cm.Paired)\n",
    "plt.axis(\"off\")\n",
    "plt.show()"
   ]
  },
  {
   "cell_type": "markdown",
   "metadata": {},
   "source": [
    "Sauvegarder les jeux de données nettoyés avec et sans racinisation dans des fichiers csv. Cela permet de reprendre l'analyse à la suite d'une interuption."
   ]
  },
  {
   "cell_type": "code",
   "execution_count": 28,
   "metadata": {},
   "outputs": [],
   "source": [
    "data_test_clean.to_csv(\"data/cdiscount_test_clean.csv\", index=False)\n",
    "data_train_clean.to_csv(\"data/cdiscount_train_clean.csv\", index=False)\n",
    "\n",
    "data_test_clean_stem.to_csv(\"data/cdiscount_test_clean_stem.csv\", index=False)\n",
    "data_train_clean_stem.to_csv(\"data/cdiscount_train_clean_stem.csv\", index=False)"
   ]
  },
  {
   "cell_type": "markdown",
   "metadata": {},
   "source": [
    "## 4 Construction des caractéristiques ou *features* par vectorisation\n",
    "\n",
    "Les données textuelles ne peuvent pas être utilisées directment dans les différents algorithmes de d'apprentissage statistique.Plusieurs technique dites de vectorisation permettent de les traduire sous formes de vecteur numérique. Elles sont disponibles dans `Scikit-learn`:\n",
    "* `One-Hot-Encoder`\n",
    "* `Hashing`\n",
    "* `Tf-Idf`"
   ]
  },
  {
   "cell_type": "markdown",
   "metadata": {
    "collapsed": true
   },
   "source": [
    "### 4.1 Lecture des données netoyées des étapes précédentes"
   ]
  },
  {
   "cell_type": "code",
   "execution_count": 31,
   "metadata": {},
   "outputs": [],
   "source": [
    "data_test_clean_stem = pd.read_csv(\"data/cdiscount_test_clean_stem.csv\").fillna(\"\")\n",
    "data_train_clean_stem = pd.read_csv(\"data/cdiscount_train_clean_stem.csv\").fillna(\"\")"
   ]
  },
  {
   "cell_type": "markdown",
   "metadata": {},
   "source": [
    "Le dossier `features` créé ci-dessous contiendra les *data frames* des différentes possibilités de vectorisation."
   ]
  },
  {
   "cell_type": "code",
   "execution_count": 32,
   "metadata": {},
   "outputs": [],
   "source": [
    "import os\n",
    "DATA_OUTPUT_DIR = \"data/features\"\n",
    "if not(os.path.isdir(\"data/features\")):\n",
    "    os.mkdir(\"data/features\")"
   ]
  },
  {
   "cell_type": "markdown",
   "metadata": {},
   "source": [
    "Seule la colonne *Description* des `data frames` est considérée. "
   ]
  },
  {
   "cell_type": "code",
   "execution_count": 33,
   "metadata": {},
   "outputs": [],
   "source": [
    "train_array = data_train_clean_stem[\"Description\"].values\n",
    "test_array = data_test_clean_stem[\"Description\"].values"
   ]
  },
  {
   "cell_type": "markdown",
   "metadata": {},
   "source": [
    "### 4.2 Vectorisation par  *One-Hot-Encoding*\n",
    "Les mots sont codés par des présences / absences. Il est également possible de prendre en compte des n-grammes. Les matrices ainsi crées sont stockés dans un format creux ou parcimonieux (*sparse*)."
   ]
  },
  {
   "cell_type": "code",
   "execution_count": 34,
   "metadata": {},
   "outputs": [
    {
     "data": {
      "text/plain": [
       "<95000x56686 sparse matrix of type '<class 'numpy.int64'>'\n",
       "\twith 1118623 stored elements in Compressed Sparse Row format>"
      ]
     },
     "execution_count": 34,
     "metadata": {},
     "output_type": "execute_result"
    }
   ],
   "source": [
    "from sklearn.feature_extraction.text import CountVectorizer\n",
    "\n",
    "extr_cv = CountVectorizer(binary=False)\n",
    "data_train_OHE = extr_cv.fit_transform(train_array)\n",
    "data_train_OHE"
   ]
  },
  {
   "cell_type": "code",
   "execution_count": 35,
   "metadata": {},
   "outputs": [
    {
     "data": {
      "text/plain": [
       "56686"
      ]
     },
     "execution_count": 35,
     "metadata": {},
     "output_type": "execute_result"
    }
   ],
   "source": [
    "vocabulary = extr_cv.get_feature_names()\n",
    "N_vocabulary = len(vocabulary)\n",
    "N_vocabulary"
   ]
  },
  {
   "cell_type": "markdown",
   "metadata": {},
   "source": [
    "Affiche la première ligne"
   ]
  },
  {
   "cell_type": "code",
   "execution_count": 36,
   "metadata": {},
   "outputs": [
    {
     "name": "stdout",
     "output_type": "stream",
     "text": [
      "cann pen squadron travel boat model lb cann pen squadron travel boat model lb voir present\n"
     ]
    },
    {
     "data": {
      "text/html": [
       "<div>\n",
       "<style scoped>\n",
       "    .dataframe tbody tr th:only-of-type {\n",
       "        vertical-align: middle;\n",
       "    }\n",
       "\n",
       "    .dataframe tbody tr th {\n",
       "        vertical-align: top;\n",
       "    }\n",
       "\n",
       "    .dataframe thead th {\n",
       "        text-align: right;\n",
       "    }\n",
       "</style>\n",
       "<table border=\"1\" class=\"dataframe\">\n",
       "  <thead>\n",
       "    <tr style=\"text-align: right;\">\n",
       "      <th></th>\n",
       "      <th>indices</th>\n",
       "      <th>token</th>\n",
       "      <th>weight</th>\n",
       "    </tr>\n",
       "  </thead>\n",
       "  <tbody>\n",
       "    <tr>\n",
       "      <th>0</th>\n",
       "      <td>41198</td>\n",
       "      <td>present</td>\n",
       "      <td>1</td>\n",
       "    </tr>\n",
       "    <tr>\n",
       "      <th>1</th>\n",
       "      <td>54498</td>\n",
       "      <td>voir</td>\n",
       "      <td>1</td>\n",
       "    </tr>\n",
       "    <tr>\n",
       "      <th>2</th>\n",
       "      <td>29670</td>\n",
       "      <td>lb</td>\n",
       "      <td>2</td>\n",
       "    </tr>\n",
       "    <tr>\n",
       "      <th>3</th>\n",
       "      <td>34234</td>\n",
       "      <td>model</td>\n",
       "      <td>2</td>\n",
       "    </tr>\n",
       "    <tr>\n",
       "      <th>4</th>\n",
       "      <td>6283</td>\n",
       "      <td>boat</td>\n",
       "      <td>2</td>\n",
       "    </tr>\n",
       "    <tr>\n",
       "      <th>5</th>\n",
       "      <td>51990</td>\n",
       "      <td>travel</td>\n",
       "      <td>2</td>\n",
       "    </tr>\n",
       "    <tr>\n",
       "      <th>6</th>\n",
       "      <td>48448</td>\n",
       "      <td>squadron</td>\n",
       "      <td>2</td>\n",
       "    </tr>\n",
       "    <tr>\n",
       "      <th>7</th>\n",
       "      <td>38965</td>\n",
       "      <td>pen</td>\n",
       "      <td>2</td>\n",
       "    </tr>\n",
       "    <tr>\n",
       "      <th>8</th>\n",
       "      <td>8229</td>\n",
       "      <td>cann</td>\n",
       "      <td>2</td>\n",
       "    </tr>\n",
       "  </tbody>\n",
       "</table>\n",
       "</div>"
      ],
      "text/plain": [
       "   indices     token  weight\n",
       "0    41198   present       1\n",
       "1    54498      voir       1\n",
       "2    29670        lb       2\n",
       "3    34234     model       2\n",
       "4     6283      boat       2\n",
       "5    51990    travel       2\n",
       "6    48448  squadron       2\n",
       "7    38965       pen       2\n",
       "8     8229      cann       2"
      ]
     },
     "execution_count": 36,
     "metadata": {},
     "output_type": "execute_result"
    }
   ],
   "source": [
    "ir = 0\n",
    "\n",
    "rw = data_train_OHE.getrow(ir)\n",
    "print(train_array[ir])\n",
    "pd.DataFrame([(v, vocabulary[v], k)  for k,v in zip(rw.data,rw.indices)], columns=[\"indices\",\"token\",\"weight\"])\n"
   ]
  },
  {
   "cell_type": "code",
   "execution_count": 37,
   "metadata": {},
   "outputs": [
    {
     "data": {
      "text/plain": [
       "<5000x56686 sparse matrix of type '<class 'numpy.int64'>'\n",
       "\twith 57503 stored elements in Compressed Sparse Row format>"
      ]
     },
     "execution_count": 37,
     "metadata": {},
     "output_type": "execute_result"
    }
   ],
   "source": [
    "data_test_OHE = extr_cv.transform(test_array)\n",
    "data_test_OHE"
   ]
  },
  {
   "cell_type": "code",
   "execution_count": 38,
   "metadata": {},
   "outputs": [
    {
     "name": "stdout",
     "output_type": "stream",
     "text": [
      "mar maman laurenc jyl mar maman laurenc jyl edit franc loisir rel voir present\n"
     ]
    },
    {
     "data": {
      "text/html": [
       "<div>\n",
       "<style scoped>\n",
       "    .dataframe tbody tr th:only-of-type {\n",
       "        vertical-align: middle;\n",
       "    }\n",
       "\n",
       "    .dataframe tbody tr th {\n",
       "        vertical-align: top;\n",
       "    }\n",
       "\n",
       "    .dataframe thead th {\n",
       "        text-align: right;\n",
       "    }\n",
       "</style>\n",
       "<table border=\"1\" class=\"dataframe\">\n",
       "  <thead>\n",
       "    <tr style=\"text-align: right;\">\n",
       "      <th></th>\n",
       "      <th>indices</th>\n",
       "      <th>token</th>\n",
       "      <th>weight</th>\n",
       "    </tr>\n",
       "  </thead>\n",
       "  <tbody>\n",
       "    <tr>\n",
       "      <th>0</th>\n",
       "      <td>16930</td>\n",
       "      <td>edit</td>\n",
       "      <td>1</td>\n",
       "    </tr>\n",
       "    <tr>\n",
       "      <th>1</th>\n",
       "      <td>21039</td>\n",
       "      <td>franc</td>\n",
       "      <td>1</td>\n",
       "    </tr>\n",
       "    <tr>\n",
       "      <th>2</th>\n",
       "      <td>29594</td>\n",
       "      <td>laurenc</td>\n",
       "      <td>2</td>\n",
       "    </tr>\n",
       "    <tr>\n",
       "      <th>3</th>\n",
       "      <td>30803</td>\n",
       "      <td>loisir</td>\n",
       "      <td>1</td>\n",
       "    </tr>\n",
       "    <tr>\n",
       "      <th>4</th>\n",
       "      <td>31800</td>\n",
       "      <td>maman</td>\n",
       "      <td>2</td>\n",
       "    </tr>\n",
       "    <tr>\n",
       "      <th>5</th>\n",
       "      <td>31988</td>\n",
       "      <td>mar</td>\n",
       "      <td>2</td>\n",
       "    </tr>\n",
       "    <tr>\n",
       "      <th>6</th>\n",
       "      <td>41198</td>\n",
       "      <td>present</td>\n",
       "      <td>1</td>\n",
       "    </tr>\n",
       "    <tr>\n",
       "      <th>7</th>\n",
       "      <td>43336</td>\n",
       "      <td>rel</td>\n",
       "      <td>1</td>\n",
       "    </tr>\n",
       "    <tr>\n",
       "      <th>8</th>\n",
       "      <td>54498</td>\n",
       "      <td>voir</td>\n",
       "      <td>1</td>\n",
       "    </tr>\n",
       "  </tbody>\n",
       "</table>\n",
       "</div>"
      ],
      "text/plain": [
       "   indices    token  weight\n",
       "0    16930     edit       1\n",
       "1    21039    franc       1\n",
       "2    29594  laurenc       2\n",
       "3    30803   loisir       1\n",
       "4    31800    maman       2\n",
       "5    31988      mar       2\n",
       "6    41198  present       1\n",
       "7    43336      rel       1\n",
       "8    54498     voir       1"
      ]
     },
     "execution_count": 38,
     "metadata": {},
     "output_type": "execute_result"
    }
   ],
   "source": [
    "ir = 5\n",
    "\n",
    "rw = data_test_OHE.getrow(ir)\n",
    "print(test_array[ir])\n",
    "pd.DataFrame([(v, vocabulary[v], k)  for k,v in zip(rw.data,rw.indices)], columns=[\"indices\",\"token\",\"weight\"])\n"
   ]
  },
  {
   "cell_type": "markdown",
   "metadata": {},
   "source": [
    "### 4.3 Vectorisation par TF-IDF¶\n",
    "\n",
    "Le *TF-IDF* permet de faire ressortir l'importance relative de chaque mot $m$, ou couples de mots consécutifs (bi-gram*) dans un texte-produit ou un descriptif $d$, par rapport à la liste entière des produits ou descriptifs. La fonction $TF(m,d)$ compte le nombre d'occurences du mot $m$ dans le descriptif $d$. La fonction $IDF(m)$ mesure l'importance du terme dans l'ensemble des documents ou descriptifs en donnant plus de poids aux termes les moins fréquents car considérés comme les plus discriminants (motivation analogue à celle de la métrique du chi2 en analyse des correspondance). $IDF(m,l)=\\log\\frac{D}{f(m)}$ où $D$ est le nombre de documents, la taille de l'échantillon d'apprentissage, et $f(m)$ le nombre de documents ou descriptifs contenant le mot $m$. La nouvelle variable ou *features* est $V_m(l)=TF(m,l)\\times IDF(m,l)$.\n",
    "\n",
    "Comme pour les transformations des variables quantitatives (centrage, réduction), la même transformation c'est-à-dire les mêmes pondérations, est calculée sur l'achantillon d'apprentissage et appliquée à celui de test. La fonction `TfidfVectorizer` opèrecette transformation en produisant une matrice creuse. Fixer le paramètre `norm = False` rend les résultats plus explicite."
   ]
  },
  {
   "cell_type": "code",
   "execution_count": 39,
   "metadata": {},
   "outputs": [
    {
     "data": {
      "text/plain": [
       "<95000x56686 sparse matrix of type '<class 'numpy.float64'>'\n",
       "\twith 1118623 stored elements in Compressed Sparse Row format>"
      ]
     },
     "execution_count": 39,
     "metadata": {},
     "output_type": "execute_result"
    }
   ],
   "source": [
    "from sklearn.feature_extraction.text import TfidfVectorizer\n",
    "\n",
    "vec = TfidfVectorizer( ngram_range=(1,1), norm = False)\n",
    "data_train_TFIDF = vec.fit_transform(train_array)\n",
    "data_train_TFIDF"
   ]
  },
  {
   "cell_type": "code",
   "execution_count": 40,
   "metadata": {},
   "outputs": [
    {
     "data": {
      "text/plain": [
       "56686"
      ]
     },
     "execution_count": 40,
     "metadata": {},
     "output_type": "execute_result"
    }
   ],
   "source": [
    "vocabulary = vec.get_feature_names()\n",
    "N_vocabulary = len(vocabulary)\n",
    "N_vocabulary"
   ]
  },
  {
   "cell_type": "code",
   "execution_count": 41,
   "metadata": {},
   "outputs": [
    {
     "name": "stdout",
     "output_type": "stream",
     "text": [
      "cann pen squadron travel boat model lb cann pen squadron travel boat model lb voir present\n"
     ]
    },
    {
     "data": {
      "text/html": [
       "<div>\n",
       "<style scoped>\n",
       "    .dataframe tbody tr th:only-of-type {\n",
       "        vertical-align: middle;\n",
       "    }\n",
       "\n",
       "    .dataframe tbody tr th {\n",
       "        vertical-align: top;\n",
       "    }\n",
       "\n",
       "    .dataframe thead th {\n",
       "        text-align: right;\n",
       "    }\n",
       "</style>\n",
       "<table border=\"1\" class=\"dataframe\">\n",
       "  <thead>\n",
       "    <tr style=\"text-align: right;\">\n",
       "      <th></th>\n",
       "      <th>indices</th>\n",
       "      <th>token</th>\n",
       "      <th>idf</th>\n",
       "      <th>weight</th>\n",
       "    </tr>\n",
       "  </thead>\n",
       "  <tbody>\n",
       "    <tr>\n",
       "      <th>0</th>\n",
       "      <td>8229</td>\n",
       "      <td>cann</td>\n",
       "      <td>8.018991</td>\n",
       "      <td>16.037983</td>\n",
       "    </tr>\n",
       "    <tr>\n",
       "      <th>1</th>\n",
       "      <td>38965</td>\n",
       "      <td>pen</td>\n",
       "      <td>8.569822</td>\n",
       "      <td>17.139645</td>\n",
       "    </tr>\n",
       "    <tr>\n",
       "      <th>2</th>\n",
       "      <td>48448</td>\n",
       "      <td>squadron</td>\n",
       "      <td>11.768496</td>\n",
       "      <td>23.536991</td>\n",
       "    </tr>\n",
       "    <tr>\n",
       "      <th>3</th>\n",
       "      <td>51990</td>\n",
       "      <td>travel</td>\n",
       "      <td>8.824057</td>\n",
       "      <td>17.648113</td>\n",
       "    </tr>\n",
       "    <tr>\n",
       "      <th>4</th>\n",
       "      <td>6283</td>\n",
       "      <td>boat</td>\n",
       "      <td>9.822585</td>\n",
       "      <td>19.645171</td>\n",
       "    </tr>\n",
       "    <tr>\n",
       "      <th>5</th>\n",
       "      <td>34234</td>\n",
       "      <td>model</td>\n",
       "      <td>4.504115</td>\n",
       "      <td>9.008231</td>\n",
       "    </tr>\n",
       "    <tr>\n",
       "      <th>6</th>\n",
       "      <td>29670</td>\n",
       "      <td>lb</td>\n",
       "      <td>10.852205</td>\n",
       "      <td>21.704410</td>\n",
       "    </tr>\n",
       "    <tr>\n",
       "      <th>7</th>\n",
       "      <td>54498</td>\n",
       "      <td>voir</td>\n",
       "      <td>1.335204</td>\n",
       "      <td>1.335204</td>\n",
       "    </tr>\n",
       "    <tr>\n",
       "      <th>8</th>\n",
       "      <td>41198</td>\n",
       "      <td>present</td>\n",
       "      <td>1.341626</td>\n",
       "      <td>1.341626</td>\n",
       "    </tr>\n",
       "  </tbody>\n",
       "</table>\n",
       "</div>"
      ],
      "text/plain": [
       "   indices     token        idf     weight\n",
       "0     8229      cann   8.018991  16.037983\n",
       "1    38965       pen   8.569822  17.139645\n",
       "2    48448  squadron  11.768496  23.536991\n",
       "3    51990    travel   8.824057  17.648113\n",
       "4     6283      boat   9.822585  19.645171\n",
       "5    34234     model   4.504115   9.008231\n",
       "6    29670        lb  10.852205  21.704410\n",
       "7    54498      voir   1.335204   1.335204\n",
       "8    41198   present   1.341626   1.341626"
      ]
     },
     "execution_count": 41,
     "metadata": {},
     "output_type": "execute_result"
    }
   ],
   "source": [
    "ir = 0\n",
    "\n",
    "rw = data_train_TFIDF.getrow(ir)\n",
    "print(train_array[ir])\n",
    "pd.DataFrame([(v, vocabulary[v], vec.idf_[v], k)  for k,v in zip(rw.data,rw.indices)], columns=[\"indices\",\"token\",\"idf\",\"weight\"])\n"
   ]
  },
  {
   "cell_type": "markdown",
   "metadata": {},
   "source": [
    "La fonction `TfidfVectorizer` admet plusieurs variantes: *smooth idf, sublinear_tf* ainsi que la possibilité de prendre en compte des n-gram mais la taille du dictionnaire explose.\n",
    "\n",
    "La même transformation de vectorisation est ensuite appliquée sur le jeu de données test."
   ]
  },
  {
   "cell_type": "code",
   "execution_count": 42,
   "metadata": {},
   "outputs": [
    {
     "data": {
      "text/plain": [
       "<5000x56686 sparse matrix of type '<class 'numpy.float64'>'\n",
       "\twith 57503 stored elements in Compressed Sparse Row format>"
      ]
     },
     "execution_count": 42,
     "metadata": {},
     "output_type": "execute_result"
    }
   ],
   "source": [
    "data_test_TFIDF = vec.transform(test_array)\n",
    "data_test_TFIDF"
   ]
  },
  {
   "cell_type": "markdown",
   "metadata": {},
   "source": [
    "Le *tf* est évalué pour chaque ligne ou descriptif mais pondéré par le même *idf*."
   ]
  },
  {
   "cell_type": "code",
   "execution_count": 43,
   "metadata": {},
   "outputs": [
    {
     "name": "stdout",
     "output_type": "stream",
     "text": [
      "mar maman laurenc jyl mar maman laurenc jyl edit franc loisir rel voir present\n"
     ]
    },
    {
     "data": {
      "text/html": [
       "<div>\n",
       "<style scoped>\n",
       "    .dataframe tbody tr th:only-of-type {\n",
       "        vertical-align: middle;\n",
       "    }\n",
       "\n",
       "    .dataframe tbody tr th {\n",
       "        vertical-align: top;\n",
       "    }\n",
       "\n",
       "    .dataframe thead th {\n",
       "        text-align: right;\n",
       "    }\n",
       "</style>\n",
       "<table border=\"1\" class=\"dataframe\">\n",
       "  <thead>\n",
       "    <tr style=\"text-align: right;\">\n",
       "      <th></th>\n",
       "      <th>indices</th>\n",
       "      <th>token</th>\n",
       "      <th>idf</th>\n",
       "      <th>weight</th>\n",
       "    </tr>\n",
       "  </thead>\n",
       "  <tbody>\n",
       "    <tr>\n",
       "      <th>0</th>\n",
       "      <td>54498</td>\n",
       "      <td>voir</td>\n",
       "      <td>1.335204</td>\n",
       "      <td>1.335204</td>\n",
       "    </tr>\n",
       "    <tr>\n",
       "      <th>1</th>\n",
       "      <td>43336</td>\n",
       "      <td>rel</td>\n",
       "      <td>8.271988</td>\n",
       "      <td>8.271988</td>\n",
       "    </tr>\n",
       "    <tr>\n",
       "      <th>2</th>\n",
       "      <td>41198</td>\n",
       "      <td>present</td>\n",
       "      <td>1.341626</td>\n",
       "      <td>1.341626</td>\n",
       "    </tr>\n",
       "    <tr>\n",
       "      <th>3</th>\n",
       "      <td>31988</td>\n",
       "      <td>mar</td>\n",
       "      <td>7.058965</td>\n",
       "      <td>14.117931</td>\n",
       "    </tr>\n",
       "    <tr>\n",
       "      <th>4</th>\n",
       "      <td>31800</td>\n",
       "      <td>maman</td>\n",
       "      <td>9.370600</td>\n",
       "      <td>18.741200</td>\n",
       "    </tr>\n",
       "    <tr>\n",
       "      <th>5</th>\n",
       "      <td>30803</td>\n",
       "      <td>loisir</td>\n",
       "      <td>8.117837</td>\n",
       "      <td>8.117837</td>\n",
       "    </tr>\n",
       "    <tr>\n",
       "      <th>6</th>\n",
       "      <td>29594</td>\n",
       "      <td>laurenc</td>\n",
       "      <td>10.063747</td>\n",
       "      <td>20.127495</td>\n",
       "    </tr>\n",
       "    <tr>\n",
       "      <th>7</th>\n",
       "      <td>21039</td>\n",
       "      <td>franc</td>\n",
       "      <td>4.861741</td>\n",
       "      <td>4.861741</td>\n",
       "    </tr>\n",
       "    <tr>\n",
       "      <th>8</th>\n",
       "      <td>16930</td>\n",
       "      <td>edit</td>\n",
       "      <td>3.664094</td>\n",
       "      <td>3.664094</td>\n",
       "    </tr>\n",
       "  </tbody>\n",
       "</table>\n",
       "</div>"
      ],
      "text/plain": [
       "   indices    token        idf     weight\n",
       "0    54498     voir   1.335204   1.335204\n",
       "1    43336      rel   8.271988   8.271988\n",
       "2    41198  present   1.341626   1.341626\n",
       "3    31988      mar   7.058965  14.117931\n",
       "4    31800    maman   9.370600  18.741200\n",
       "5    30803   loisir   8.117837   8.117837\n",
       "6    29594  laurenc  10.063747  20.127495\n",
       "7    21039    franc   4.861741   4.861741\n",
       "8    16930     edit   3.664094   3.664094"
      ]
     },
     "execution_count": 43,
     "metadata": {},
     "output_type": "execute_result"
    }
   ],
   "source": [
    "ir = 5\n",
    "\n",
    "rw = data_test_TFIDF.getrow(ir)\n",
    "print(test_array[ir])\n",
    "pd.DataFrame([(v, vocabulary[v], vec.idf_[v], k)  for k,v in zip(rw.data,rw.indices)], columns=[\"indices\",\"token\",\"idf\",\"weight\"])\n"
   ]
  },
  {
   "cell_type": "markdown",
   "metadata": {},
   "source": [
    "### 4.4 Fonction de Hashage\n",
    "\n",
    "Le *hashnig* permet de réduire l'espace des variables (taille du dictionnaire) en un nombre limité et fixé a priori `n_hash` de caractéristiques ou *features*. Il repose sur la définition d'une fonction de hashage $h$ qui à un indice $j$ défini dans l'espace des entiers naturels, renvoie de façon déterministe et injective un indice $i=h(j)$ dans dans l'espace réduit (1 à n_hash) des caractéristiques. Ainsi le poids de l'indice $i$, du nouvel espace, est l'association de tous les poids d'indice $j$ tels que $i=h(j)$ de l'espace originale. Ici, les poids sont associés d'après la méthode décrite par Weinberger et al. (2009).\n",
    "\n",
    "N.B. $h$ n'est pas généré aléatoirement. Ainsi pour un même fichier d'apprentissage (ou de test) et pour un même entier `n_hash`, le résultat de la fonction de hashage est identique\n",
    "\n",
    "Le dictionnaire est pris en paramètre d'entrée."
   ]
  },
  {
   "cell_type": "code",
   "execution_count": 44,
   "metadata": {},
   "outputs": [],
   "source": [
    "from sklearn.feature_extraction import FeatureHasher\n",
    "nb_hash = 300\n",
    "\n",
    "feathash = FeatureHasher(nb_hash)\n",
    "train_dict_array  = map(lambda x : collections.Counter(x.split(\" \")), train_array)\n",
    "data_train_hash = feathash.fit_transform(train_dict_array)"
   ]
  },
  {
   "cell_type": "code",
   "execution_count": 45,
   "metadata": {},
   "outputs": [
    {
     "data": {
      "text/plain": [
       "<95000x300 sparse matrix of type '<class 'numpy.float64'>'\n",
       "\twith 1092837 stored elements in Compressed Sparse Row format>"
      ]
     },
     "execution_count": 45,
     "metadata": {},
     "output_type": "execute_result"
    }
   ],
   "source": [
    "data_train_hash"
   ]
  },
  {
   "cell_type": "code",
   "execution_count": 46,
   "metadata": {},
   "outputs": [
    {
     "name": "stdout",
     "output_type": "stream",
     "text": [
      "cann pen squadron travel boat model lb cann pen squadron travel boat model lb voir present\n"
     ]
    },
    {
     "data": {
      "text/html": [
       "<div>\n",
       "<style scoped>\n",
       "    .dataframe tbody tr th:only-of-type {\n",
       "        vertical-align: middle;\n",
       "    }\n",
       "\n",
       "    .dataframe tbody tr th {\n",
       "        vertical-align: top;\n",
       "    }\n",
       "\n",
       "    .dataframe thead th {\n",
       "        text-align: right;\n",
       "    }\n",
       "</style>\n",
       "<table border=\"1\" class=\"dataframe\">\n",
       "  <thead>\n",
       "    <tr style=\"text-align: right;\">\n",
       "      <th></th>\n",
       "      <th>indices</th>\n",
       "      <th>weight</th>\n",
       "    </tr>\n",
       "  </thead>\n",
       "  <tbody>\n",
       "    <tr>\n",
       "      <th>0</th>\n",
       "      <td>42</td>\n",
       "      <td>-2.0</td>\n",
       "    </tr>\n",
       "    <tr>\n",
       "      <th>1</th>\n",
       "      <td>68</td>\n",
       "      <td>-2.0</td>\n",
       "    </tr>\n",
       "    <tr>\n",
       "      <th>2</th>\n",
       "      <td>94</td>\n",
       "      <td>2.0</td>\n",
       "    </tr>\n",
       "    <tr>\n",
       "      <th>3</th>\n",
       "      <td>116</td>\n",
       "      <td>2.0</td>\n",
       "    </tr>\n",
       "    <tr>\n",
       "      <th>4</th>\n",
       "      <td>117</td>\n",
       "      <td>-2.0</td>\n",
       "    </tr>\n",
       "    <tr>\n",
       "      <th>5</th>\n",
       "      <td>142</td>\n",
       "      <td>2.0</td>\n",
       "    </tr>\n",
       "    <tr>\n",
       "      <th>6</th>\n",
       "      <td>149</td>\n",
       "      <td>2.0</td>\n",
       "    </tr>\n",
       "    <tr>\n",
       "      <th>7</th>\n",
       "      <td>220</td>\n",
       "      <td>-1.0</td>\n",
       "    </tr>\n",
       "    <tr>\n",
       "      <th>8</th>\n",
       "      <td>274</td>\n",
       "      <td>1.0</td>\n",
       "    </tr>\n",
       "  </tbody>\n",
       "</table>\n",
       "</div>"
      ],
      "text/plain": [
       "   indices  weight\n",
       "0       42    -2.0\n",
       "1       68    -2.0\n",
       "2       94     2.0\n",
       "3      116     2.0\n",
       "4      117    -2.0\n",
       "5      142     2.0\n",
       "6      149     2.0\n",
       "7      220    -1.0\n",
       "8      274     1.0"
      ]
     },
     "execution_count": 46,
     "metadata": {},
     "output_type": "execute_result"
    }
   ],
   "source": [
    "ir = 0\n",
    "\n",
    "rw = data_train_hash.getrow(ir)\n",
    "print(train_array[ir])\n",
    "pd.DataFrame([(v, k)  for k,v in zip(rw.data,rw.indices)], columns=[\"indices\",\"weight\"])\n"
   ]
  },
  {
   "cell_type": "markdown",
   "metadata": {},
   "source": [
    "Cette fonction réduit la taille de la matrice, mais il n'existe pas de fonction inverse explicite à cette transformation. Le résultat perd en lisibilit ou interprétabilité. C'est néanmoins indispensbale si le dictionnaire est très volumineux. Pour la partie d'apprentissage, il est possible d'utiliser la matrice de hashage obtenue comme des présence absence ou encore de lui associer les pondérations issues d'une transformation TF-IDF comme ci-dessous."
   ]
  },
  {
   "cell_type": "code",
   "execution_count": 47,
   "metadata": {},
   "outputs": [
    {
     "data": {
      "text/plain": [
       "<95000x300 sparse matrix of type '<class 'numpy.float64'>'\n",
       "\twith 1084478 stored elements in Compressed Sparse Row format>"
      ]
     },
     "execution_count": 47,
     "metadata": {},
     "output_type": "execute_result"
    }
   ],
   "source": [
    "from sklearn.feature_extraction.text import TfidfTransformer\n",
    "\n",
    "vec =  TfidfTransformer(norm = False)\n",
    "data_train_HTfidf = vec.fit_transform(data_train_hash)\n",
    "data_train_HTfidf"
   ]
  },
  {
   "cell_type": "code",
   "execution_count": 48,
   "metadata": {},
   "outputs": [
    {
     "name": "stdout",
     "output_type": "stream",
     "text": [
      "cann pen squadron travel boat model lb cann pen squadron travel boat model lb voir present\n"
     ]
    },
    {
     "data": {
      "text/html": [
       "<div>\n",
       "<style scoped>\n",
       "    .dataframe tbody tr th:only-of-type {\n",
       "        vertical-align: middle;\n",
       "    }\n",
       "\n",
       "    .dataframe tbody tr th {\n",
       "        vertical-align: top;\n",
       "    }\n",
       "\n",
       "    .dataframe thead th {\n",
       "        text-align: right;\n",
       "    }\n",
       "</style>\n",
       "<table border=\"1\" class=\"dataframe\">\n",
       "  <thead>\n",
       "    <tr style=\"text-align: right;\">\n",
       "      <th></th>\n",
       "      <th>indices</th>\n",
       "      <th>idf_</th>\n",
       "      <th>weight</th>\n",
       "    </tr>\n",
       "  </thead>\n",
       "  <tbody>\n",
       "    <tr>\n",
       "      <th>0</th>\n",
       "      <td>274</td>\n",
       "      <td>1.311180</td>\n",
       "      <td>1.311180</td>\n",
       "    </tr>\n",
       "    <tr>\n",
       "      <th>1</th>\n",
       "      <td>220</td>\n",
       "      <td>1.326937</td>\n",
       "      <td>-1.326937</td>\n",
       "    </tr>\n",
       "    <tr>\n",
       "      <th>2</th>\n",
       "      <td>149</td>\n",
       "      <td>4.798235</td>\n",
       "      <td>9.596470</td>\n",
       "    </tr>\n",
       "    <tr>\n",
       "      <th>3</th>\n",
       "      <td>142</td>\n",
       "      <td>4.341946</td>\n",
       "      <td>8.683893</td>\n",
       "    </tr>\n",
       "    <tr>\n",
       "      <th>4</th>\n",
       "      <td>117</td>\n",
       "      <td>4.458949</td>\n",
       "      <td>-8.917897</td>\n",
       "    </tr>\n",
       "    <tr>\n",
       "      <th>5</th>\n",
       "      <td>116</td>\n",
       "      <td>3.765467</td>\n",
       "      <td>7.530934</td>\n",
       "    </tr>\n",
       "    <tr>\n",
       "      <th>6</th>\n",
       "      <td>94</td>\n",
       "      <td>5.321982</td>\n",
       "      <td>10.643965</td>\n",
       "    </tr>\n",
       "    <tr>\n",
       "      <th>7</th>\n",
       "      <td>68</td>\n",
       "      <td>5.289986</td>\n",
       "      <td>-10.579972</td>\n",
       "    </tr>\n",
       "    <tr>\n",
       "      <th>8</th>\n",
       "      <td>42</td>\n",
       "      <td>4.855753</td>\n",
       "      <td>-9.711505</td>\n",
       "    </tr>\n",
       "  </tbody>\n",
       "</table>\n",
       "</div>"
      ],
      "text/plain": [
       "   indices      idf_     weight\n",
       "0      274  1.311180   1.311180\n",
       "1      220  1.326937  -1.326937\n",
       "2      149  4.798235   9.596470\n",
       "3      142  4.341946   8.683893\n",
       "4      117  4.458949  -8.917897\n",
       "5      116  3.765467   7.530934\n",
       "6       94  5.321982  10.643965\n",
       "7       68  5.289986 -10.579972\n",
       "8       42  4.855753  -9.711505"
      ]
     },
     "execution_count": 48,
     "metadata": {},
     "output_type": "execute_result"
    }
   ],
   "source": [
    "ir = 0\n",
    "\n",
    "rw = data_train_HTfidf.getrow(ir)\n",
    "print(train_array[ir])\n",
    "pd.DataFrame([(v, vec.idf_[v], k)  for k,v in zip(rw.data, rw.indices)], columns=[\"indices\",\"idf_\",\"weight\"])\n"
   ]
  },
  {
   "cell_type": "markdown",
   "metadata": {},
   "source": [
    "### 4.5 Fonctions de Vectorisation\n",
    "\n",
    "Ces transformaitons asdmettent de nombreuses options dont il faut fixer les valeurs des paramètres. Dans les présents tests, seuls 4 jeux d'apprentissage et test sont construits:\n",
    "* `count` avec des occurences (*one hot*) de 0,1 \n",
    "   - sans hashage \n",
    "   - avec `n_hash=300`\n",
    "* `TFIDF` \n",
    "   - sans hashage \n",
    "   - avec `n_hash=300`\n",
    "\n",
    "D'autres options pourraient être considérées en introduisant des n-grams ou en faisant varier `n_hash` ou encore les variantes de *TFIDF*. \n",
    "\n",
    "Les deux fonctions `vectorizer_train` and `apply_vectorizer` permettent de générer les différentes options sur l'échantillon d'apprentissage puis de les appliquéer également à l'échantillon test."
   ]
  },
  {
   "cell_type": "code",
   "execution_count": 49,
   "metadata": {
    "code_folding": []
   },
   "outputs": [],
   "source": [
    "def vectorizer_train(df, columns=['Description'], nb_hash=None, nb_gram = 1, vectorizer = \"tfidf\" , binary = False):\n",
    "    \n",
    "    data_array = [\" \".join(line) for line in df[columns].values]\n",
    "    \n",
    "    # Hashage\n",
    "    if nb_hash is None:\n",
    "        feathash = None\n",
    "        if vectorizer == \"tfidf\":\n",
    "            vec = TfidfVectorizer(ngram_range=(1,nb_gram))\n",
    "            data_vec = vec.fit_transform(data_array)\n",
    "        else:\n",
    "            vec = CountVectorizer(binary=binary)\n",
    "            data_vec = vec.fit_transform(data_array)\n",
    "    else:\n",
    "        data_dic_array = [collections.Counter(line.split(\" \")) for line in data_array]\n",
    "        feathash = FeatureHasher(nb_hash)\n",
    "        data_hash = feathash.fit_transform(data_dic_array)\n",
    "        \n",
    "        if vectorizer==\"tfidf\":\n",
    "            vec =  TfidfTransformer()\n",
    "            data_vec =  vec.fit_transform(data_hash)\n",
    "        else:\n",
    "            vec = None\n",
    "            data_vec = data_hash\n",
    "\n",
    "    return vec, feathash, data_vec\n",
    "\n",
    "\n",
    "\n",
    "def apply_vectorizer(df, vec, feathash, columns =['Description', 'Libelle', 'Marque']):\n",
    "    \n",
    "    data_array = [\" \".join(line) for line in df[columns].values]\n",
    "    \n",
    "    #Hashage\n",
    "    if feathash is None:\n",
    "        data_hash = data_array\n",
    "    else:\n",
    "        data_dic_array = [collections.Counter(line.split(\" \")) for line in data_array]\n",
    "        data_hash = feathash.transform(data_dic_array)\n",
    "    \n",
    "    if vec is None:\n",
    "        data_vec = data_hash\n",
    "    else:\n",
    "        data_vec = vec.transform(data_hash)\n",
    "    return data_vec\n"
   ]
  },
  {
   "cell_type": "markdown",
   "metadata": {},
   "source": [
    "Création des couples de données apprentissage x test."
   ]
  },
  {
   "cell_type": "code",
   "execution_count": 50,
   "metadata": {},
   "outputs": [
    {
     "name": "stdout",
     "output_type": "stream",
     "text": [
      "nb_hash : None, vectorizer : count\n",
      "Runing time for vectorization : 1.7 seconds\n",
      "Train shape : (95000, 56686)\n",
      "Test shape : (5000, 56686)\n",
      "nb_hash : 300, vectorizer : count\n",
      "Runing time for vectorization : 1.1 seconds\n",
      "Train shape : (95000, 300)\n",
      "Test shape : (5000, 300)\n",
      "nb_hash : 10000, vectorizer : count\n",
      "Runing time for vectorization : 1.2 seconds\n",
      "Train shape : (95000, 10000)\n",
      "Test shape : (5000, 10000)\n",
      "nb_hash : None, vectorizer : tfidf\n",
      "Runing time for vectorization : 1.6 seconds\n",
      "Train shape : (95000, 56686)\n",
      "Test shape : (5000, 56686)\n",
      "nb_hash : 300, vectorizer : tfidf\n",
      "Runing time for vectorization : 1.1 seconds\n",
      "Train shape : (95000, 300)\n",
      "Test shape : (5000, 300)\n",
      "nb_hash : 10000, vectorizer : tfidf\n",
      "Runing time for vectorization : 1.0 seconds\n",
      "Train shape : (95000, 10000)\n",
      "Test shape : (5000, 10000)\n"
     ]
    }
   ],
   "source": [
    "parameters = [[None, \"count\"],\n",
    "              [300, \"count\"],\n",
    "              [10000,\"count\"],\n",
    "              [None, \"tfidf\"],\n",
    "              [300, \"tfidf\"],\n",
    "             [10000,\"tfidf\"]]\n",
    "\n",
    "from scipy import sparse\n",
    "\n",
    "for nb_hash, vectorizer in parameters:\n",
    "    ts = time.time()\n",
    "    vec, feathash, data_train_vec = vectorizer_train(data_train_clean_stem, nb_hash=nb_hash, vectorizer = vectorizer)\n",
    "    data_test_vec = apply_vectorizer(data_test_clean_stem, vec, feathash)\n",
    "    te = time.time()\n",
    "    \n",
    "    print(\"nb_hash : \" + str(nb_hash) + \", vectorizer : \" + str(vectorizer))\n",
    "    print(\"Runing time for vectorization : %.1f seconds\" %(te-ts))\n",
    "    print(\"Train shape : \" + str(data_train_vec.shape))\n",
    "    print(\"Test shape : \" + str(data_test_vec.shape))\n",
    "\n",
    "    \n",
    "    sparse.save_npz(DATA_OUTPUT_DIR +\"/vec_train_nb_hash_\" + str(nb_hash) + \"_vectorizer_\" + str(vectorizer), data_train_vec)\n",
    "    sparse.save_npz(DATA_OUTPUT_DIR +\"/vec_test_nb_hash_\" + str(nb_hash) + \"_vectorizer_\" + str(vectorizer), data_test_vec)\n",
    "    "
   ]
  },
  {
   "cell_type": "markdown",
   "metadata": {},
   "source": [
    "## 5 Vectorisation par `Word2Vec`\n",
    "Cette fonction consiste à opérer un *plongement* (*embedding*) du dictionnaire dans un espace vectoriel de dimension fixé. Chaque mot est alors un vecteur de cet espace dont grosso-modo la proximité au sens de la métrique euclidienne est fonction des co-occurences des mots dans un proche voisinage au sein d'un même texte. Le voisinnage est défini par une fenêtre de taille ou nombre de mots consécutifs fixé. \n",
    "\n",
    "Cette fonction est techniquement l'application d'un algorithme *autoencoder-decoder* à trois couches. La couche d'entrée est celle de sortie ont la taille du dictionnaire, celle cachée a pour taille la dimension de l'espace vectoriel. Deux options sont disponibles `CBOW` ( continuous bag-of-words) ou `skip-gram` selon que le mot est entrée associé en sortie avec les mots présents dans la fenètre ou *vice-versa*. \n",
    "\n",
    "La fonction `word2vec` intègre à sa façon l'environnement de chaque mot et donc une part séantique de chaque texte mais san sprende en compte l'ordre des mots.\n",
    "\n",
    "De très nombreuses astuces algorithmiques permettent d'évaluer cette matrice de vecteurs (un par mot) même sur des corpus de donées très volumineux comme les *google news* ou les pages Wikipedia dans une langue déterminée. \n",
    "\n",
    "Il est ainsi possible d'apprendre un \"modèle\" à partir de son corpus de données ou encore de charger un module déjà appris. [Kyubyong Park](https://github.com/Kyubyong/wordvectors) propose des modèles pour une trentaine de langues dont le français.\n",
    "\n",
    "La librairie `gensim` opère ce *Word Embedding* par `Word2Vec`."
   ]
  },
  {
   "cell_type": "code",
   "execution_count": 51,
   "metadata": {},
   "outputs": [],
   "source": [
    "import gensim\n",
    "\n",
    "import nltk \n",
    "stemmer=nltk.stem.SnowballStemmer('french')"
   ]
  },
  {
   "cell_type": "markdown",
   "metadata": {},
   "source": [
    "### 5.1 Construire un modèle  Word2Vec\n",
    "Préparation des données et choix des options."
   ]
  },
  {
   "cell_type": "code",
   "execution_count": 52,
   "metadata": {},
   "outputs": [],
   "source": [
    "train_array_token = [line.split(\" \") for line in train_array]\n",
    "test_array_token = [line.split(\" \") for line in test_array]"
   ]
  },
  {
   "cell_type": "markdown",
   "metadata": {},
   "source": [
    "Choix des paramètres ci-dessous:\n",
    "\n",
    "La valeur de `sg` détermine l'option: \"1\" pour `skip-gram` ou \"0\" pour `CBOW`. \n",
    "\n",
    "`hs` dirige les options de l'algorihtme. \n",
    "* `hs=1` l'entraînement est opéré avec une fonction de `softmax` hiérarchique\n",
    "* `hs=0` et `negative` entier entre 5 et 20. Spécifie combien de \"nots bruits\" sont tirés aléatoirement parmi ceux qui ne sont pas dans la fenêtre. "
   ]
  },
  {
   "cell_type": "code",
   "execution_count": 53,
   "metadata": {},
   "outputs": [],
   "source": [
    "Features_dimension = 300\n",
    "sg = 1\n",
    "hs = 0\n",
    "negative = 10\n",
    "X = train_array_token\n",
    "N_train = len(X)"
   ]
  },
  {
   "cell_type": "markdown",
   "metadata": {},
   "source": [
    "Estimation des modèles à partir du corpus de textes pour les deux modes de l'algorihtme: `skip-gram`  ou `CBOW`."
   ]
  },
  {
   "cell_type": "code",
   "execution_count": 54,
   "metadata": {},
   "outputs": [
    {
     "name": "stdout",
     "output_type": "stream",
     "text": [
      "Start learning Word2Vec learning\n",
      "Params are : Fdim_300_sg_0_hs_0_negative_10_model\n",
      "{'learning_time': 17.065473318099976, 'vocab_size': 56687, 'sg': 0, 'negative': 10, 'hs': 0}\n",
      "Start learning Word2Vec learning\n",
      "Params are : Fdim_300_sg_1_hs_0_negative_10_model\n",
      "{'learning_time': 62.40083599090576, 'vocab_size': 56687, 'sg': 1, 'negative': 10, 'hs': 0}\n"
     ]
    }
   ],
   "source": [
    "model_dic = {}\n",
    "for sg in [0,1]:\n",
    "    print(\"Start learning Word2Vec learning\")\n",
    "    print(\"Params are : Fdim_%d_sg_%d_hs_%d_negative_%d_model\" %(Features_dimension, sg, hs, negative))\n",
    "    ts = time.time()\n",
    "    model = gensim.models.Word2Vec(X, sg=sg, hs=hs, negative=negative, min_count=1, size=Features_dimension)\n",
    "    te = time.time()\n",
    "    t_learning = te-ts\n",
    "\n",
    "    # Metadata\n",
    "    N_vocab, feature_dim = model.wv.vectors.shape\n",
    "    metadata = {\"learning_time\" : t_learning, \"vocab_size\" : N_vocab, \"sg\" : sg, \"negative\": negative, \"hs\":hs}\n",
    "    print(metadata)\n",
    "    \n",
    "    model_name = \"skip-gram\" if sg==1 else \"CBOW\"\n",
    "    model_dic.update({model_name : model})"
   ]
  },
  {
   "cell_type": "markdown",
   "metadata": {},
   "source": [
    "Charger puis décompresser le modèle de  [Kyubyong Park](https://github.com/Kyubyong/wordvectors) pour le français. dans le répertoire `data` avant de charger ce modèle `on line`."
   ]
  },
  {
   "cell_type": "code",
   "execution_count": 55,
   "metadata": {},
   "outputs": [],
   "source": [
    "model_online_dir = \"data/fr/fr.bin\"\n",
    "model = gensim.models.Word2Vec.load(model_online_dir)\n",
    "model_dic.update({\"online\" : model})"
   ]
  },
  {
   "cell_type": "markdown",
   "metadata": {},
   "source": [
    "### 5.3 Utilisation de Word2Vec en NLP\n",
    "#### Mots les plus similaires\n",
    "Les résultats sont pertinent avec un volume suffisant; *e.g.* `N_train=1.000.000`; l'effectif de 100.000 est trop réduit."
   ]
  },
  {
   "cell_type": "code",
   "execution_count": 56,
   "metadata": {},
   "outputs": [
    {
     "name": "stderr",
     "output_type": "stream",
     "text": [
      "/home-local/pbesse/anaconda3/lib/python3.6/site-packages/gensim/models/word2vec.py:859: UserWarning: All the input context words are out-of-vocabulary for the current model.\n",
      "  warnings.warn(\"All the input context words are out-of-vocabulary for the current model.\")\n"
     ]
    }
   ],
   "source": [
    "model.predict_output_word([\"homm\"])"
   ]
  },
  {
   "cell_type": "code",
   "execution_count": 57,
   "metadata": {},
   "outputs": [
    {
     "name": "stdout",
     "output_type": "stream",
     "text": [
      "Most similar words for word : homme\n"
     ]
    },
    {
     "data": {
      "text/html": [
       "<div>\n",
       "<style scoped>\n",
       "    .dataframe tbody tr th:only-of-type {\n",
       "        vertical-align: middle;\n",
       "    }\n",
       "\n",
       "    .dataframe tbody tr th {\n",
       "        vertical-align: top;\n",
       "    }\n",
       "\n",
       "    .dataframe thead th {\n",
       "        text-align: right;\n",
       "    }\n",
       "</style>\n",
       "<table border=\"1\" class=\"dataframe\">\n",
       "  <thead>\n",
       "    <tr style=\"text-align: right;\">\n",
       "      <th></th>\n",
       "      <th>CBOW</th>\n",
       "      <th>skip-gram</th>\n",
       "      <th>online</th>\n",
       "    </tr>\n",
       "  </thead>\n",
       "  <tbody>\n",
       "    <tr>\n",
       "      <th>0</th>\n",
       "      <td>femm</td>\n",
       "      <td>unisex</td>\n",
       "      <td>aventurier</td>\n",
       "    </tr>\n",
       "    <tr>\n",
       "      <th>1</th>\n",
       "      <td>unisex</td>\n",
       "      <td>emporio</td>\n",
       "      <td>aristocrate</td>\n",
       "    </tr>\n",
       "    <tr>\n",
       "      <th>2</th>\n",
       "      <td>norway</td>\n",
       "      <td>arman</td>\n",
       "      <td>garçon</td>\n",
       "    </tr>\n",
       "    <tr>\n",
       "      <th>3</th>\n",
       "      <td>arman</td>\n",
       "      <td>garcon</td>\n",
       "      <td>vieillard</td>\n",
       "    </tr>\n",
       "    <tr>\n",
       "      <th>4</th>\n",
       "      <td>emporio</td>\n",
       "      <td>chronograph</td>\n",
       "      <td>délinquant</td>\n",
       "    </tr>\n",
       "    <tr>\n",
       "      <th>5</th>\n",
       "      <td>hommecet</td>\n",
       "      <td>army</td>\n",
       "      <td>écrivain</td>\n",
       "    </tr>\n",
       "    <tr>\n",
       "      <th>6</th>\n",
       "      <td>lssb</td>\n",
       "      <td>umbro</td>\n",
       "      <td>politicien</td>\n",
       "    </tr>\n",
       "    <tr>\n",
       "      <th>7</th>\n",
       "      <td>adm</td>\n",
       "      <td>sportsman</td>\n",
       "      <td>escroc</td>\n",
       "    </tr>\n",
       "    <tr>\n",
       "      <th>8</th>\n",
       "      <td>bermud</td>\n",
       "      <td>stuhrling</td>\n",
       "      <td>orateur</td>\n",
       "    </tr>\n",
       "    <tr>\n",
       "      <th>9</th>\n",
       "      <td>geographical</td>\n",
       "      <td>redskin</td>\n",
       "      <td>érudit</td>\n",
       "    </tr>\n",
       "  </tbody>\n",
       "</table>\n",
       "</div>"
      ],
      "text/plain": [
       "           CBOW    skip-gram       online\n",
       "0          femm       unisex   aventurier\n",
       "1        unisex      emporio  aristocrate\n",
       "2        norway        arman       garçon\n",
       "3         arman       garcon    vieillard\n",
       "4       emporio  chronograph   délinquant\n",
       "5      hommecet         army     écrivain\n",
       "6          lssb        umbro   politicien\n",
       "7           adm    sportsman       escroc\n",
       "8        bermud    stuhrling      orateur\n",
       "9  geographical      redskin       érudit"
      ]
     },
     "execution_count": 57,
     "metadata": {},
     "output_type": "execute_result"
    }
   ],
   "source": [
    "term=\"homme\"\n",
    "\n",
    "df_ = []\n",
    "columns = []\n",
    "for model_name, model in model_dic.items():\n",
    "    token = stemmer.stem(term) if \"online\"!=model_name else term\n",
    "    mpow = model.wv.most_similar([token])\n",
    "    if mpow is None:\n",
    "        df_.append([\"\" for k in range(10)])\n",
    "    else:\n",
    "        df_.append([k[0] for k in mpow])\n",
    "    columns.append(model_name)\n",
    "print(\"Most similar words for word : \"+term)\n",
    "pd.DataFrame(np.array(df_).T, columns=columns)"
   ]
  },
  {
   "cell_type": "code",
   "execution_count": 58,
   "metadata": {},
   "outputs": [
    {
     "name": "stdout",
     "output_type": "stream",
     "text": [
      "Most similar words for word : femme\n"
     ]
    },
    {
     "data": {
      "text/html": [
       "<div>\n",
       "<style scoped>\n",
       "    .dataframe tbody tr th:only-of-type {\n",
       "        vertical-align: middle;\n",
       "    }\n",
       "\n",
       "    .dataframe tbody tr th {\n",
       "        vertical-align: top;\n",
       "    }\n",
       "\n",
       "    .dataframe thead th {\n",
       "        text-align: right;\n",
       "    }\n",
       "</style>\n",
       "<table border=\"1\" class=\"dataframe\">\n",
       "  <thead>\n",
       "    <tr style=\"text-align: right;\">\n",
       "      <th></th>\n",
       "      <th>CBOW</th>\n",
       "      <th>skip-gram</th>\n",
       "      <th>online</th>\n",
       "    </tr>\n",
       "  </thead>\n",
       "  <tbody>\n",
       "    <tr>\n",
       "      <th>0</th>\n",
       "      <td>homm</td>\n",
       "      <td>unisex</td>\n",
       "      <td>servante</td>\n",
       "    </tr>\n",
       "    <tr>\n",
       "      <th>1</th>\n",
       "      <td>unisex</td>\n",
       "      <td>fashion</td>\n",
       "      <td>mère</td>\n",
       "    </tr>\n",
       "    <tr>\n",
       "      <th>2</th>\n",
       "      <td>fashion</td>\n",
       "      <td>femmecouleur</td>\n",
       "      <td>fille</td>\n",
       "    </tr>\n",
       "    <tr>\n",
       "      <th>3</th>\n",
       "      <td>hommecet</td>\n",
       "      <td>bred</td>\n",
       "      <td>belle-mère</td>\n",
       "    </tr>\n",
       "    <tr>\n",
       "      <th>4</th>\n",
       "      <td>tong</td>\n",
       "      <td>dkny</td>\n",
       "      <td>fiancée</td>\n",
       "    </tr>\n",
       "    <tr>\n",
       "      <th>5</th>\n",
       "      <td>sandal</td>\n",
       "      <td>versac</td>\n",
       "      <td>compagne</td>\n",
       "    </tr>\n",
       "    <tr>\n",
       "      <th>6</th>\n",
       "      <td>ballerin</td>\n",
       "      <td>dress</td>\n",
       "      <td>sœur</td>\n",
       "    </tr>\n",
       "    <tr>\n",
       "      <th>7</th>\n",
       "      <td>bicolor</td>\n",
       "      <td>femmecollect</td>\n",
       "      <td>prostituée</td>\n",
       "    </tr>\n",
       "    <tr>\n",
       "      <th>8</th>\n",
       "      <td>srkz</td>\n",
       "      <td>lublin</td>\n",
       "      <td>nourrice</td>\n",
       "    </tr>\n",
       "    <tr>\n",
       "      <th>9</th>\n",
       "      <td>bottin</td>\n",
       "      <td>leandr</td>\n",
       "      <td>demi-sœur</td>\n",
       "    </tr>\n",
       "  </tbody>\n",
       "</table>\n",
       "</div>"
      ],
      "text/plain": [
       "       CBOW     skip-gram      online\n",
       "0      homm        unisex    servante\n",
       "1    unisex       fashion        mère\n",
       "2   fashion  femmecouleur       fille\n",
       "3  hommecet          bred  belle-mère\n",
       "4      tong          dkny     fiancée\n",
       "5    sandal        versac    compagne\n",
       "6  ballerin         dress        sœur\n",
       "7   bicolor  femmecollect  prostituée\n",
       "8      srkz        lublin    nourrice\n",
       "9    bottin        leandr   demi-sœur"
      ]
     },
     "execution_count": 58,
     "metadata": {},
     "output_type": "execute_result"
    }
   ],
   "source": [
    "term=\"femme\"\n",
    "\n",
    "df_ = []\n",
    "columns = []\n",
    "for model_name, model in model_dic.items():\n",
    "    token = stemmer.stem(term) if \"online\"!=model_name else term\n",
    "    mpow = model.wv.most_similar([token])\n",
    "    if mpow is None:\n",
    "        df_.append([\"\" for k in range(10)])\n",
    "    else:\n",
    "        df_.append([k[0] for k in mpow])\n",
    "    columns.append(model_name)\n",
    "print(\"Most similar words for word : \"+term)\n",
    "pd.DataFrame(np.array(df_).T, columns=columns)"
   ]
  },
  {
   "cell_type": "code",
   "execution_count": 59,
   "metadata": {},
   "outputs": [
    {
     "name": "stdout",
     "output_type": "stream",
     "text": [
      "Most similar words for word : xbox\n"
     ]
    },
    {
     "data": {
      "text/html": [
       "<div>\n",
       "<style scoped>\n",
       "    .dataframe tbody tr th:only-of-type {\n",
       "        vertical-align: middle;\n",
       "    }\n",
       "\n",
       "    .dataframe tbody tr th {\n",
       "        vertical-align: top;\n",
       "    }\n",
       "\n",
       "    .dataframe thead th {\n",
       "        text-align: right;\n",
       "    }\n",
       "</style>\n",
       "<table border=\"1\" class=\"dataframe\">\n",
       "  <thead>\n",
       "    <tr style=\"text-align: right;\">\n",
       "      <th></th>\n",
       "      <th>CBOW</th>\n",
       "      <th>skip-gram</th>\n",
       "      <th>online</th>\n",
       "    </tr>\n",
       "  </thead>\n",
       "  <tbody>\n",
       "    <tr>\n",
       "      <th>0</th>\n",
       "      <td>scuf</td>\n",
       "      <td>microsoft</td>\n",
       "      <td>playstation</td>\n",
       "    </tr>\n",
       "    <tr>\n",
       "      <th>1</th>\n",
       "      <td>travel</td>\n",
       "      <td>controll</td>\n",
       "      <td>gamecube</td>\n",
       "    </tr>\n",
       "    <tr>\n",
       "      <th>2</th>\n",
       "      <td>kingdom</td>\n",
       "      <td>wii</td>\n",
       "      <td>dreamcast</td>\n",
       "    </tr>\n",
       "    <tr>\n",
       "      <th>3</th>\n",
       "      <td>visor</td>\n",
       "      <td>storio</td>\n",
       "      <td>psp</td>\n",
       "    </tr>\n",
       "    <tr>\n",
       "      <th>4</th>\n",
       "      <td>waydecor</td>\n",
       "      <td>cruz</td>\n",
       "      <td>wii</td>\n",
       "    </tr>\n",
       "    <tr>\n",
       "      <th>5</th>\n",
       "      <td>noirhtc</td>\n",
       "      <td>scuf</td>\n",
       "      <td>neo-geo</td>\n",
       "    </tr>\n",
       "    <tr>\n",
       "      <th>6</th>\n",
       "      <td>lucasart</td>\n",
       "      <td>vtech</td>\n",
       "      <td>mega</td>\n",
       "    </tr>\n",
       "    <tr>\n",
       "      <th>7</th>\n",
       "      <td>hardcov</td>\n",
       "      <td>playstat</td>\n",
       "      <td>advance</td>\n",
       "    </tr>\n",
       "    <tr>\n",
       "      <th>8</th>\n",
       "      <td>nomad</td>\n",
       "      <td>unleashed</td>\n",
       "      <td>famicom</td>\n",
       "    </tr>\n",
       "    <tr>\n",
       "      <th>9</th>\n",
       "      <td>supertooth</td>\n",
       "      <td>headphon</td>\n",
       "      <td>nintendo</td>\n",
       "    </tr>\n",
       "  </tbody>\n",
       "</table>\n",
       "</div>"
      ],
      "text/plain": [
       "         CBOW  skip-gram       online\n",
       "0        scuf  microsoft  playstation\n",
       "1      travel   controll     gamecube\n",
       "2     kingdom        wii    dreamcast\n",
       "3       visor     storio          psp\n",
       "4    waydecor       cruz          wii\n",
       "5     noirhtc       scuf      neo-geo\n",
       "6    lucasart      vtech         mega\n",
       "7     hardcov   playstat      advance\n",
       "8       nomad  unleashed      famicom\n",
       "9  supertooth   headphon     nintendo"
      ]
     },
     "execution_count": 59,
     "metadata": {},
     "output_type": "execute_result"
    }
   ],
   "source": [
    "term=\"xbox\"\n",
    "\n",
    "df_ = []\n",
    "columns = []\n",
    "for model_name, model in model_dic.items():\n",
    "    token = stemmer.stem(term) if \"online\"!=model_name else term\n",
    "    mpow = model.wv.most_similar([token])\n",
    "    if mpow is None:\n",
    "        df_.append([\"\" for k in range(10)])\n",
    "    else:\n",
    "        df_.append([k[0] for k in mpow])\n",
    "    columns.append(model_name)\n",
    "print(\"Most similar words for word : \"+term)\n",
    "pd.DataFrame(np.array(df_).T, columns=columns)"
   ]
  },
  {
   "cell_type": "markdown",
   "metadata": {},
   "source": [
    "#### Combinaison de mots"
   ]
  },
  {
   "cell_type": "code",
   "execution_count": 60,
   "metadata": {},
   "outputs": [
    {
     "data": {
      "text/html": [
       "<div>\n",
       "<style scoped>\n",
       "    .dataframe tbody tr th:only-of-type {\n",
       "        vertical-align: middle;\n",
       "    }\n",
       "\n",
       "    .dataframe tbody tr th {\n",
       "        vertical-align: top;\n",
       "    }\n",
       "\n",
       "    .dataframe thead th {\n",
       "        text-align: right;\n",
       "    }\n",
       "</style>\n",
       "<table border=\"1\" class=\"dataframe\">\n",
       "  <thead>\n",
       "    <tr style=\"text-align: right;\">\n",
       "      <th></th>\n",
       "      <th>CBOW</th>\n",
       "      <th>skip-gram</th>\n",
       "      <th>online</th>\n",
       "    </tr>\n",
       "  </thead>\n",
       "  <tbody>\n",
       "    <tr>\n",
       "      <th>0</th>\n",
       "      <td>jungl</td>\n",
       "      <td>jungl</td>\n",
       "      <td>reine</td>\n",
       "    </tr>\n",
       "    <tr>\n",
       "      <th>1</th>\n",
       "      <td>calin</td>\n",
       "      <td>calin</td>\n",
       "      <td>belle-mère</td>\n",
       "    </tr>\n",
       "    <tr>\n",
       "      <th>2</th>\n",
       "      <td>romant</td>\n",
       "      <td>marionnet</td>\n",
       "      <td>brunehilde</td>\n",
       "    </tr>\n",
       "    <tr>\n",
       "      <th>3</th>\n",
       "      <td>lapin</td>\n",
       "      <td>demoisel</td>\n",
       "      <td>régente</td>\n",
       "    </tr>\n",
       "    <tr>\n",
       "      <th>4</th>\n",
       "      <td>eleph</td>\n",
       "      <td>lion</td>\n",
       "      <td>reine-mère</td>\n",
       "    </tr>\n",
       "    <tr>\n",
       "      <th>5</th>\n",
       "      <td>coquelicot</td>\n",
       "      <td>beli</td>\n",
       "      <td>belle-sœur</td>\n",
       "    </tr>\n",
       "    <tr>\n",
       "      <th>6</th>\n",
       "      <td>runeun</td>\n",
       "      <td>redecouvr</td>\n",
       "      <td>veuve</td>\n",
       "    </tr>\n",
       "    <tr>\n",
       "      <th>7</th>\n",
       "      <td>halloween</td>\n",
       "      <td>paon</td>\n",
       "      <td>mère</td>\n",
       "    </tr>\n",
       "    <tr>\n",
       "      <th>8</th>\n",
       "      <td>lion</td>\n",
       "      <td>poupon</td>\n",
       "      <td>demi-sœur</td>\n",
       "    </tr>\n",
       "    <tr>\n",
       "      <th>9</th>\n",
       "      <td>pastel</td>\n",
       "      <td>canard</td>\n",
       "      <td>nièce</td>\n",
       "    </tr>\n",
       "  </tbody>\n",
       "</table>\n",
       "</div>"
      ],
      "text/plain": [
       "         CBOW  skip-gram      online\n",
       "0       jungl      jungl       reine\n",
       "1       calin      calin  belle-mère\n",
       "2      romant  marionnet  brunehilde\n",
       "3       lapin   demoisel     régente\n",
       "4       eleph       lion  reine-mère\n",
       "5  coquelicot       beli  belle-sœur\n",
       "6      runeun  redecouvr       veuve\n",
       "7   halloween       paon        mère\n",
       "8        lion     poupon   demi-sœur\n",
       "9      pastel     canard       nièce"
      ]
     },
     "execution_count": 60,
     "metadata": {},
     "output_type": "execute_result"
    }
   ],
   "source": [
    "terms_positif = [\"femme\",\"roi\"]\n",
    "terms_negatif = [\"homme\"]\n",
    "\n",
    "df_ = []\n",
    "columns = []\n",
    "for model_name, model in model_dic.items():\n",
    "    token_positif = [stemmer.stem(term) if \"online\"!=model_name else term for term in terms_positif]\n",
    "    token_negativ = [stemmer.stem(term) if \"online\"!=model_name else term for term in terms_negatif]\n",
    "    \n",
    "    mpow = model.wv.most_similar(positive=token_positif, negative=token_negativ)\n",
    "    if mpow is None:\n",
    "        df_.append([\"\" for k in range(10)])\n",
    "    else:\n",
    "        df_.append([k[0] for k in mpow])\n",
    "    columns.append(model_name)\n",
    "pd.DataFrame(np.array(df_).T, columns=columns)"
   ]
  },
  {
   "cell_type": "code",
   "execution_count": 61,
   "metadata": {},
   "outputs": [
    {
     "data": {
      "text/html": [
       "<div>\n",
       "<style scoped>\n",
       "    .dataframe tbody tr th:only-of-type {\n",
       "        vertical-align: middle;\n",
       "    }\n",
       "\n",
       "    .dataframe tbody tr th {\n",
       "        vertical-align: top;\n",
       "    }\n",
       "\n",
       "    .dataframe thead th {\n",
       "        text-align: right;\n",
       "    }\n",
       "</style>\n",
       "<table border=\"1\" class=\"dataframe\">\n",
       "  <thead>\n",
       "    <tr style=\"text-align: right;\">\n",
       "      <th></th>\n",
       "      <th>CBOW</th>\n",
       "      <th>skip-gram</th>\n",
       "      <th>online</th>\n",
       "    </tr>\n",
       "  </thead>\n",
       "  <tbody>\n",
       "    <tr>\n",
       "      <th>0</th>\n",
       "      <td>virgo</td>\n",
       "      <td>arizon</td>\n",
       "      <td>ségovie</td>\n",
       "    </tr>\n",
       "    <tr>\n",
       "      <th>1</th>\n",
       "      <td>kitt</td>\n",
       "      <td>ric</td>\n",
       "      <td>madrid</td>\n",
       "    </tr>\n",
       "    <tr>\n",
       "      <th>2</th>\n",
       "      <td>montan</td>\n",
       "      <td>samo</td>\n",
       "      <td>alicante</td>\n",
       "    </tr>\n",
       "    <tr>\n",
       "      <th>3</th>\n",
       "      <td>alabam</td>\n",
       "      <td>colomb</td>\n",
       "      <td>aix-en-provence</td>\n",
       "    </tr>\n",
       "    <tr>\n",
       "      <th>4</th>\n",
       "      <td>canc</td>\n",
       "      <td>copenhagen</td>\n",
       "      <td>ancône</td>\n",
       "    </tr>\n",
       "    <tr>\n",
       "      <th>5</th>\n",
       "      <td>gourmandis</td>\n",
       "      <td>orlando</td>\n",
       "      <td>séville</td>\n",
       "    </tr>\n",
       "    <tr>\n",
       "      <th>6</th>\n",
       "      <td>sao</td>\n",
       "      <td>seychel</td>\n",
       "      <td>malaga</td>\n",
       "    </tr>\n",
       "    <tr>\n",
       "      <th>7</th>\n",
       "      <td>surat</td>\n",
       "      <td>janeiro</td>\n",
       "      <td>andalousie</td>\n",
       "    </tr>\n",
       "    <tr>\n",
       "      <th>8</th>\n",
       "      <td>carp</td>\n",
       "      <td>autrich</td>\n",
       "      <td>alger</td>\n",
       "    </tr>\n",
       "    <tr>\n",
       "      <th>9</th>\n",
       "      <td>liberty</td>\n",
       "      <td>dublin</td>\n",
       "      <td>avignon</td>\n",
       "    </tr>\n",
       "  </tbody>\n",
       "</table>\n",
       "</div>"
      ],
      "text/plain": [
       "         CBOW   skip-gram           online\n",
       "0       virgo      arizon          ségovie\n",
       "1        kitt         ric           madrid\n",
       "2      montan        samo         alicante\n",
       "3      alabam      colomb  aix-en-provence\n",
       "4        canc  copenhagen           ancône\n",
       "5  gourmandis     orlando          séville\n",
       "6         sao     seychel           malaga\n",
       "7       surat     janeiro       andalousie\n",
       "8        carp     autrich            alger\n",
       "9     liberty      dublin          avignon"
      ]
     },
     "execution_count": 61,
     "metadata": {},
     "output_type": "execute_result"
    }
   ],
   "source": [
    "terms_positif = [\"espagne\",\"paris\"]\n",
    "terms_negatif = [\"france\"]\n",
    "\n",
    "df_ = []\n",
    "columns = []\n",
    "for model_name, model in model_dic.items():\n",
    "    token_positif = [stemmer.stem(term) if \"online\"!=model_name else term for term in terms_positif]\n",
    "    token_negativ = [stemmer.stem(term) if \"online\"!=model_name else term for term in terms_negatif]\n",
    "    \n",
    "    mpow = model.wv.most_similar(positive=token_positif, negative=token_negativ)\n",
    "    if mpow is None:\n",
    "        df_.append([\"\" for k in range(10)])\n",
    "    else:\n",
    "        df_.append([k[0] for k in mpow])\n",
    "    columns.append(model_name)\n",
    "pd.DataFrame(np.array(df_).T, columns=columns)"
   ]
  },
  {
   "cell_type": "markdown",
   "metadata": {},
   "source": [
    "#### Compléter une séquence"
   ]
  },
  {
   "cell_type": "code",
   "execution_count": 62,
   "metadata": {},
   "outputs": [
    {
     "data": {
      "text/html": [
       "<div>\n",
       "<style scoped>\n",
       "    .dataframe tbody tr th:only-of-type {\n",
       "        vertical-align: middle;\n",
       "    }\n",
       "\n",
       "    .dataframe tbody tr th {\n",
       "        vertical-align: top;\n",
       "    }\n",
       "\n",
       "    .dataframe thead th {\n",
       "        text-align: right;\n",
       "    }\n",
       "</style>\n",
       "<table border=\"1\" class=\"dataframe\">\n",
       "  <thead>\n",
       "    <tr style=\"text-align: right;\">\n",
       "      <th></th>\n",
       "      <th>CBOW</th>\n",
       "      <th>skip-gram</th>\n",
       "      <th>online</th>\n",
       "    </tr>\n",
       "  </thead>\n",
       "  <tbody>\n",
       "    <tr>\n",
       "      <th>0</th>\n",
       "      <td>present</td>\n",
       "      <td>referent</td>\n",
       "      <td>ci-dessous</td>\n",
       "    </tr>\n",
       "    <tr>\n",
       "      <th>1</th>\n",
       "      <td>pou</td>\n",
       "      <td>appartient</td>\n",
       "      <td>ci-dessus</td>\n",
       "    </tr>\n",
       "    <tr>\n",
       "      <th>2</th>\n",
       "      <td>neuv</td>\n",
       "      <td>lign</td>\n",
       "      <td>ci-après</td>\n",
       "    </tr>\n",
       "    <tr>\n",
       "      <th>3</th>\n",
       "      <td>presentat</td>\n",
       "      <td>reduit</td>\n",
       "      <td>l'article</td>\n",
       "    </tr>\n",
       "    <tr>\n",
       "      <th>4</th>\n",
       "      <td>sou</td>\n",
       "      <td>sac</td>\n",
       "      <td>infra</td>\n",
       "    </tr>\n",
       "    <tr>\n",
       "      <th>5</th>\n",
       "      <td>desig</td>\n",
       "      <td>if</td>\n",
       "      <td>paragraphe</td>\n",
       "    </tr>\n",
       "    <tr>\n",
       "      <th>6</th>\n",
       "      <td>pres</td>\n",
       "      <td>main</td>\n",
       "      <td>bibliographie</td>\n",
       "    </tr>\n",
       "    <tr>\n",
       "      <th>7</th>\n",
       "      <td>gal</td>\n",
       "      <td>prix</td>\n",
       "      <td>liste</td>\n",
       "    </tr>\n",
       "    <tr>\n",
       "      <th>8</th>\n",
       "      <td>tou</td>\n",
       "      <td>couleur</td>\n",
       "      <td>ci-contre</td>\n",
       "    </tr>\n",
       "    <tr>\n",
       "      <th>9</th>\n",
       "      <td>app</td>\n",
       "      <td>infiniteshopping</td>\n",
       "      <td>section</td>\n",
       "    </tr>\n",
       "  </tbody>\n",
       "</table>\n",
       "</div>"
      ],
      "text/plain": [
       "        CBOW         skip-gram         online\n",
       "0    present          referent     ci-dessous\n",
       "1        pou        appartient      ci-dessus\n",
       "2       neuv              lign       ci-après\n",
       "3  presentat            reduit      l'article\n",
       "4        sou               sac          infra\n",
       "5      desig                if     paragraphe\n",
       "6       pres              main  bibliographie\n",
       "7        gal              prix          liste\n",
       "8        tou           couleur      ci-contre\n",
       "9        app  infiniteshopping        section"
      ]
     },
     "execution_count": 62,
     "metadata": {},
     "output_type": "execute_result"
    }
   ],
   "source": [
    "terms = [\"voir\",\"la\"]\n",
    "\n",
    "\n",
    "df_ = []\n",
    "columns = []\n",
    "for model_name, model in model_dic.items():\n",
    "    tokens = [stemmer.stem(term) if \"online\"!=model_name else term for term in terms]\n",
    "    \n",
    "    mpow = model.predict_output_word(tokens)\n",
    "    if mpow is None:\n",
    "        df_.append([\"\" for k in range(10)])\n",
    "    else:\n",
    "        df_.append([k[0] for k in mpow])\n",
    "    columns.append(model_name)\n",
    "pd.DataFrame(np.array(df_).T, columns=columns)"
   ]
  },
  {
   "cell_type": "code",
   "execution_count": 63,
   "metadata": {},
   "outputs": [
    {
     "data": {
      "text/html": [
       "<div>\n",
       "<style scoped>\n",
       "    .dataframe tbody tr th:only-of-type {\n",
       "        vertical-align: middle;\n",
       "    }\n",
       "\n",
       "    .dataframe tbody tr th {\n",
       "        vertical-align: top;\n",
       "    }\n",
       "\n",
       "    .dataframe thead th {\n",
       "        text-align: right;\n",
       "    }\n",
       "</style>\n",
       "<table border=\"1\" class=\"dataframe\">\n",
       "  <thead>\n",
       "    <tr style=\"text-align: right;\">\n",
       "      <th></th>\n",
       "      <th>CBOW</th>\n",
       "      <th>skip-gram</th>\n",
       "      <th>online</th>\n",
       "    </tr>\n",
       "  </thead>\n",
       "  <tbody>\n",
       "    <tr>\n",
       "      <th>0</th>\n",
       "      <td>galaxy</td>\n",
       "      <td>ace</td>\n",
       "      <td>acier</td>\n",
       "    </tr>\n",
       "    <tr>\n",
       "      <th>1</th>\n",
       "      <td>ace</td>\n",
       "      <td>galaxy</td>\n",
       "      <td>aluminium</td>\n",
       "    </tr>\n",
       "    <tr>\n",
       "      <th>2</th>\n",
       "      <td>stuff</td>\n",
       "      <td>not</td>\n",
       "      <td>coque</td>\n",
       "    </tr>\n",
       "    <tr>\n",
       "      <th>3</th>\n",
       "      <td>cor</td>\n",
       "      <td>franc</td>\n",
       "      <td>former</td>\n",
       "    </tr>\n",
       "    <tr>\n",
       "      <th>4</th>\n",
       "      <td>xcov</td>\n",
       "      <td>blanch</td>\n",
       "      <td>béton</td>\n",
       "    </tr>\n",
       "    <tr>\n",
       "      <th>5</th>\n",
       "      <td>not</td>\n",
       "      <td>sinc</td>\n",
       "      <td>métallique</td>\n",
       "    </tr>\n",
       "    <tr>\n",
       "      <th>6</th>\n",
       "      <td>express</td>\n",
       "      <td>plai</td>\n",
       "      <td>protéger</td>\n",
       "    </tr>\n",
       "    <tr>\n",
       "      <th>7</th>\n",
       "      <td>sii</td>\n",
       "      <td>trend</td>\n",
       "      <td>remplacer</td>\n",
       "    </tr>\n",
       "    <tr>\n",
       "      <th>8</th>\n",
       "      <td>advanc</td>\n",
       "      <td>mad</td>\n",
       "      <td>fabriquer</td>\n",
       "    </tr>\n",
       "    <tr>\n",
       "      <th>9</th>\n",
       "      <td>plai</td>\n",
       "      <td>express</td>\n",
       "      <td>conçue</td>\n",
       "    </tr>\n",
       "  </tbody>\n",
       "</table>\n",
       "</div>"
      ],
      "text/plain": [
       "      CBOW skip-gram      online\n",
       "0   galaxy       ace       acier\n",
       "1      ace    galaxy   aluminium\n",
       "2    stuff       not       coque\n",
       "3      cor     franc      former\n",
       "4     xcov    blanch       béton\n",
       "5      not      sinc  métallique\n",
       "6  express      plai    protéger\n",
       "7      sii     trend   remplacer\n",
       "8   advanc       mad   fabriquer\n",
       "9     plai   express      conçue"
      ]
     },
     "execution_count": 63,
     "metadata": {},
     "output_type": "execute_result"
    }
   ],
   "source": [
    "terms = [\"coque\",'pour',\"samsung\"]\n",
    "\n",
    "\n",
    "df_ = []\n",
    "columns = []\n",
    "for model_name, model in model_dic.items():\n",
    "    tokens = [stemmer.stem(term) if \"online\"!=model_name else term for term in terms]\n",
    "    \n",
    "    mpow = model.predict_output_word(tokens)\n",
    "    if mpow is None:\n",
    "        df_.append([\"\" for k in range(10)])\n",
    "    else:\n",
    "        df_.append([k[0] for k in mpow])\n",
    "    columns.append(model_name)\n",
    "pd.DataFrame(np.array(df_).T, columns=columns)"
   ]
  },
  {
   "cell_type": "code",
   "execution_count": 64,
   "metadata": {},
   "outputs": [
    {
     "data": {
      "text/html": [
       "<div>\n",
       "<style scoped>\n",
       "    .dataframe tbody tr th:only-of-type {\n",
       "        vertical-align: middle;\n",
       "    }\n",
       "\n",
       "    .dataframe tbody tr th {\n",
       "        vertical-align: top;\n",
       "    }\n",
       "\n",
       "    .dataframe thead th {\n",
       "        text-align: right;\n",
       "    }\n",
       "</style>\n",
       "<table border=\"1\" class=\"dataframe\">\n",
       "  <thead>\n",
       "    <tr style=\"text-align: right;\">\n",
       "      <th></th>\n",
       "      <th>CBOW</th>\n",
       "      <th>skip-gram</th>\n",
       "      <th>online</th>\n",
       "    </tr>\n",
       "  </thead>\n",
       "  <tbody>\n",
       "    <tr>\n",
       "      <th>0</th>\n",
       "      <td>montr</td>\n",
       "      <td>stuhrling</td>\n",
       "      <td>d'affaires</td>\n",
       "    </tr>\n",
       "    <tr>\n",
       "      <th>1</th>\n",
       "      <td>genr</td>\n",
       "      <td>polo</td>\n",
       "      <td>vieil</td>\n",
       "    </tr>\n",
       "    <tr>\n",
       "      <th>2</th>\n",
       "      <td>chemis</td>\n",
       "      <td>ferry</td>\n",
       "      <td>d’affaires</td>\n",
       "    </tr>\n",
       "    <tr>\n",
       "      <th>3</th>\n",
       "      <td>chronograph</td>\n",
       "      <td>genr</td>\n",
       "      <td>politique</td>\n",
       "    </tr>\n",
       "    <tr>\n",
       "      <th>4</th>\n",
       "      <td>ditl</td>\n",
       "      <td>chronograph</td>\n",
       "      <td>d'état</td>\n",
       "    </tr>\n",
       "    <tr>\n",
       "      <th>5</th>\n",
       "      <td>norway</td>\n",
       "      <td>ecko</td>\n",
       "      <td>d'église</td>\n",
       "    </tr>\n",
       "    <tr>\n",
       "      <th>6</th>\n",
       "      <td>jogging</td>\n",
       "      <td>accutron</td>\n",
       "      <td>cet</td>\n",
       "    </tr>\n",
       "    <tr>\n",
       "      <th>7</th>\n",
       "      <td>audigi</td>\n",
       "      <td>montr</td>\n",
       "      <td>jeune</td>\n",
       "    </tr>\n",
       "    <tr>\n",
       "      <th>8</th>\n",
       "      <td>geographical</td>\n",
       "      <td>chrono</td>\n",
       "      <td>néandertal</td>\n",
       "    </tr>\n",
       "    <tr>\n",
       "      <th>9</th>\n",
       "      <td>bermud</td>\n",
       "      <td>longin</td>\n",
       "      <td>d’état</td>\n",
       "    </tr>\n",
       "  </tbody>\n",
       "</table>\n",
       "</div>"
      ],
      "text/plain": [
       "           CBOW    skip-gram      online\n",
       "0         montr    stuhrling  d'affaires\n",
       "1          genr         polo       vieil\n",
       "2        chemis        ferry  d’affaires\n",
       "3   chronograph         genr   politique\n",
       "4          ditl  chronograph      d'état\n",
       "5        norway         ecko    d'église\n",
       "6       jogging     accutron         cet\n",
       "7        audigi        montr       jeune\n",
       "8  geographical       chrono  néandertal\n",
       "9        bermud       longin      d’état"
      ]
     },
     "execution_count": 64,
     "metadata": {},
     "output_type": "execute_result"
    }
   ],
   "source": [
    "terms = [\"homme\"]\n",
    "\n",
    "\n",
    "df_ = []\n",
    "columns = []\n",
    "for model_name, model in model_dic.items():\n",
    "    tokens = [stemmer.stem(term) if \"online\"!=model_name else term for term in terms]\n",
    "    \n",
    "    mpow = model.predict_output_word(tokens)\n",
    "    if mpow is None:\n",
    "        df_.append([\"\" for k in range(10)])\n",
    "    else:\n",
    "        df_.append([k[0] for k in mpow])\n",
    "    columns.append(model_name)\n",
    "pd.DataFrame(np.array(df_).T, columns=columns)"
   ]
  },
  {
   "cell_type": "code",
   "execution_count": 65,
   "metadata": {},
   "outputs": [
    {
     "data": {
      "text/html": [
       "<div>\n",
       "<style scoped>\n",
       "    .dataframe tbody tr th:only-of-type {\n",
       "        vertical-align: middle;\n",
       "    }\n",
       "\n",
       "    .dataframe tbody tr th {\n",
       "        vertical-align: top;\n",
       "    }\n",
       "\n",
       "    .dataframe thead th {\n",
       "        text-align: right;\n",
       "    }\n",
       "</style>\n",
       "<table border=\"1\" class=\"dataframe\">\n",
       "  <thead>\n",
       "    <tr style=\"text-align: right;\">\n",
       "      <th></th>\n",
       "      <th>CBOW</th>\n",
       "      <th>skip-gram</th>\n",
       "      <th>online</th>\n",
       "    </tr>\n",
       "  </thead>\n",
       "  <tbody>\n",
       "    <tr>\n",
       "      <th>0</th>\n",
       "      <td>montr</td>\n",
       "      <td>cendriyon</td>\n",
       "      <td>sa</td>\n",
       "    </tr>\n",
       "    <tr>\n",
       "      <th>1</th>\n",
       "      <td>ditl</td>\n",
       "      <td>montr</td>\n",
       "      <td>jeune</td>\n",
       "    </tr>\n",
       "    <tr>\n",
       "      <th>2</th>\n",
       "      <td>cendriyon</td>\n",
       "      <td>karston</td>\n",
       "      <td>d'affaires</td>\n",
       "    </tr>\n",
       "    <tr>\n",
       "      <th>3</th>\n",
       "      <td>pantacourt</td>\n",
       "      <td>revon</td>\n",
       "      <td>mariée</td>\n",
       "    </tr>\n",
       "    <tr>\n",
       "      <th>4</th>\n",
       "      <td>chaussur</td>\n",
       "      <td>bulov</td>\n",
       "      <td>enceinte</td>\n",
       "    </tr>\n",
       "    <tr>\n",
       "      <th>5</th>\n",
       "      <td>vet</td>\n",
       "      <td>timex</td>\n",
       "      <td>nue</td>\n",
       "    </tr>\n",
       "    <tr>\n",
       "      <th>6</th>\n",
       "      <td>dkny</td>\n",
       "      <td>ditl</td>\n",
       "      <td>adultère</td>\n",
       "    </tr>\n",
       "    <tr>\n",
       "      <th>7</th>\n",
       "      <td>bott</td>\n",
       "      <td>escarpin</td>\n",
       "      <td>assassinée</td>\n",
       "    </tr>\n",
       "    <tr>\n",
       "      <th>8</th>\n",
       "      <td>genr</td>\n",
       "      <td>genev</td>\n",
       "      <td>fatale</td>\n",
       "    </tr>\n",
       "    <tr>\n",
       "      <th>9</th>\n",
       "      <td>sandal</td>\n",
       "      <td>bott</td>\n",
       "      <td>homme</td>\n",
       "    </tr>\n",
       "  </tbody>\n",
       "</table>\n",
       "</div>"
      ],
      "text/plain": [
       "         CBOW  skip-gram      online\n",
       "0       montr  cendriyon          sa\n",
       "1        ditl      montr       jeune\n",
       "2   cendriyon    karston  d'affaires\n",
       "3  pantacourt      revon      mariée\n",
       "4    chaussur      bulov    enceinte\n",
       "5         vet      timex         nue\n",
       "6        dkny       ditl    adultère\n",
       "7        bott   escarpin  assassinée\n",
       "8        genr      genev      fatale\n",
       "9      sandal       bott       homme"
      ]
     },
     "execution_count": 65,
     "metadata": {},
     "output_type": "execute_result"
    }
   ],
   "source": [
    "terms = [\"femme\"]\n",
    "\n",
    "\n",
    "df_ = []\n",
    "columns = []\n",
    "for model_name, model in model_dic.items():\n",
    "    tokens = [stemmer.stem(term) if \"online\"!=model_name else term for term in terms]\n",
    "    \n",
    "    mpow = model.predict_output_word(tokens)\n",
    "    if mpow is None:\n",
    "        df_.append([\"\" for k in range(10)])\n",
    "    else:\n",
    "        df_.append([k[0] for k in mpow])\n",
    "    columns.append(model_name)\n",
    "pd.DataFrame(np.array(df_).T, columns=columns)"
   ]
  },
  {
   "cell_type": "markdown",
   "metadata": {},
   "source": [
    "### 5.4 Construire des *features* avec *Word2Vec*\n",
    "Un texte ou descriptif d'article est représenté par le barycentre des mots qui le compose. Ce barycentre peut éventuellement calculé avec des pondérations.Le nombre de caractéristiques ou variables décirvant chaque texte est donc la dimension de l'expace des mots, ici 300. C'est donc une autre façon de prendre en compte le contexte des mots tout en réduisant drastiquement la dimension de l'espace.\n",
    "\n",
    "#### Avec les modèles appris\n",
    "Prise ne compte des textes puis définition des fonctions."
   ]
  },
  {
   "cell_type": "code",
   "execution_count": 66,
   "metadata": {},
   "outputs": [],
   "source": [
    "data_test_clean = pd.read_csv(\"data/cdiscount_test_clean.csv\").fillna(\"\")\n",
    "data_train_clean = pd.read_csv(\"data/cdiscount_train_clean.csv\").fillna(\"\")\n",
    "\n",
    "train_array_token_wstem = [line.split(\" \") for line in data_train_clean[\"Description\"].values]\n",
    "test_array_token_wstem = [line.split(\" \") for line in data_test_clean[\"Description\"].values]"
   ]
  },
  {
   "cell_type": "code",
   "execution_count": 67,
   "metadata": {},
   "outputs": [],
   "source": [
    "def get_features_mean(lines):\n",
    "    features = [MODEL[x] for x  in lines if x in MODEL]\n",
    "    if features == []:   \n",
    "        fm =np.ones(F_SIZE)\n",
    "    else :\n",
    "        fm = np.mean(features,axis=0)\n",
    "    return fm\n",
    "\n",
    "def get_matrix_features_means(X):\n",
    "    X_embedded_ = list(map(get_features_mean, X))\n",
    "    X_embedded = np.vstack(X_embedded_)\n",
    "    return X_embedded"
   ]
  },
  {
   "cell_type": "markdown",
   "metadata": {},
   "source": [
    "Calcul de la matrice des caractéristiques ou *features* pour les toris modèles."
   ]
  },
  {
   "cell_type": "code",
   "execution_count": 68,
   "metadata": {},
   "outputs": [
    {
     "name": "stderr",
     "output_type": "stream",
     "text": [
      "/home-local/pbesse/anaconda3/lib/python3.6/site-packages/ipykernel_launcher.py:2: DeprecationWarning: Call to deprecated `__contains__` (Method will be removed in 4.0.0, use self.wv.__contains__() instead).\n",
      "  \n",
      "/home-local/pbesse/anaconda3/lib/python3.6/site-packages/ipykernel_launcher.py:2: DeprecationWarning: Call to deprecated `__getitem__` (Method will be removed in 4.0.0, use self.wv.__getitem__() instead).\n",
      "  \n"
     ]
    },
    {
     "name": "stdout",
     "output_type": "stream",
     "text": [
      "Time conversion : 11 seconds\n",
      "Shape Matrix : (95000,300)\n",
      "Time conversion : 0 seconds\n",
      "Shape Matrix : (5000,300)\n",
      "{'t_train': 11.280864715576172, 't_test': 0.5692059993743896, 'sg': 1}\n",
      "Time conversion : 11 seconds\n",
      "Shape Matrix : (95000,300)\n",
      "Time conversion : 0 seconds\n",
      "Shape Matrix : (5000,300)\n",
      "{'t_train': 11.597871780395508, 't_test': 0.655632495880127, 'sg': 1}\n",
      "Time conversion : 11 seconds\n",
      "Shape Matrix : (95000,300)\n",
      "Time conversion : 0 seconds\n",
      "Shape Matrix : (5000,300)\n",
      "{'t_train': 11.04643964767456, 't_test': 0.5133078098297119, 'sg': 1}\n"
     ]
    }
   ],
   "source": [
    "for model_name in [\"CBOW\",\"skip-gram\", \"online\"]:\n",
    "    \n",
    "    if \"online\" == model_name:\n",
    "        X_train = train_array_token_wstem\n",
    "        X_test = test_array_token_wstem\n",
    "    else:\n",
    "        X_train = train_array_token\n",
    "        X_test = test_array_token\n",
    "    \n",
    "    model = model_dic[model_name]\n",
    "    MODEL = model\n",
    "    F_SIZE = Features_dimension\n",
    "\n",
    "    ts = time.time()\n",
    "    X_embedded_train = get_matrix_features_means(X_train)\n",
    "    te = time.time()\n",
    "    t_train = te-ts\n",
    "    #np.save(embedded_train_dir, X_embedded_train)\n",
    "    print(\"Time conversion : %d seconds\"%t_train)\n",
    "    print(\"Shape Matrix : (%d,%d)\"%X_embedded_train.shape)\n",
    "    np.save(DATA_OUTPUT_DIR +\"/embedded_train_nb_hash_\"+model_name, X_embedded_train)\n",
    "\n",
    "    ts = time.time()\n",
    "    X_embedded_test = get_matrix_features_means(X_test)\n",
    "    te = time.time()\n",
    "    t_test = te-ts\n",
    "    #np.save(embedded_test_dir, X_embedded_test)\n",
    "    print(\"Time conversion : %d seconds\"%t_test)\n",
    "    print(\"Shape Matrix : (%d,%d)\"%X_embedded_test.shape)\n",
    "    np.save(DATA_OUTPUT_DIR +\"/embedded_test_nb_hash_\"+model_name, X_embedded_test)\n",
    "    \n",
    "    metadata = {\"t_train\" : t_train, \"t_test\" : t_test, \"sg\":sg}\n",
    "    print(metadata)"
   ]
  },
  {
   "cell_type": "code",
   "execution_count": 69,
   "metadata": {},
   "outputs": [
    {
     "name": "stderr",
     "output_type": "stream",
     "text": [
      "/home-local/pbesse/anaconda3/lib/python3.6/site-packages/ipykernel_launcher.py:1: DeprecationWarning: Call to deprecated `__getitem__` (Method will be removed in 4.0.0, use self.wv.__getitem__() instead).\n",
      "  \"\"\"Entry point for launching an IPython kernel.\n"
     ]
    },
    {
     "data": {
      "text/plain": [
       "array([-2.68843603e+00,  1.93454778e+00, -1.81924117e+00,  2.36969948e+00,\n",
       "        9.32004392e-01,  1.25195098e+00,  8.65360320e-01,  3.11363190e-01,\n",
       "        6.06419086e-01,  1.43122864e+00,  1.65650344e+00, -3.67380810e+00,\n",
       "        1.87034404e+00,  1.74155509e+00, -5.33656299e-01,  1.40374994e+00,\n",
       "        2.30875421e+00,  1.79799902e+00, -1.87658596e+00,  1.29379809e+00,\n",
       "        9.08876181e-01,  1.08965196e-01, -1.40824032e+00,  8.72196436e-01,\n",
       "        1.08273089e+00,  7.29817152e-01, -1.11542833e+00,  1.52417982e+00,\n",
       "        1.71380103e+00, -2.30002356e+00,  1.15143669e+00, -2.83064008e-01,\n",
       "        2.14521900e-01,  8.66827071e-01,  7.54454792e-01,  2.86816597e-01,\n",
       "        5.41400373e-01, -7.38874137e-01,  5.10816514e-01, -1.25636995e+00,\n",
       "       -8.32316935e-01,  3.15392661e+00, -6.42400444e-01, -1.62124023e-01,\n",
       "       -1.09802079e+00,  1.84242070e+00, -3.25098783e-01, -6.75076485e-01,\n",
       "        1.25538635e+00,  9.76222456e-01, -1.26038420e+00, -8.73921692e-01,\n",
       "       -4.83060241e-01, -1.63996017e+00,  7.62541443e-02,  8.87569129e-01,\n",
       "        1.44738925e+00, -9.39991832e-01,  5.22625744e-01, -1.13829386e+00,\n",
       "        2.46780300e+00,  1.03674316e+00, -3.46387550e-02,  5.59141755e-01,\n",
       "       -1.85830843e+00,  1.89094067e+00, -2.26592970e+00, -1.27904451e+00,\n",
       "        1.20280313e+00, -1.99019861e+00, -1.18200147e+00, -1.26226985e+00,\n",
       "       -2.97760367e-01,  1.58452189e+00,  1.69851220e+00,  4.03091172e-03,\n",
       "        1.18817770e+00,  9.70204413e-01,  4.13892627e-01, -1.02979946e+00,\n",
       "        2.23877263e+00, -1.44865227e+00, -5.04627824e-01,  8.68076801e-01,\n",
       "        8.29642490e-02,  2.04609823e+00, -1.05298305e+00,  6.09300554e-01,\n",
       "       -3.04428399e-01,  2.73707962e+00, -4.90044475e-01,  6.93703949e-01,\n",
       "        6.47519588e-01, -1.02498055e+00,  4.15770024e-01,  7.80640066e-01,\n",
       "       -4.63584423e-01, -2.49082476e-01, -7.62456775e-01, -5.47676980e-01,\n",
       "        1.17528290e-01, -4.62611139e-01,  2.14557275e-01, -3.28053188e+00,\n",
       "       -5.41767597e-01, -1.62989473e+00,  7.04871237e-01, -3.26627374e+00,\n",
       "       -1.94655013e+00, -2.44072461e+00,  3.53704125e-01,  5.20247161e-01,\n",
       "       -6.92556024e-01, -8.00403114e-03,  4.45334911e-01,  1.83195725e-01,\n",
       "        2.57963538e+00, -1.73451412e+00,  1.46722376e+00, -1.63455665e+00,\n",
       "       -8.58749390e-01, -6.21192455e-01, -1.50854373e+00, -5.48384249e-01,\n",
       "        1.58481568e-01,  5.74040897e-02, -2.33555293e+00, -1.24846363e+00,\n",
       "        1.14320815e+00,  2.19661355e+00, -1.67331612e+00, -4.21535254e-01,\n",
       "       -1.08153939e+00,  1.16735470e+00,  1.04143536e+00,  3.06623054e+00,\n",
       "        1.65813851e+00, -1.17980875e-01,  7.62855887e-01,  8.76870602e-02,\n",
       "       -3.08444858e+00, -8.69260669e-01, -6.04443192e-01, -1.61660045e-01,\n",
       "       -8.61184120e-01, -2.36440158e+00,  5.85857093e-01, -1.39690363e+00,\n",
       "       -8.98482919e-01,  1.49133730e+00,  1.13904285e+00,  1.06437540e+00,\n",
       "       -1.32740811e-01, -2.40807557e+00,  1.03752029e+00, -2.68450469e-01,\n",
       "       -1.56857455e+00,  5.13491571e-01,  1.27838290e+00,  3.60189891e+00,\n",
       "       -7.12578058e-01,  1.14855134e+00, -9.21212018e-01,  1.84563351e+00,\n",
       "       -1.35468924e+00,  5.08043587e-01, -7.86122531e-02,  1.48000047e-01,\n",
       "       -3.08121383e-01,  2.60533619e+00,  1.17474757e-01, -2.68221569e+00,\n",
       "       -2.11171627e+00,  6.67897880e-01,  7.17338204e-01, -1.36855912e+00,\n",
       "        5.55815279e-01, -2.61767530e+00,  7.53945827e-01, -2.16935322e-01,\n",
       "       -1.07531153e-01, -9.10443187e-01, -1.41226697e+00,  1.81568074e+00,\n",
       "       -7.87165314e-02, -8.01170245e-02,  2.15358090e+00, -1.11790109e+00,\n",
       "        4.41408157e-01, -2.03346205e+00,  2.00758553e+00, -9.28918600e-01,\n",
       "       -2.80272388e+00,  9.71888959e-01, -3.24676514e+00, -3.38747120e+00,\n",
       "       -8.82310331e-01,  5.86733460e-01,  4.13469267e+00, -1.71811211e+00,\n",
       "        1.64829624e+00,  1.12822413e+00, -8.73017550e-01,  3.29645097e-01,\n",
       "       -4.39161003e-01, -2.36133933e-02,  1.20484522e-02,  6.67026162e-01,\n",
       "        1.21784627e+00, -6.66718662e-01,  1.17255211e+00, -2.04697937e-01,\n",
       "        1.69140399e+00,  1.07980084e+00, -2.47413158e+00,  2.09850931e+00,\n",
       "       -6.12240016e-01, -7.53843009e-01, -1.34083271e+00, -5.60064673e-01,\n",
       "        1.55512488e+00,  1.69336259e+00,  5.39195061e-01, -9.16285992e-01,\n",
       "        3.11728507e-01,  8.77962768e-01,  1.99047327e+00, -1.01559389e+00,\n",
       "        4.54195142e-01, -2.52110958e-01,  4.88547832e-01,  1.10475075e+00,\n",
       "        1.73281097e+00,  1.78320634e+00,  1.45284402e+00, -1.05085388e-01,\n",
       "        1.55221033e+00, -1.42480302e+00,  6.98454022e-01,  7.52862453e-01,\n",
       "       -1.81827140e+00, -1.24825382e+00,  1.18460631e+00,  1.52688134e+00,\n",
       "        1.00072527e+00,  1.75584793e+00,  1.83837724e+00, -2.25422144e+00,\n",
       "        7.82507837e-01, -1.09857738e+00,  3.19284648e-01, -9.82456982e-01,\n",
       "        1.89534295e+00, -2.64766812e+00,  1.82309616e+00,  4.94696081e-01,\n",
       "        9.68492806e-01, -1.67260408e+00, -1.97256851e+00, -4.63027775e-01,\n",
       "       -6.73265040e-01, -1.25769424e+00,  3.03554088e-01,  1.96161973e+00,\n",
       "        3.92474145e-01, -1.71958745e+00, -8.76169503e-01, -6.63521230e-01,\n",
       "        2.60092998e+00, -7.78240681e-01,  9.60782945e-01,  1.20106184e+00,\n",
       "        1.42938304e+00,  2.14928344e-01,  1.43222558e+00, -6.82170331e-01,\n",
       "       -4.19037193e-01, -1.89129150e+00,  5.24691403e-01,  3.05440158e-01,\n",
       "        2.47658923e-01, -3.37442517e-01, -1.08417638e-01, -2.13882208e+00,\n",
       "       -1.29791582e+00,  4.53739196e-01,  1.67676663e+00, -2.65482455e-01,\n",
       "       -1.88126493e+00, -1.19294786e+00, -1.84755564e+00,  3.50193322e-01,\n",
       "        4.38239634e-01, -2.00624895e+00,  1.60679221e+00,  7.75282681e-01,\n",
       "       -8.51706386e-01, -5.76808453e-01,  7.63676286e-01, -5.04155271e-02],\n",
       "      dtype=float32)"
      ]
     },
     "execution_count": 69,
     "metadata": {},
     "output_type": "execute_result"
    }
   ],
   "source": [
    "model[\"homme\"]"
   ]
  },
  {
   "cell_type": "code",
   "execution_count": 70,
   "metadata": {},
   "outputs": [
    {
     "name": "stderr",
     "output_type": "stream",
     "text": [
      "/home-local/pbesse/anaconda3/lib/python3.6/site-packages/ipykernel_launcher.py:1: DeprecationWarning: Call to deprecated `syn0` (Attribute will be removed in 4.0.0, use self.wv.vectors instead).\n",
      "  \"\"\"Entry point for launching an IPython kernel.\n",
      "/home-local/pbesse/anaconda3/lib/python3.6/site-packages/ipykernel_launcher.py:1: DeprecationWarning: Call to deprecated `__getitem__` (Method will be removed in 4.0.0, use self.wv.__getitem__() instead).\n",
      "  \"\"\"Entry point for launching an IPython kernel.\n"
     ]
    },
    {
     "data": {
      "text/plain": [
       "array([ True,  True,  True,  True,  True,  True,  True,  True,  True,\n",
       "        True,  True,  True,  True,  True,  True,  True,  True,  True,\n",
       "        True,  True,  True,  True,  True,  True,  True,  True,  True,\n",
       "        True,  True,  True,  True,  True,  True,  True,  True,  True,\n",
       "        True,  True,  True,  True,  True,  True,  True,  True,  True,\n",
       "        True,  True,  True,  True,  True,  True,  True,  True,  True,\n",
       "        True,  True,  True,  True,  True,  True,  True,  True,  True,\n",
       "        True,  True,  True,  True,  True,  True,  True,  True,  True,\n",
       "        True,  True,  True,  True,  True,  True,  True,  True,  True,\n",
       "        True,  True,  True,  True,  True,  True,  True,  True,  True,\n",
       "        True,  True,  True,  True,  True,  True,  True,  True,  True,\n",
       "        True,  True,  True,  True,  True,  True,  True,  True,  True,\n",
       "        True,  True,  True,  True,  True,  True,  True,  True,  True,\n",
       "        True,  True,  True,  True,  True,  True,  True,  True,  True,\n",
       "        True,  True,  True,  True,  True,  True,  True,  True,  True,\n",
       "        True,  True,  True,  True,  True,  True,  True,  True,  True,\n",
       "        True,  True,  True,  True,  True,  True,  True,  True,  True,\n",
       "        True,  True,  True,  True,  True,  True,  True,  True,  True,\n",
       "        True,  True,  True,  True,  True,  True,  True,  True,  True,\n",
       "        True,  True,  True,  True,  True,  True,  True,  True,  True,\n",
       "        True,  True,  True,  True,  True,  True,  True,  True,  True,\n",
       "        True,  True,  True,  True,  True,  True,  True,  True,  True,\n",
       "        True,  True,  True,  True,  True,  True,  True,  True,  True,\n",
       "        True,  True,  True,  True,  True,  True,  True,  True,  True,\n",
       "        True,  True,  True,  True,  True,  True,  True,  True,  True,\n",
       "        True,  True,  True,  True,  True,  True,  True,  True,  True,\n",
       "        True,  True,  True,  True,  True,  True,  True,  True,  True,\n",
       "        True,  True,  True,  True,  True,  True,  True,  True,  True,\n",
       "        True,  True,  True,  True,  True,  True,  True,  True,  True,\n",
       "        True,  True,  True,  True,  True,  True,  True,  True,  True,\n",
       "        True,  True,  True,  True,  True,  True,  True,  True,  True,\n",
       "        True,  True,  True,  True,  True,  True,  True,  True,  True,\n",
       "        True,  True,  True,  True,  True,  True,  True,  True,  True,\n",
       "        True,  True,  True])"
      ]
     },
     "execution_count": 70,
     "metadata": {},
     "output_type": "execute_result"
    }
   ],
   "source": [
    "model.wv.syn0[model.wv.vocab[\"homme\"].index] == model[\"homme\"]"
   ]
  },
  {
   "cell_type": "code",
   "execution_count": 71,
   "metadata": {},
   "outputs": [
    {
     "name": "stderr",
     "output_type": "stream",
     "text": [
      "/home-local/pbesse/anaconda3/lib/python3.6/site-packages/ipykernel_launcher.py:1: DeprecationWarning: Call to deprecated `syn1neg` (Attribute will be removed in 4.0.0, use self.trainables.syn1neg instead).\n",
      "  \"\"\"Entry point for launching an IPython kernel.\n"
     ]
    },
    {
     "data": {
      "text/plain": [
       "(50130, 300)"
      ]
     },
     "execution_count": 71,
     "metadata": {},
     "output_type": "execute_result"
    }
   ],
   "source": [
    "model.syn1neg.shape"
   ]
  },
  {
   "cell_type": "code",
   "execution_count": 72,
   "metadata": {},
   "outputs": [
    {
     "data": {
      "text/plain": [
       "419"
      ]
     },
     "execution_count": 72,
     "metadata": {},
     "output_type": "execute_result"
    }
   ],
   "source": [
    "vh = model.wv.vocab[\"homme\"]\n",
    "vh.index"
   ]
  },
  {
   "cell_type": "markdown",
   "metadata": {},
   "source": [
    "## 6 Prévision de la catégorie d'un texte.\n",
    "Les diffentes vectorisaiotn sont utilisées et comparées pour entraîner un algorithme d'apprentissage avec de prévoir les catégories de l'échantillon test et mesurer, comparer les erreurs de prévision.\n",
    "\n",
    "Deux algorihtmes sont comparées: la régression logistique et les forêts aléatoires.\n",
    "\n",
    "**Attention** les temps d'exécution sont assez long..."
   ]
  },
  {
   "cell_type": "code",
   "execution_count": 73,
   "metadata": {},
   "outputs": [],
   "source": [
    "from sklearn.linear_model import LogisticRegression\n",
    "from sklearn.ensemble import RandomForestClassifier"
   ]
  },
  {
   "cell_type": "code",
   "execution_count": 74,
   "metadata": {},
   "outputs": [],
   "source": [
    "Y_train = pd.read_csv(\"data/cdiscount_train_subset.csv\").fillna(\"\")[\"Categorie1\"]\n",
    "Y_test = pd.read_csv(\"data/cdiscount_test.csv\").fillna(\"\")[\"Categorie1\"]"
   ]
  },
  {
   "cell_type": "markdown",
   "metadata": {},
   "source": [
    "### 6.1 Régression Logistique\n",
    "#### Comptage, TF-IDF\n",
    "Pour diffrentes valeurs du paramètre de hashage."
   ]
  },
  {
   "cell_type": "code",
   "execution_count": 75,
   "metadata": {
    "scrolled": false
   },
   "outputs": [
    {
     "name": "stdout",
     "output_type": "stream",
     "text": [
      "nb_hash : None, vectorizer : count\n",
      "{'typeW2V': None, 'nb_hash': None, 'vectorizer': 'count', 'learning_time': 65.13592433929443, 'predict_time': 0.19820213317871094, 'score_train': 0.9798105263157895, 'score_test': 0.914}\n",
      "nb_hash : 300, vectorizer : count\n",
      "{'typeW2V': None, 'nb_hash': 300, 'vectorizer': 'count', 'learning_time': 49.47872805595398, 'predict_time': 0.14760994911193848, 'score_train': 0.7227578947368422, 'score_test': 0.7204}\n",
      "nb_hash : 10000, vectorizer : count\n",
      "{'typeW2V': None, 'nb_hash': 10000, 'vectorizer': 'count', 'learning_time': 61.98832631111145, 'predict_time': 0.1789231300354004, 'score_train': 0.9691894736842105, 'score_test': 0.8998}\n",
      "nb_hash : None, vectorizer : tfidf\n",
      "{'typeW2V': None, 'nb_hash': None, 'vectorizer': 'tfidf', 'learning_time': 31.150291442871094, 'predict_time': 0.1954813003540039, 'score_train': 0.9135368421052632, 'score_test': 0.8816}\n",
      "nb_hash : 300, vectorizer : tfidf\n",
      "{'typeW2V': None, 'nb_hash': 300, 'vectorizer': 'tfidf', 'learning_time': 33.21870446205139, 'predict_time': 0.14011120796203613, 'score_train': 0.7166526315789473, 'score_test': 0.7002}\n",
      "nb_hash : 10000, vectorizer : tfidf\n",
      "{'typeW2V': None, 'nb_hash': 10000, 'vectorizer': 'tfidf', 'learning_time': 30.24787473678589, 'predict_time': 0.1816082000732422, 'score_train': 0.9021473684210526, 'score_test': 0.8692}\n"
     ]
    }
   ],
   "source": [
    "DATA_DIR = \"data/features\"\n",
    "from scipy import sparse\n",
    "metadata_list_lr = []\n",
    "parameters = [[None, \"count\"],\n",
    "              [300, \"count\"],\n",
    "              [10000, \"count\"],\n",
    "              [None, \"tfidf\"],\n",
    "              [300, \"tfidf\"],\n",
    "              [10000, \"tfidf\"],]\n",
    "\n",
    "for nb_hash, vectorizer in parameters:\n",
    "    print(\"nb_hash : \" + str(nb_hash) + \", vectorizer : \" + str(vectorizer))\n",
    "    X_train = sparse.load_npz(DATA_DIR +\"/vec_train_nb_hash_\" + str(nb_hash) + \"_vectorizer_\" + str(vectorizer)+\".npz\")\n",
    "    X_test = sparse.load_npz(DATA_DIR +\"/vec_test_nb_hash_\" + str(nb_hash) + \"_vectorizer_\" + str(vectorizer)+\".npz\")\n",
    "    ts = time.time()\n",
    "    cla = LogisticRegression()\n",
    "    cla.fit(X_train,Y_train.values)\n",
    "    te=time.time()\n",
    "    t_learning = te-ts\n",
    "    ts = time.time()\n",
    "    score_train=cla.score(X_train,Y_train)\n",
    "    score_test=cla.score(X_test,Y_test)\n",
    "    te=time.time()\n",
    "    t_predict = te-ts\n",
    "    metadata = {\"typeW2V\": None, \"nb_hash\": nb_hash, \"vectorizer\":vectorizer , \"learning_time\" : t_learning, \"predict_time\":t_predict, \"score_train\": score_train, \"score_test\": score_test}\n",
    "    print(metadata)\n",
    "    metadata_list_lr.append(metadata)\n",
    "       "
   ]
  },
  {
   "cell_type": "markdown",
   "metadata": {},
   "source": [
    "#### Modèles `word2vec`"
   ]
  },
  {
   "cell_type": "code",
   "execution_count": 76,
   "metadata": {
    "scrolled": true
   },
   "outputs": [
    {
     "name": "stdout",
     "output_type": "stream",
     "text": [
      "Word2Vec :CBOW\n",
      "{'typeW2V': 'CBOW', 'nb_hash': None, 'vectorizer': 'word2vec', 'learning_time': 670.9561214447021, 'predict_time': 0.20766019821166992, 'score_train': 0.8033157894736842, 'score_test': 0.803}\n",
      "Word2Vec :skip-gram\n",
      "{'typeW2V': 'skip-gram', 'nb_hash': None, 'vectorizer': 'word2vec', 'learning_time': 335.552494764328, 'predict_time': 0.20557069778442383, 'score_train': 0.8485473684210526, 'score_test': 0.8444}\n",
      "Word2Vec :online\n",
      "{'typeW2V': 'online', 'nb_hash': None, 'vectorizer': 'word2vec', 'learning_time': 677.8662822246552, 'predict_time': 0.17679381370544434, 'score_train': 0.7748526315789473, 'score_test': 0.7644}\n"
     ]
    }
   ],
   "source": [
    "for model_name in [\"CBOW\",\"skip-gram\", \"online\"]:\n",
    "    print(\"Word2Vec :\" + model_name)\n",
    "\n",
    "    X_train = np.load(DATA_DIR +\"/embedded_train_nb_hash_\" + model_name+\".npy\")\n",
    "    X_test = np.load(DATA_DIR +\"/embedded_test_nb_hash_\" + model_name+\".npy\")\n",
    "    \n",
    "    ts = time.time()\n",
    "    cla = LogisticRegression()\n",
    "    cla.fit(X_train,Y_train.values)\n",
    "    te=time.time()\n",
    "    t_learning = te-ts\n",
    "    ts = time.time()\n",
    "    score_train=cla.score(X_train,Y_train)\n",
    "    score_test=cla.score(X_test,Y_test)\n",
    "    te=time.time()\n",
    "    t_predict = te-ts\n",
    "    metadata = {\"typeW2V\": model_name ,\"nb_hash\": None, \"vectorizer\":\"word2vec\" ,\"learning_time\" : t_learning, \"predict_time\":t_predict, \"score_train\": score_train, \"score_test\": score_test}\n",
    "    print(metadata)\n",
    "    metadata_list_lr.append(metadata)\n"
   ]
  },
  {
   "cell_type": "code",
   "execution_count": 77,
   "metadata": {},
   "outputs": [
    {
     "data": {
      "text/plain": [
       "(95000, 300)"
      ]
     },
     "execution_count": 77,
     "metadata": {},
     "output_type": "execute_result"
    }
   ],
   "source": [
    "np.load(\"data/features/embedded_train_nb_hash_CBOW.npy\").shape"
   ]
  },
  {
   "cell_type": "markdown",
   "metadata": {},
   "source": [
    "#### Comparaison des résultats"
   ]
  },
  {
   "cell_type": "code",
   "execution_count": 78,
   "metadata": {},
   "outputs": [
    {
     "data": {
      "text/html": [
       "<div>\n",
       "<style scoped>\n",
       "    .dataframe tbody tr th:only-of-type {\n",
       "        vertical-align: middle;\n",
       "    }\n",
       "\n",
       "    .dataframe tbody tr th {\n",
       "        vertical-align: top;\n",
       "    }\n",
       "\n",
       "    .dataframe thead th {\n",
       "        text-align: right;\n",
       "    }\n",
       "</style>\n",
       "<table border=\"1\" class=\"dataframe\">\n",
       "  <thead>\n",
       "    <tr style=\"text-align: right;\">\n",
       "      <th></th>\n",
       "      <th>learning_time</th>\n",
       "      <th>nb_hash</th>\n",
       "      <th>predict_time</th>\n",
       "      <th>score_test</th>\n",
       "      <th>score_train</th>\n",
       "      <th>typeW2V</th>\n",
       "      <th>vectorizer</th>\n",
       "    </tr>\n",
       "  </thead>\n",
       "  <tbody>\n",
       "    <tr>\n",
       "      <th>0</th>\n",
       "      <td>65.135924</td>\n",
       "      <td>NaN</td>\n",
       "      <td>0.198202</td>\n",
       "      <td>0.9140</td>\n",
       "      <td>0.979811</td>\n",
       "      <td>None</td>\n",
       "      <td>count</td>\n",
       "    </tr>\n",
       "    <tr>\n",
       "      <th>1</th>\n",
       "      <td>49.478728</td>\n",
       "      <td>300.0</td>\n",
       "      <td>0.147610</td>\n",
       "      <td>0.7204</td>\n",
       "      <td>0.722758</td>\n",
       "      <td>None</td>\n",
       "      <td>count</td>\n",
       "    </tr>\n",
       "    <tr>\n",
       "      <th>2</th>\n",
       "      <td>61.988326</td>\n",
       "      <td>10000.0</td>\n",
       "      <td>0.178923</td>\n",
       "      <td>0.8998</td>\n",
       "      <td>0.969189</td>\n",
       "      <td>None</td>\n",
       "      <td>count</td>\n",
       "    </tr>\n",
       "    <tr>\n",
       "      <th>3</th>\n",
       "      <td>31.150291</td>\n",
       "      <td>NaN</td>\n",
       "      <td>0.195481</td>\n",
       "      <td>0.8816</td>\n",
       "      <td>0.913537</td>\n",
       "      <td>None</td>\n",
       "      <td>tfidf</td>\n",
       "    </tr>\n",
       "    <tr>\n",
       "      <th>4</th>\n",
       "      <td>33.218704</td>\n",
       "      <td>300.0</td>\n",
       "      <td>0.140111</td>\n",
       "      <td>0.7002</td>\n",
       "      <td>0.716653</td>\n",
       "      <td>None</td>\n",
       "      <td>tfidf</td>\n",
       "    </tr>\n",
       "    <tr>\n",
       "      <th>5</th>\n",
       "      <td>30.247875</td>\n",
       "      <td>10000.0</td>\n",
       "      <td>0.181608</td>\n",
       "      <td>0.8692</td>\n",
       "      <td>0.902147</td>\n",
       "      <td>None</td>\n",
       "      <td>tfidf</td>\n",
       "    </tr>\n",
       "    <tr>\n",
       "      <th>6</th>\n",
       "      <td>670.956121</td>\n",
       "      <td>NaN</td>\n",
       "      <td>0.207660</td>\n",
       "      <td>0.8030</td>\n",
       "      <td>0.803316</td>\n",
       "      <td>CBOW</td>\n",
       "      <td>word2vec</td>\n",
       "    </tr>\n",
       "    <tr>\n",
       "      <th>7</th>\n",
       "      <td>335.552495</td>\n",
       "      <td>NaN</td>\n",
       "      <td>0.205571</td>\n",
       "      <td>0.8444</td>\n",
       "      <td>0.848547</td>\n",
       "      <td>skip-gram</td>\n",
       "      <td>word2vec</td>\n",
       "    </tr>\n",
       "    <tr>\n",
       "      <th>8</th>\n",
       "      <td>677.866282</td>\n",
       "      <td>NaN</td>\n",
       "      <td>0.176794</td>\n",
       "      <td>0.7644</td>\n",
       "      <td>0.774853</td>\n",
       "      <td>online</td>\n",
       "      <td>word2vec</td>\n",
       "    </tr>\n",
       "  </tbody>\n",
       "</table>\n",
       "</div>"
      ],
      "text/plain": [
       "   learning_time  nb_hash  predict_time  score_test  score_train    typeW2V  \\\n",
       "0      65.135924      NaN      0.198202      0.9140     0.979811       None   \n",
       "1      49.478728    300.0      0.147610      0.7204     0.722758       None   \n",
       "2      61.988326  10000.0      0.178923      0.8998     0.969189       None   \n",
       "3      31.150291      NaN      0.195481      0.8816     0.913537       None   \n",
       "4      33.218704    300.0      0.140111      0.7002     0.716653       None   \n",
       "5      30.247875  10000.0      0.181608      0.8692     0.902147       None   \n",
       "6     670.956121      NaN      0.207660      0.8030     0.803316       CBOW   \n",
       "7     335.552495      NaN      0.205571      0.8444     0.848547  skip-gram   \n",
       "8     677.866282      NaN      0.176794      0.7644     0.774853     online   \n",
       "\n",
       "  vectorizer  \n",
       "0      count  \n",
       "1      count  \n",
       "2      count  \n",
       "3      tfidf  \n",
       "4      tfidf  \n",
       "5      tfidf  \n",
       "6   word2vec  \n",
       "7   word2vec  \n",
       "8   word2vec  "
      ]
     },
     "execution_count": 78,
     "metadata": {},
     "output_type": "execute_result"
    }
   ],
   "source": [
    "pd.DataFrame(metadata_list_lr)"
   ]
  },
  {
   "cell_type": "markdown",
   "metadata": {},
   "source": [
    "### 6.2 Forêt aléatoire\n",
    "#### Comptage, TF-IDF"
   ]
  },
  {
   "cell_type": "code",
   "execution_count": 79,
   "metadata": {},
   "outputs": [
    {
     "name": "stdout",
     "output_type": "stream",
     "text": [
      "nb_hash : None, vectorizer : count\n",
      "{'typeW2V': None, 'nb_hash': None, 'vectorizer': 'count', 'learning_time': 327.5895047187805, 'predict_time': 10.15555453300476, 'score_train': 0.9986105263157895, 'score_test': 0.8602}\n",
      "nb_hash : 300, vectorizer : count\n",
      "{'typeW2V': None, 'nb_hash': 300, 'vectorizer': 'count', 'learning_time': 232.68977999687195, 'predict_time': 7.05583643913269, 'score_train': 0.9983473684210526, 'score_test': 0.7764}\n",
      "nb_hash : 10000, vectorizer : count\n",
      "{'typeW2V': None, 'nb_hash': 10000, 'vectorizer': 'count', 'learning_time': 178.50815987586975, 'predict_time': 12.53907036781311, 'score_train': 0.9986105263157895, 'score_test': 0.8532}\n",
      "nb_hash : None, vectorizer : tfidf\n",
      "{'typeW2V': None, 'nb_hash': None, 'vectorizer': 'tfidf', 'learning_time': 281.47816038131714, 'predict_time': 9.822337627410889, 'score_train': 0.9986105263157895, 'score_test': 0.8484}\n",
      "nb_hash : 300, vectorizer : tfidf\n",
      "{'typeW2V': None, 'nb_hash': 300, 'vectorizer': 'tfidf', 'learning_time': 244.05101203918457, 'predict_time': 7.086122274398804, 'score_train': 0.9983263157894737, 'score_test': 0.7518}\n",
      "nb_hash : 10000, vectorizer : tfidf\n",
      "{'typeW2V': None, 'nb_hash': 10000, 'vectorizer': 'tfidf', 'learning_time': 165.73366260528564, 'predict_time': 11.750303745269775, 'score_train': 0.9986105263157895, 'score_test': 0.8318}\n"
     ]
    }
   ],
   "source": [
    "from sklearn.ensemble import RandomForestClassifier\n",
    "metadata_list_rf = []\n",
    "\n",
    "parameters = [[None, \"count\"],\n",
    "              [300, \"count\"],\n",
    "              [10000, \"count\"],\n",
    "              [None, \"tfidf\"],\n",
    "              [300, \"tfidf\"],\n",
    "              [10000, \"tfidf\"],]\n",
    "\n",
    "for nb_hash, vectorizer in parameters:\n",
    "    print(\"nb_hash : \" + str(nb_hash) + \", vectorizer : \" + str(vectorizer))\n",
    "    X_train = sparse.load_npz(DATA_DIR +\"/vec_train_nb_hash_\" + str(nb_hash) + \"_vectorizer_\" + str(vectorizer)+\".npz\")\n",
    "    X_test = sparse.load_npz(DATA_DIR +\"/vec_test_nb_hash_\" + str(nb_hash) + \"_vectorizer_\" + str(vectorizer)+\".npz\")\n",
    "    ts = time.time()\n",
    "    cla = RandomForestClassifier(n_estimators=100)\n",
    "    cla.fit(X_train,Y_train.values)\n",
    "    te=time.time()\n",
    "    t_learning = te-ts\n",
    "    ts = time.time()\n",
    "    score_train=cla.score(X_train,Y_train)\n",
    "    score_test=cla.score(X_test,Y_test)\n",
    "    te=time.time()\n",
    "    t_predict = te-ts\n",
    "    metadata = {\"typeW2V\": None, \"nb_hash\": nb_hash, \"vectorizer\":vectorizer , \"learning_time\" : t_learning, \"predict_time\":t_predict, \"score_train\": score_train, \"score_test\": score_test}\n",
    "    print(metadata)\n",
    "    metadata_list_rf.append(metadata)"
   ]
  },
  {
   "cell_type": "markdown",
   "metadata": {},
   "source": [
    "#### Modèles `word2vec`"
   ]
  },
  {
   "cell_type": "code",
   "execution_count": 80,
   "metadata": {},
   "outputs": [
    {
     "name": "stdout",
     "output_type": "stream",
     "text": [
      "Word2Vec :CBOW\n",
      "{'typeW2V': 'CBOW', 'nb_hash': None, 'vectorizer': 'word2vec', 'learning_time': 312.74807119369507, 'predict_time': 5.1883766651153564, 'score_train': 0.9986105263157895, 'score_test': 0.8272}\n",
      "Word2Vec :skip-gram\n",
      "{'typeW2V': 'skip-gram', 'nb_hash': None, 'vectorizer': 'word2vec', 'learning_time': 319.6912479400635, 'predict_time': 5.19452691078186, 'score_train': 0.9986, 'score_test': 0.852}\n",
      "Word2Vec :online\n",
      "{'typeW2V': 'online', 'nb_hash': None, 'vectorizer': 'word2vec', 'learning_time': 275.69942927360535, 'predict_time': 5.738198518753052, 'score_train': 0.9912526315789474, 'score_test': 0.7442}\n"
     ]
    }
   ],
   "source": [
    "for model_name in [\"CBOW\",\"skip-gram\", \"online\"]:\n",
    "    print(\"Word2Vec :\" + model_name)\n",
    "\n",
    "    X_train = np.load(DATA_DIR +\"/embedded_train_nb_hash_\" + model_name+\".npy\")\n",
    "    X_test = np.load(DATA_DIR +\"/embedded_test_nb_hash_\" + model_name+\".npy\")\n",
    "    \n",
    "    ts = time.time()\n",
    "    cla = RandomForestClassifier(n_estimators=100)\n",
    "    cla.fit(X_train,Y_train.values)\n",
    "    te=time.time()\n",
    "    t_learning = te-ts\n",
    "    ts = time.time()\n",
    "    score_train=cla.score(X_train,Y_train)\n",
    "    score_test=cla.score(X_test,Y_test)\n",
    "    te=time.time()\n",
    "    t_predict = te-ts\n",
    "    metadata = {\"typeW2V\": model_name ,\"nb_hash\": None, \"vectorizer\":\"word2vec\" ,\"learning_time\" : t_learning, \"predict_time\":t_predict, \"score_train\": score_train, \"score_test\": score_test}\n",
    "    print(metadata)\n",
    "    metadata_list_rf.append(metadata)\n"
   ]
  },
  {
   "cell_type": "markdown",
   "metadata": {},
   "source": [
    "#### Comparaison des résultats"
   ]
  },
  {
   "cell_type": "code",
   "execution_count": 81,
   "metadata": {},
   "outputs": [
    {
     "data": {
      "text/html": [
       "<div>\n",
       "<style scoped>\n",
       "    .dataframe tbody tr th:only-of-type {\n",
       "        vertical-align: middle;\n",
       "    }\n",
       "\n",
       "    .dataframe tbody tr th {\n",
       "        vertical-align: top;\n",
       "    }\n",
       "\n",
       "    .dataframe thead th {\n",
       "        text-align: right;\n",
       "    }\n",
       "</style>\n",
       "<table border=\"1\" class=\"dataframe\">\n",
       "  <thead>\n",
       "    <tr style=\"text-align: right;\">\n",
       "      <th></th>\n",
       "      <th>learning_time</th>\n",
       "      <th>nb_hash</th>\n",
       "      <th>predict_time</th>\n",
       "      <th>score_test</th>\n",
       "      <th>score_train</th>\n",
       "      <th>typeW2V</th>\n",
       "      <th>vectorizer</th>\n",
       "    </tr>\n",
       "  </thead>\n",
       "  <tbody>\n",
       "    <tr>\n",
       "      <th>0</th>\n",
       "      <td>65.135924</td>\n",
       "      <td>NaN</td>\n",
       "      <td>0.198202</td>\n",
       "      <td>0.9140</td>\n",
       "      <td>0.979811</td>\n",
       "      <td>None</td>\n",
       "      <td>count</td>\n",
       "    </tr>\n",
       "    <tr>\n",
       "      <th>1</th>\n",
       "      <td>49.478728</td>\n",
       "      <td>300.0</td>\n",
       "      <td>0.147610</td>\n",
       "      <td>0.7204</td>\n",
       "      <td>0.722758</td>\n",
       "      <td>None</td>\n",
       "      <td>count</td>\n",
       "    </tr>\n",
       "    <tr>\n",
       "      <th>2</th>\n",
       "      <td>61.988326</td>\n",
       "      <td>10000.0</td>\n",
       "      <td>0.178923</td>\n",
       "      <td>0.8998</td>\n",
       "      <td>0.969189</td>\n",
       "      <td>None</td>\n",
       "      <td>count</td>\n",
       "    </tr>\n",
       "    <tr>\n",
       "      <th>3</th>\n",
       "      <td>31.150291</td>\n",
       "      <td>NaN</td>\n",
       "      <td>0.195481</td>\n",
       "      <td>0.8816</td>\n",
       "      <td>0.913537</td>\n",
       "      <td>None</td>\n",
       "      <td>tfidf</td>\n",
       "    </tr>\n",
       "    <tr>\n",
       "      <th>4</th>\n",
       "      <td>33.218704</td>\n",
       "      <td>300.0</td>\n",
       "      <td>0.140111</td>\n",
       "      <td>0.7002</td>\n",
       "      <td>0.716653</td>\n",
       "      <td>None</td>\n",
       "      <td>tfidf</td>\n",
       "    </tr>\n",
       "    <tr>\n",
       "      <th>5</th>\n",
       "      <td>30.247875</td>\n",
       "      <td>10000.0</td>\n",
       "      <td>0.181608</td>\n",
       "      <td>0.8692</td>\n",
       "      <td>0.902147</td>\n",
       "      <td>None</td>\n",
       "      <td>tfidf</td>\n",
       "    </tr>\n",
       "    <tr>\n",
       "      <th>6</th>\n",
       "      <td>670.956121</td>\n",
       "      <td>NaN</td>\n",
       "      <td>0.207660</td>\n",
       "      <td>0.8030</td>\n",
       "      <td>0.803316</td>\n",
       "      <td>CBOW</td>\n",
       "      <td>word2vec</td>\n",
       "    </tr>\n",
       "    <tr>\n",
       "      <th>7</th>\n",
       "      <td>335.552495</td>\n",
       "      <td>NaN</td>\n",
       "      <td>0.205571</td>\n",
       "      <td>0.8444</td>\n",
       "      <td>0.848547</td>\n",
       "      <td>skip-gram</td>\n",
       "      <td>word2vec</td>\n",
       "    </tr>\n",
       "    <tr>\n",
       "      <th>8</th>\n",
       "      <td>677.866282</td>\n",
       "      <td>NaN</td>\n",
       "      <td>0.176794</td>\n",
       "      <td>0.7644</td>\n",
       "      <td>0.774853</td>\n",
       "      <td>online</td>\n",
       "      <td>word2vec</td>\n",
       "    </tr>\n",
       "  </tbody>\n",
       "</table>\n",
       "</div>"
      ],
      "text/plain": [
       "   learning_time  nb_hash  predict_time  score_test  score_train    typeW2V  \\\n",
       "0      65.135924      NaN      0.198202      0.9140     0.979811       None   \n",
       "1      49.478728    300.0      0.147610      0.7204     0.722758       None   \n",
       "2      61.988326  10000.0      0.178923      0.8998     0.969189       None   \n",
       "3      31.150291      NaN      0.195481      0.8816     0.913537       None   \n",
       "4      33.218704    300.0      0.140111      0.7002     0.716653       None   \n",
       "5      30.247875  10000.0      0.181608      0.8692     0.902147       None   \n",
       "6     670.956121      NaN      0.207660      0.8030     0.803316       CBOW   \n",
       "7     335.552495      NaN      0.205571      0.8444     0.848547  skip-gram   \n",
       "8     677.866282      NaN      0.176794      0.7644     0.774853     online   \n",
       "\n",
       "  vectorizer  \n",
       "0      count  \n",
       "1      count  \n",
       "2      count  \n",
       "3      tfidf  \n",
       "4      tfidf  \n",
       "5      tfidf  \n",
       "6   word2vec  \n",
       "7   word2vec  \n",
       "8   word2vec  "
      ]
     },
     "execution_count": 81,
     "metadata": {},
     "output_type": "execute_result"
    }
   ],
   "source": [
    "pd.DataFrame(metadata_list_lr)"
   ]
  },
  {
   "cell_type": "markdown",
   "metadata": {},
   "source": [
    "#### Conclusion ??"
   ]
  }
 ],
 "metadata": {
  "anaconda-cloud": {},
  "hide_input": false,
  "kernelspec": {
   "display_name": "Python 3",
   "language": "python",
   "name": "python3"
  },
  "language_info": {
   "codemirror_mode": {
    "name": "ipython",
    "version": 3
   },
   "file_extension": ".py",
   "mimetype": "text/x-python",
   "name": "python",
   "nbconvert_exporter": "python",
   "pygments_lexer": "ipython3",
   "version": "3.6.6"
  },
  "toc": {
   "nav_menu": {
    "height": "279px",
    "width": "252px"
   },
   "number_sections": true,
   "sideBar": true,
   "skip_h1_title": false,
   "toc_cell": false,
   "toc_position": {},
   "toc_section_display": "block",
   "toc_window_display": true
  }
 },
 "nbformat": 4,
 "nbformat_minor": 1
}
